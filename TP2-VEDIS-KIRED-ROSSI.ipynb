{
 "metadata": {
  "language_info": {
   "codemirror_mode": {
    "name": "ipython",
    "version": 3
   },
   "file_extension": ".py",
   "mimetype": "text/x-python",
   "name": "python",
   "nbconvert_exporter": "python",
   "pygments_lexer": "ipython3",
   "version": "3.7.9-final"
  },
  "orig_nbformat": 2,
  "kernelspec": {
   "name": "python3",
   "display_name": "Python 3",
   "language": "python"
  }
 },
 "nbformat": 4,
 "nbformat_minor": 2,
 "cells": [
  {
   "source": [
    "# TP 2 - EXTRACTION DE L'INFORMATION : VIDEO\n",
    "\n",
    "Nour Elhouda KIRED -\n",
    "Valentine ROSSI -\n",
    "Théo VEDIS"
   ],
   "cell_type": "markdown",
   "metadata": {}
  },
  {
   "cell_type": "code",
   "execution_count": 1,
   "metadata": {},
   "outputs": [
    {
     "output_type": "stream",
     "name": "stdout",
     "text": [
      "Requirement already satisfied: tqdm in c:\\users\\stior\\anaconda3\\lib\\site-packages (4.54.1)\n"
     ]
    }
   ],
   "source": [
    "import matplotlib.pyplot as plt\n",
    "import numpy as np\n",
    "!pip install tqdm\n",
    "# from tqdm.notebook import tqdm # permet l'affiche d'une barre de chargement\n",
    "# Si ca ne marche pas\n",
    "from tqdm import tqdm"
   ]
  },
  {
   "cell_type": "code",
   "execution_count": 2,
   "metadata": {},
   "outputs": [],
   "source": [
    "# Récupération des fonctions du TP1\n",
    "def quantificationV2(img, nb=2, nbbit=8):\n",
    "    imgQuantif = []\n",
    "    for i in range(len(img)):\n",
    "        imgQuantif.append([])\n",
    "        for j in range(len(img[i])):\n",
    "            imgQuantif[i].append(0)\n",
    "            for k in range(len(img[i][j])):\n",
    "                imgQuantif[i][j] += (img[i][j][k] >> (nbbit - nb)) << (nb*(2-k))\n",
    "\n",
    "    return np.array(imgQuantif)\n",
    "\n",
    "def histogramme(img, nb=6):\n",
    "    \"\"\"\n",
    "        Prend une image quantifiée en entrée!\n",
    "        nb = nombre de bits total pour les canaux\n",
    "    \"\"\"\n",
    "    histo = np.zeros(2**nb, dtype=int)\n",
    "    for line in img:\n",
    "        for i in line:\n",
    "            histo[i] += 1\n",
    "    return histo\n",
    "\n",
    "def indexation(images, nb=2, nbCanaux=3):\n",
    "    histos = {}\n",
    "    for key, img in tqdm(images.items()):\n",
    "        histos[key] = (histogramme(quantificationV2(img, nb=nb), nb=nb*nbCanaux))\n",
    "    return histos\n",
    "\n",
    "def distanceHisto(h1, h2):\n",
    "    \"\"\"\n",
    "        Renvoie la distance de Manhattan entre 2 histogrammes\n",
    "    \"\"\"\n",
    "    val = 0\n",
    "    for i in range(len(h1)):\n",
    "        val += min(h1[i], h2[i])\n",
    "    return val\n",
    "\n",
    "def dstIntersect(histos, fct=distanceHisto):\n",
    "    \"\"\"\n",
    "        Renvoie la matrice des distances entre 2 histogrammes de type intersection d'histogrammes\n",
    "    \"\"\"\n",
    "    dst = {}\n",
    "    for key1, histo1  in histos.items():\n",
    "        dst[key1] = {}\n",
    "        for key2, histo2 in histos.items():\n",
    "            if key1 != key2:\n",
    "                dst[key1][key2] = fct(histos[key1], histos[key2])\n",
    "            else:\n",
    "                dst[key1][key2] = 0\n",
    "    return dst"
   ]
  },
  {
   "cell_type": "code",
   "execution_count": 3,
   "metadata": {
    "tags": []
   },
   "outputs": [],
   "source": [
    "# Lecture des images\n",
    "images_paths = [\"./Images_Groland/\" + f for f in os.listdir(\"./Images_Groland/\") if f[-4:] == \".jpg\"]\n",
    "images = {}\n",
    "for path in images_paths:\n",
    "    images[path[len(\"./Images_Groland/\"):-4]] = plt.imread(path)\n"
   ]
  },
  {
   "source": [
    "### Question 1-a"
   ],
   "cell_type": "markdown",
   "metadata": {}
  },
  {
   "cell_type": "code",
   "execution_count": 4,
   "metadata": {
    "tags": []
   },
   "outputs": [
    {
     "output_type": "stream",
     "name": "stderr",
     "text": [
      "100%|██████████| 795/795 [06:10<00:00,  2.15it/s]\n"
     ]
    }
   ],
   "source": [
    "#  Dictionnaire contenant les histogrammes des images quantifiées sur 2 bits de poids fort\n",
    "histos = indexation(images, 2)"
   ]
  },
  {
   "source": [
    "### Question 1-b,c"
   ],
   "cell_type": "markdown",
   "metadata": {}
  },
  {
   "cell_type": "code",
   "execution_count": 5,
   "metadata": {},
   "outputs": [
    {
     "output_type": "stream",
     "name": "stdout",
     "text": [
      "16789.0\n"
     ]
    }
   ],
   "source": [
    "def distManhattan(h1, h2):\n",
    "    \"\"\"\n",
    "        Calcul la distance de manhattan entre 2 histogrammes\n",
    "    \"\"\"\n",
    "    return np.sum(np.abs(h1-h2))\n",
    "\n",
    "def dst2a2(histos):\n",
    "    \"\"\"\n",
    "        Entrée <== Le dictionnaire contenant les histogrammes de chaque image\n",
    "        Sortie ==> Le dictionnaire contenant les distances entre un histogramme et l'histogramme suivant\n",
    "    \"\"\"\n",
    "    dst = {}\n",
    "    for i in range(len(histos) - 1):\n",
    "        dst[list(histos.keys())[i]] = distManhattan(histos[list(histos.keys())[i]], histos[list(histos.keys())[i+1]])\n",
    "    return dst\n",
    "\n",
    "dst = dst2a2(histos)\n",
    "\n",
    "# On fixe le nombre de plans à 7 (déduit en regardant le film).\n",
    "nbPlan = 7\n",
    "seuil = sum(sorted(dst.values(), key=lambda x: -x)[nbPlan-1:nbPlan+1])/2\n",
    "# Moyenne entre la 7 eme et la 8eme plus grosse valeur\n",
    "print(seuil)\n"
   ]
  },
  {
   "source": [
    "### Question 1-d"
   ],
   "cell_type": "markdown",
   "metadata": {}
  },
  {
   "cell_type": "code",
   "execution_count": 6,
   "metadata": {},
   "outputs": [
    {
     "output_type": "display_data",
     "data": {
      "text/plain": "[('Groland 001', 'Groland 115'),\n ('Groland 116', 'Groland 232'),\n ('Groland 233', 'Groland 402'),\n ('Groland 403', 'Groland 463'),\n ('Groland 464', 'Groland 612'),\n ('Groland 613', 'Groland 670'),\n ('Groland 671', 'Groland 710'),\n ('Groland 711', 'Groland 794')]"
     },
     "metadata": {}
    },
    {
     "output_type": "display_data",
     "data": {
      "text/plain": "['Groland 058',\n 'Groland 174',\n 'Groland 317',\n 'Groland 433',\n 'Groland 538',\n 'Groland 641',\n 'Groland 690',\n 'Groland 752']"
     },
     "metadata": {}
    }
   ],
   "source": [
    "groupes = []\n",
    "deb = 0\n",
    "for i in range(len(dst)):\n",
    "    if dst[list(dst.keys())[i]] > seuil:\n",
    "        groupes.append((list(dst.keys())[deb], list(dst.keys())[i]))\n",
    "        deb = i+1\n",
    "\n",
    "groupes.append((list(dst.keys())[deb],list(dst.keys())[-1]))\n",
    "# Affichage des Images encadrant les plans\n",
    "display(groupes)\n",
    "\n",
    "\n",
    "imgMed = []\n",
    "for a, b in groupes:\n",
    "    name = str((int(a[8:]) + int(b[8:])) // 2)\n",
    "    while len(name) < 3:\n",
    "        name = '0' + name\n",
    "    imgMed.append('Groland ' + name)\n",
    "\n",
    "# Affichage des images médianes de chaque plan\n",
    "display(imgMed)"
   ]
  },
  {
   "source": [
    "### Question 2"
   ],
   "cell_type": "markdown",
   "metadata": {}
  },
  {
   "cell_type": "code",
   "execution_count": 7,
   "metadata": {},
   "outputs": [
    {
     "output_type": "stream",
     "name": "stdout",
     "text": [
      "Groland 317 | Groland 752\nGroland 433 | Groland 690\nGroland 538 | Groland 690\nGroland 690 | Groland 433\nGroland 690 | Groland 538\nGroland 752 | Groland 317\n\nNum des images médianes regroupées : {'Groland 317', 'Groland 752'} {'Groland 538', 'Groland 690', 'Groland 433'}\n"
     ]
    }
   ],
   "source": [
    "dstMed = {}\n",
    "for i in imgMed:\n",
    "    dstMed[i] = {}\n",
    "    for j in imgMed:\n",
    "        if i != j:\n",
    "            dstMed[i][j] = distManhattan(histos[i], histos[j])\n",
    "\n",
    "# dstMad => Distance entre les images médianes de chaque plan\n",
    "\n",
    "# print(dstMed)\n",
    "couples = []\n",
    "seuil = 10000\n",
    "for i, distances in dstMed.items():\n",
    "    for j, d in distances.items():\n",
    "        if d < seuil:\n",
    "            print(i, \"|\", j)\n",
    "            couples.append((i, j))\n",
    "\n",
    "sequences = []\n",
    "# couples.insert(2, (\"Groland 538\", \"Groland 431\")) # Test dans un cas où les couples sont disjoints\n",
    "for i in couples:\n",
    "    isAdd = False\n",
    "    fusion = []\n",
    "    for sq, j in zip(sequences, range(len(sequences))):\n",
    "        if (i[0] in sq or i[1] in sq):\n",
    "            sq.add(i[0])\n",
    "            sq.add(i[1])\n",
    "            fusion.append((j, sq))\n",
    "            isAdd = True\n",
    "    if not isAdd:\n",
    "        sequences.append(set())\n",
    "        sequences[-1].add(i[0])\n",
    "        sequences[-1].add(i[1])\n",
    "    if len(fusion) > 1:\n",
    "        nSq = set()\n",
    "        count = 0\n",
    "        for j in fusion:\n",
    "            nSq = nSq.union(j[1])\n",
    "            sequences.pop(j[0] - count)\n",
    "            count += 1\n",
    "        sequences.append(nSq)\n",
    "\n",
    "# Regroupement des plans selon 2 sequences:\n",
    "print(\"\\nNum des images médianes regroupées :\", *sequences)"
   ]
  }
 ]
}

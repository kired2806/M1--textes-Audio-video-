{
  "nbformat": 4,
  "nbformat_minor": 0,
  "metadata": {
    "colab": {
      "name": "Copie de TP2_M1_TVA_Textes.ipynb",
      "provenance": [],
      "collapsed_sections": []
    },
    "kernelspec": {
      "name": "python3",
      "display_name": "Python 3"
    }
  },
  "cells": [
    {
      "cell_type": "markdown",
      "metadata": {
        "id": "INldvbQLxZH0"
      },
      "source": [
        "Université Paul Sabatier\n",
        "\n",
        "EIMAB3H1 - Analyse et exploitation de données\n",
        "\n",
        "Enseignant : **José G. Moreno**"
      ]
    },
    {
      "cell_type": "markdown",
      "metadata": {
        "id": "Cf4F4zWIxbVx"
      },
      "source": [
        "## TP 2. Extraction d'information sur documents textuels (2/3)\n",
        "III - L'usage de méthodes statistiques\n",
        "Les règles peuvent nous rapporter des informations fausses ou ignorer certains usages (le dernier est le\n",
        "plus fréquent). Les méthodes d'apprentissage statistiques sont couramment utilisés pour identifier\n",
        "correctement les entités nommées. Pour le faire, ces méthodes utilisent plusieurs informations comme\n",
        "le contexte ou l'information syntactique dans laquelle un mot apparaît. L'avantage de ces méthodes est\n",
        "qu'ils n'utilisent pas des règles prédéfinies et ils s'adaptant plus facilement à des nouveaux documents.\n",
        "Leur principal inconvénient est le coût de générer des annotations fiables pour l'étape d'apprentissage."
      ]
    },
    {
      "cell_type": "markdown",
      "metadata": {
        "id": "9cRx0WI7x3M2"
      },
      "source": [
        "### I - Utilisation de méthodes statistiques\n",
        "Nous allons utiliser la méthode de reconnaissances d’entités nommées implémenté sur nltk. Pour le\n",
        "faire, nous allons utiliser des phrases dans lesquelles au moins un pays est mentionné. Voici le code\n",
        "pour récupérer la liste de pays (comme dans le TP1) :\n"
      ]
    },
    {
      "cell_type": "code",
      "metadata": {
        "id": "xubz2Rljxa1d",
        "outputId": "c104822c-b82f-4795-c945-b55eb01f1975",
        "colab": {
          "base_uri": "https://localhost:8080/"
        }
      },
      "source": [
        "!wget https://dumps.wikimedia.org/simplewiki/20200901/simplewiki-20200901-pages-articles.xml.bz2\n",
        "!bzip2 -d simplewiki-20200901-pages-articles.xml.bz2\n",
        "! echo \"<mediawiki>\" > simplewiki-20200901-pages-articles.xml.clean\n",
        "! tail -n +2 simplewiki-20200901-pages-articles.xml >> simplewiki-20200901-pages-articles.xml.clean"
      ],
      "execution_count": null,
      "outputs": [
        {
          "output_type": "stream",
          "text": [
            "--2020-11-06 08:44:13--  https://dumps.wikimedia.org/simplewiki/20200901/simplewiki-20200901-pages-articles.xml.bz2\n",
            "Resolving dumps.wikimedia.org (dumps.wikimedia.org)... 208.80.154.7, 2620:0:861:1:208:80:154:7\n",
            "Connecting to dumps.wikimedia.org (dumps.wikimedia.org)|208.80.154.7|:443... connected.\n",
            "HTTP request sent, awaiting response... 200 OK\n",
            "Length: 179777498 (171M) [application/octet-stream]\n",
            "Saving to: ‘simplewiki-20200901-pages-articles.xml.bz2’\n",
            "\n",
            "simplewiki-20200901 100%[===================>] 171.45M  4.69MB/s    in 36s     \n",
            "\n",
            "2020-11-06 08:44:49 (4.77 MB/s) - ‘simplewiki-20200901-pages-articles.xml.bz2’ saved [179777498/179777498]\n",
            "\n"
          ],
          "name": "stdout"
        }
      ]
    },
    {
      "cell_type": "code",
      "metadata": {
        "id": "SmBo4nW-z7N_"
      },
      "source": [
        "import pandas as pd\n",
        "import xml.etree.ElementTree as et\n",
        "\n",
        "def parse_XML(xml_file, df_cols): \n",
        "    \"\"\"Parse the input XML file and store the result in a pandas \n",
        "    DataFrame with the given columns. \n",
        "    \n",
        "    The first element of df_cols is supposed to be the identifier \n",
        "    variable, which is an attribute of each node element in the \n",
        "    XML data; other features will be parsed from the text content \n",
        "    of each sub-element. \n",
        "    \"\"\"\n",
        "    \n",
        "    xtree = et.parse(xml_file)\n",
        "    xroot = xtree.getroot()\n",
        "    rows = []\n",
        "    \n",
        "    for node in xroot: \n",
        "      if node.find(df_cols[0]) is not None:\n",
        "        res = [node.find(df_cols[0]).text]\n",
        "        for el in df_cols[1:]: \n",
        "            if node is not None and node.find('revision',).find(el,) is not None:\n",
        "                res.append(node.find('revision',).find(el).text)\n",
        "            else: \n",
        "                res.append(None)\n",
        "        rows.append({df_cols[i]: res[i] \n",
        "                     for i, _ in enumerate(df_cols)})\n",
        "    \n",
        "    out_df = pd.DataFrame(rows, columns=df_cols)\n",
        "        \n",
        "    return out_df"
      ],
      "execution_count": null,
      "outputs": []
    },
    {
      "cell_type": "code",
      "metadata": {
        "id": "4mZMgJQYz_u0",
        "outputId": "fe01e17c-c538-4a6b-8102-e8b72b9e42f0",
        "colab": {
          "base_uri": "https://localhost:8080/",
          "height": 424
        }
      },
      "source": [
        "df = parse_XML(\"simplewiki-20200901-pages-articles.xml.clean\", [\"title\", \"text\"])\n",
        "df"
      ],
      "execution_count": null,
      "outputs": [
        {
          "output_type": "execute_result",
          "data": {
            "text/html": [
              "<div>\n",
              "<style scoped>\n",
              "    .dataframe tbody tr th:only-of-type {\n",
              "        vertical-align: middle;\n",
              "    }\n",
              "\n",
              "    .dataframe tbody tr th {\n",
              "        vertical-align: top;\n",
              "    }\n",
              "\n",
              "    .dataframe thead th {\n",
              "        text-align: right;\n",
              "    }\n",
              "</style>\n",
              "<table border=\"1\" class=\"dataframe\">\n",
              "  <thead>\n",
              "    <tr style=\"text-align: right;\">\n",
              "      <th></th>\n",
              "      <th>title</th>\n",
              "      <th>text</th>\n",
              "    </tr>\n",
              "  </thead>\n",
              "  <tbody>\n",
              "    <tr>\n",
              "      <th>0</th>\n",
              "      <td>April</td>\n",
              "      <td>{{monththisyear|4}}\\n'''April''' is the fourth...</td>\n",
              "    </tr>\n",
              "    <tr>\n",
              "      <th>1</th>\n",
              "      <td>August</td>\n",
              "      <td>{{monththisyear|8}}\\n'''August''' (Aug.) is th...</td>\n",
              "    </tr>\n",
              "    <tr>\n",
              "      <th>2</th>\n",
              "      <td>Art</td>\n",
              "      <td>[[Category:Art| ]]\\n[[Category:Non-verbal comm...</td>\n",
              "    </tr>\n",
              "    <tr>\n",
              "      <th>3</th>\n",
              "      <td>A</td>\n",
              "      <td>{{about| the first [[letter]] in the [[alphabe...</td>\n",
              "    </tr>\n",
              "    <tr>\n",
              "      <th>4</th>\n",
              "      <td>Air</td>\n",
              "      <td>{{Simplify|date=February 2020}}\\n[[Image:Kawas...</td>\n",
              "    </tr>\n",
              "    <tr>\n",
              "      <th>...</th>\n",
              "      <td>...</td>\n",
              "      <td>...</td>\n",
              "    </tr>\n",
              "    <tr>\n",
              "      <th>319768</th>\n",
              "      <td>Workers and Peasants Party</td>\n",
              "      <td>Bhagat sing was the grastest Second freedom fi...</td>\n",
              "    </tr>\n",
              "    <tr>\n",
              "      <th>319769</th>\n",
              "      <td>Vladislav Krapivin</td>\n",
              "      <td>[[File:Krapivin 2006.jpg|right|200px]]\\n'''Vla...</td>\n",
              "    </tr>\n",
              "    <tr>\n",
              "      <th>319770</th>\n",
              "      <td>Tomomi Inada</td>\n",
              "      <td>{{Infobox officeholder\\n|name           = Tomo...</td>\n",
              "    </tr>\n",
              "    <tr>\n",
              "      <th>319771</th>\n",
              "      <td>Shigeru Ishiba</td>\n",
              "      <td>{{Infobox officeholder\\n|name           = Shig...</td>\n",
              "    </tr>\n",
              "    <tr>\n",
              "      <th>319772</th>\n",
              "      <td>The Comey Rule</td>\n",
              "      <td>{{italictitle}}\\n'''''The Comey Rule''''' is a...</td>\n",
              "    </tr>\n",
              "  </tbody>\n",
              "</table>\n",
              "<p>319773 rows × 2 columns</p>\n",
              "</div>"
            ],
            "text/plain": [
              "                             title                                               text\n",
              "0                            April  {{monththisyear|4}}\\n'''April''' is the fourth...\n",
              "1                           August  {{monththisyear|8}}\\n'''August''' (Aug.) is th...\n",
              "2                              Art  [[Category:Art| ]]\\n[[Category:Non-verbal comm...\n",
              "3                                A  {{about| the first [[letter]] in the [[alphabe...\n",
              "4                              Air  {{Simplify|date=February 2020}}\\n[[Image:Kawas...\n",
              "...                            ...                                                ...\n",
              "319768  Workers and Peasants Party  Bhagat sing was the grastest Second freedom fi...\n",
              "319769          Vladislav Krapivin  [[File:Krapivin 2006.jpg|right|200px]]\\n'''Vla...\n",
              "319770                Tomomi Inada  {{Infobox officeholder\\n|name           = Tomo...\n",
              "319771              Shigeru Ishiba  {{Infobox officeholder\\n|name           = Shig...\n",
              "319772              The Comey Rule  {{italictitle}}\\n'''''The Comey Rule''''' is a...\n",
              "\n",
              "[319773 rows x 2 columns]"
            ]
          },
          "metadata": {
            "tags": []
          },
          "execution_count": 3
        }
      ]
    },
    {
      "cell_type": "markdown",
      "metadata": {
        "id": "MXaabqToyEz1"
      },
      "source": [
        "Nous allons accéder à la page  Wikipédia « List of countries » qui contient la liste des pays :"
      ]
    },
    {
      "cell_type": "code",
      "metadata": {
        "id": "DkWDZDS-1w1c",
        "outputId": "d2fddeab-0a7e-4a4b-b842-b20892e89c09",
        "colab": {
          "base_uri": "https://localhost:8080/"
        }
      },
      "source": [
        "print(df[df['title']=='List of countries']['text'].values)"
      ],
      "execution_count": null,
      "outputs": [
        {
          "output_type": "stream",
          "text": [
            "['This is a list of [[sovereign state]]s.\\n\\n{| class=\"sortable wikitable\" style=\"background:white; text-align:left;\"\\n|-\\n! style=\"width:35%\" |Common and formal names\\n! style=\"width:12.5%;\" |Membership within the [[United Nations System|UN System]]{{efn|This column indicates whether or not a state is a member of the [[United Nations]]. It also indicates which non-member states participate in the [[United Nations System]] through membership in the [[International Atomic Energy Agency]] or one of the [[List of specialized agencies of the United Nations|specialized agencies of the United Nations]]. All United Nations members belong to at least one specialized agency and are parties to the statute of the [[International Court of Justice]].}}\\n! style=\"width:12.5%;\" |Sovereignty dispute{{efn|This column indicates whether or not a state is the subject of a major sovereignty dispute. Only states whose entire sovereignty is disputed by another state are listed.}}\\n! class=\"unsortable\" |Further information on status and recognition of sovereignty{{efn|Information is included on:\\n* The extent to which a state\\'s sovereignty is recognised internationally. More information can be found at [[List of states with limited recognition]],\\n* Membership in the [[European Union]],{{efn|name=\"EU\"}} where applicable,\\n* Any [[Dependent territory#Summary by country|dependencies]], if applicable, which are generally not part of the territory of the sovereign state,\\n* [[Federation|federal structure]] of the state, where applicable. More information can be found at [[Federated state]],\\n* Any [[List of autonomous areas by country|autonomous areas]] inside the territory of the sovereign state,\\n* Any situations where one person is the Head of State of more than one state,\\n* Any [[Government in exile|governments in exile]] recognised by at least one state.}}\\n|- style=\"background:Darkgrey;\"\\n|style=\"text-align:center;\"|<span style=\"display:none\">A AAA</span>\\n|<span style=\"display:none\">A AAA</span>\\n|<span style=\"display:none\">A AAA</span>\\n|\\n|- style=\"background:Lightgrey;\"\\n|style=\"text-align:center;\"|<span style=\"display:none\">ZZZ</span>↓ [[Member states of the United Nations|UN member states]] and [[United Nations General Assembly observers|observer states]] ↓\\n|<span style=\"display:none\">A AAA</span>\\n|<span style=\"display:none\">ZZZ</span>\\n|\\n|-\\n<!--This is not Abkhazia\\'s entry, but just a link to the \"non-UN members\" part below. The \"UN member state\" text keeps this link in place when sorting; it is not visible.-->\\n|style=\"vertical-align:top;\"|<span style=\"display:none\">ZZZ</span>Abkhazia → [[#Abkhazia|Abkhazia]]\\n|<span style=\"display:none\">A UN member state</span>\\n|<span style=\"display:none\">A None</span>\\n{{extent}}\\n|-\\n|style=\"vertical-align:top;\"|<span id=\"Afghanistan\"></span>\\'\\'\\'{{flag|Afghanistan}}\\'\\'\\'&nbsp;– Islamic Republic of Afghanistan\\n|<span style=\"display:none\">A</span> [[Member states of the United Nations|UN member state]]\\n|<span style=\"display:none\">A</span> None\\n{{extent}}\\n|-\\n|style=\"vertical-align:top;\"|<span id=\"Albania\"></span>\\'\\'\\'{{flag|Albania}}\\'\\'\\'&nbsp;– Republic of Albania\\n|<span style=\"display:none\">A</span> UN member state\\n|<span style=\"display:none\">A</span> None\\n{{extent}}\\n|-\\n|style=\"vertical-align:top;\"|<span id=\"Algeria\"></span>\\'\\'\\'{{flag|Algeria}}\\'\\'\\'&nbsp;– People\\'s Democratic Republic of Algeria\\n|<span style=\"display:none\">A</span> UN member state\\n|<span style=\"display:none\">A</span> None\\n{{extent}}\\n|-\\n|style=\"vertical-align:top;\"|<span id=\"Andorra\"></span>\\'\\'\\'{{flag|Andorra}}\\'\\'\\'&nbsp;– Principality of Andorra\\n|<span style=\"display:none\">A</span> UN member state\\n|<span style=\"display:none\">A</span> None\\n{{extent}}Andorra is a [[Diarchy|co-principality]] in which the office of head of state is jointly held \\'\\'ex officio\\'\\' by the [[President of France|French president]] and the bishop of the Roman Catholic [[Roman Catholic Diocese of Urgell|diocese of Urgell]],<ref>{{cite news|url=http://news.bbc.co.uk/1/hi/world/europe/country_profiles/992562.stm#leaders |title=Andorra country profile |publisher=BBC News |accessdate=8 November 2011}}</ref> who himself is appointed by the [[Holy See]].\\n|-\\n|style=\"vertical-align:top;\"|<span id=\"Angola\"></span>\\'\\'\\'{{flag|Angola}}\\'\\'\\'&nbsp;– Republic of Angola\\n|<span style=\"display:none\">A</span> UN member state\\n|<span style=\"display:none\">A</span> None\\n{{extent}}\\n|-\\n|style=\"vertical-align:top;\"|<span id=\"Antigua and Barbuda\"></span>\\'\\'\\'{{flag|Antigua and Barbuda}}\\'\\'\\'\\n|<span style=\"display:none\">A</span> UN member state\\n|<span style=\"display:none\">A</span> None\\n{{extent}}Antigua and Barbuda is a [[Commonwealth realm]]{{efn|name=\"realm\"|Commonwealth realms are members of the [[Commonwealth of Nations]] in which the head of state is Queen [[Elizabeth II]]. The realms are sovereign states; see [[Commonwealth realm#Relationship of the realms|Relationship of the realms]].}} with 1 autonomous region, [[Barbuda]].{{efn|name=\"autonomous\"|For more information on divisions with a high degree of autonomy, see the [[List of autonomous areas by country]].<ref>{{cite web\\n | author = Government of Antigua and Barbuda\\n | title = Chapter 44: The Barbuda Local Government Act\\n | work = Laws of Antigua and Barbuda\\n | url = http://www.laws.gov.ag/acts/chapters/cap-44.pdf\\n | accessdate = 10 November 2010}}</ref>}}\\n|-\\n|style=\"vertical-align:top;\"|<span id=\"Argentina\"></span>\\'\\'\\'{{flag|Argentina}}\\'\\'\\'&nbsp;– Argentine Republic{{efn|The Argentine Constitution (Art. 35) recognises the following denominations for Argentina: \"United Provinces of the Río de la Plata\", \"Argentine Republic\" and \"Argentine Confederation\"; furthermore, it establishes the usage of \"Argentine Nation\" for purposes of legislation.}}\\n|<span style=\"display:none\">A</span> UN member state\\n|<span style=\"display:none\">A</span> None\\n{{extent}}Member of the UNASUL.{{efn|name=\"UNASUL\"}} Argentina is a [[federation]] of [[Provinces of Argentina|23 provinces and 1 autonomous city]].\\n|-\\n|style=\"vertical-align:top;\"|<span id=\"Armenia\"></span>\\'\\'\\'{{flag|Armenia}}\\'\\'\\'&nbsp;– Republic of Armenia\\n|<span style=\"display:none\">A</span> UN member state\\n|None \\n{{extent}} Not recognized by [[#Pakistan|Pakistan]].<ref>{{cite web|format=PDF|url=http://www.foreignaffairscommittee.org/includes/content_files/Report%2021%20-%20Visit%20to%20Azerbaijan.pdf|title=Pakistan Worldview, Report 21, Visit to Azerbaijan|publisher=Senate of Pakistan Foreign Relations Committee|year=2008|url-status=dead|archive-url=https://web.archive.org/web/20090219074354/http://foreignaffairscommittee.org/includes/content_files/Report%2021%20-%20Visit%20to%20Azerbaijan.pdf|archive-date=19 February 2009}}</ref><ref>[http://www.today.az/news/politics/30102.html Nilufer Bakhtiyar: \"For Azerbaijan Pakistan does not recognise Armenia as a country\"] 13 September 2006 [14:03] – Today.Az</ref><ref>{{Cite news|url=http://news.az/articles/armenia/86325|title=Pakistan the only country not recognizing Armenia – envoy|publisher=News.Az|date=5 February 2014|accessdate=17 February 2014|quote=We are the only country not recognizing Armenia as a state.}}</ref>\\nSee [[Armenia–Pakistan relations]] and [[Nagorno-Karabakh conflict]].\\n|-\\n|style=\"vertical-align:top;\"|<span style=\"display:none\">ZZZ</span>Artsakh → [[#Artsakh|Artsakh]]\\n|<span style=\"display:none\">A UN member state</span>\\n|<span style=\"display:none\">A None</span>\\n|\\n|-\\n|style=\"vertical-align:top;\"|<span id=\"Australia\"></span>\\'\\'\\'{{flag|Australia}}\\'\\'\\'&nbsp;– Commonwealth of Australia\\n|<span style=\"display:none\">A</span> UN member state\\n|<span style=\"display:none\">A</span> None\\n{{extent}}Australia is a [[Commonwealth realm]]{{efn|name=\"realm\"}} and a [[federation]] of [[States and territories of Australia|six states and 10 territories]]. The external territories of Australia are:\\n* {{noflag|[[Ashmore and Cartier Islands]]}}\\n* {{noflag|[[Australian Antarctic Territory]]}}\\n* {{flag|Christmas Island}}\\n* {{flag|Cocos (Keeling) Islands}}\\n* {{noflag|[[Coral Sea Islands Territory]]}}\\n* {{noflag|[[Heard Island and McDonald Islands]]}}\\n* {{flag|Norfolk Island}}\\n|-\\n|style=\"vertical-align:top;\"|<span id=\"Austria\"></span>\\'\\'\\'{{flag|Austria}}\\'\\'\\'&nbsp;– Republic of Austria\\n|<span style=\"display:none\">A</span> UN member state\\n|<span style=\"display:none\">A</span> None\\n{{extent}}Member of the [[European Union]].{{efn|The member states of the [[European Union]] have transferred part of their sovereignty in the form of legislative, executive, and judicial powers to the institutions of the EU, which is an example of [[supranational union]]. The EU has 28 member states.<ref>[http://europa.eu/abc/european_countries/eu_members/index_en.htm Europa]. Retrieved 28 February 2011</ref>|name=\"EU\"}} Austria is a [[federation]] of [[States of Austria|nine states]] (Bundesländer).\\n|-\\n|style=\"vertical-align:top;\"|<span id=\"Azerbaijan\"></span>\\'\\'\\'{{flag|Azerbaijan}}\\'\\'\\'&nbsp;– Republic of Azerbaijan\\n|<span style=\"display:none\">A</span> UN member state\\n|<span style=\"display:none\">A</span> None\\n{{extent}}Azerbaijan contains two autonomous regions, [[Nakhchivan Autonomous Republic|Nakhchivan]] and [[Nagorno-Karabakh]] (\\'\\'Dağlıq Qarabağ\\'\\').{{efn|name=\"autonomous\"}} The [[#Artsakh|Republic of Artsakh]], a de facto state, has been established in the latter.\\n|-\\n|style=\"vertical-align:top;\"|<span id=\"Bahamas\"></span>\\'\\'\\'{{flag|Bahamas, The}}\\'\\'\\'&nbsp;– Commonwealth of The Bahamas<ref>{{cite web|title=Bahamas, The {{!}} The Commonwealth|url=http://thecommonwealth.org/our-member-countries/bahamas|website=thecommonwealth.org|accessdate=12 March 2018|language=en}}</ref>\\n|<span style=\"display:none\">A</span> UN member state\\n|<span style=\"display:none\">A</span> None\\n{{extent}}The Bahamas is a [[Commonwealth realm]].{{efn|name=\"realm\"}}\\n|-\\n|style=\"vertical-align:top;\"|<span id=\"Bahrain\"></span>\\'\\'\\'{{flag|Bahrain}}\\'\\'\\'&nbsp;– Kingdom of Bahrain\\n|<span style=\"display:none\">A</span> UN member state\\n|<span style=\"display:none\">A</span> None\\n{{extent}}\\n|-\\n|style=\"vertical-align:top;\"|<span id=\"Bangladesh\"></span>\\'\\'\\'{{flag|Bangladesh}}\\'\\'\\'&nbsp;– People\\'s Republic of Bangladesh\\n|<span style=\"display:none\">A</span> UN member state\\n|<span style=\"display:none\">A</span> None\\n{{extent}}\\n|-\\n|style=\"vertical-align:top;\"|<span id=\"Barbados\"></span>\\'\\'\\'{{flag|Barbados}}\\'\\'\\'\\n|<span style=\"display:none\">A</span> UN member state\\n|<span style=\"display:none\">A</span> None\\n{{extent}}Barbados is a [[Commonwealth realm]].{{efn|name=\"realm\"}}\\n|-\\n|style=\"vertical-align:top;\"|<span id=\"Belarus\"></span>\\'\\'\\'{{flag|Belarus}}\\'\\'\\'&nbsp;– Republic of Belarus\\n|<span style=\"display:none\">A</span> UN member state\\n|<span style=\"display:none\">A</span> None\\n{{extent}}Belarus forms the [[Union State]] jointly with [[Russia]].\\n|-\\n|style=\"vertical-align:top;\"|<span id=\"Belgium\"></span>\\'\\'\\'{{flag|Belgium}}\\'\\'\\'&nbsp;– Kingdom of Belgium\\n|<span style=\"display:none\">A</span> UN member state\\n|<span style=\"display:none\">A</span> None\\n{{extent}}Member of the EU.{{efn|name=\"EU\"}} Belgium is a [[federation]] divided into [[Communities, regions and language areas of Belgium|linguistic communities and regions]].\\n|-\\n|style=\"vertical-align:top;\"|<span id=\"Belize\"></span>\\'\\'\\'{{flag|Belize}}\\'\\'\\'\\n|<span style=\"display:none\">A</span> UN member state\\n|<span style=\"display:none\">A</span> None\\n{{extent}}Belize is a [[Commonwealth realm]].{{efn|name=\"realm\"}}\\n|-\\n|style=\"vertical-align:top;\"|<span id=\"Benin\"></span>\\'\\'\\'{{flag|Benin}}\\'\\'\\'&nbsp;– Republic of Benin{{efn|Formerly referred to as [[Republic of Dahomey|Dahomey]], its official name until 1975.}}\\n|<span style=\"display:none\">A</span> UN member state\\n|<span style=\"display:none\">A</span> None\\n{{extent}}\\n|-\\n|style=\"vertical-align:top;\"|<span id=\"Bhutan\"></span>\\'\\'\\'{{flag|Bhutan}}\\'\\'\\'&nbsp;– Kingdom of Bhutan\\n|<span style=\"display:none\">A</span> UN member state\\n|<span style=\"display:none\">A</span> None\\n{{extent}}\\n|-\\n|style=\"vertical-align:top;\"|<span id=\"Bolivia\"></span>\\'\\'\\'{{flag|Bolivia}}\\'\\'\\'&nbsp;– Plurinational State of Bolivia\\n|<span style=\"display:none\">A</span> UN member state\\n|<span style=\"display:none\">A</span> None\\n{{extent}}Member of the UNASUL.{{efn|name=\"UNASUL\"}}\\n|-\\n|style=\"vertical-align:top;\"|<span id=\"Bosnia and Herzegovina\"></span>\\'\\'\\'{{flag|Bosnia and Herzegovina}}\\'\\'\\'\\n|<span style=\"display:none\">A</span> UN member state\\n|<span style=\"display:none\">A</span> None\\n{{extent}}Bosnia and Herzegovina is a federation of two constituent units:\\n* {{flag|Federation of Bosnia and Herzegovina}}\\n* {{flag|Republika Srpska}}\\nand [[Brčko District]], a self-governing administrative unit.<ref name=\"Stjepanović2015\">{{cite journal |title=Dual Substate Citizenship as Institutional Innovation: The Case of Bosnia\\'s Brčko District |journal=Nationalism and Ethnic Politics |year=2015 |pages=382–383 |first=Dejan |last=Stjepanović |volume=21 |issue=4 |doi=10.1080/13537113.2015.1095043 |issn=1353-7113 |eissn=1557-2986 |oclc=5927465455 }}</ref>\\n|-\\n|style=\"vertical-align:top;\"|<span id=\"Botswana\"></span>\\'\\'\\'{{flag|Botswana}}\\'\\'\\'&nbsp;– Republic of Botswana\\n|<span style=\"display:none\">A</span> UN member state\\n|<span style=\"display:none\">A</span> None\\n{{extent}}\\n|-\\n|style=\"vertical-align:top;\"|<span id=\"Brazil\"></span>\\'\\'\\'{{flag|Brazil}}\\'\\'\\'&nbsp;– Federative Republic of Brazil\\n|<span style=\"display:none\">A</span> UN member state\\n|<span style=\"display:none\">A</span> None\\n{{extent}}Member of UNASUL.{{efn|The member states of the [[Union of South American Nations]] have transferred part of their sovereignty in the form of legislative, executive, and judicial powers to the institutions of the UNASUL, which is an example of [[supranational union]]. The UNASUL has 12 member states.<ref>[https://elordenmundial.com/unasur-camino-integracion-sudamericana/ UNASUR: El camino hacia la integración sudamericana]. Retrieved 12 August 2018</ref>|name=\"UNASUL\"}} Brazil is a [[federation]] of [[States of Brazil|26 states and 1 federal district]].\\n|-\\n|style=\"vertical-align:top;\"|<span id=\"Brunei\"></span>\\'\\'\\'{{flag|Brunei}}\\'\\'\\'&nbsp;– Nation of Brunei, Abode of Peace\\n|<span style=\"display:none\">A</span> UN member state\\n|<span style=\"display:none\">A</span> None\\n{{extent}}\\n|-\\n|style=\"vertical-align:top;\"|<span id=\"Bulgaria\"></span>\\'\\'\\'{{flag|Bulgaria}}\\'\\'\\'&nbsp;– Republic of Bulgaria\\n|<span style=\"display:none\">A</span> UN member state\\n|<span style=\"display:none\">A</span> None\\n{{extent}}Member of the EU.{{efn|name=\"EU\"}}\\n|-\\n|style=\"vertical-align:top;\"|<span id=\"Burkina Faso\"></span>\\'\\'\\'{{flag|Burkina Faso}}\\'\\'\\'{{efn|Also known as Burkina; formerly referred to as Upper Volta, its official name until 1984.}}\\n|<span style=\"display:none\">A</span> UN member state\\n|<span style=\"display:none\">A</span> None\\n{{extent}}\\n|-\\n|style=\"vertical-align:top;\"|Burma → [[#Myanmar|Myanmar]]\\n|<span style=\"display:none\">A UN member state</span>\\n|<span style=\"display:none\">A None</span>\\n{{extent}}\\n|-\\n|style=\"vertical-align:top;\"|<span id=\"Burundi\"></span>\\'\\'\\'{{flag|Burundi}}\\'\\'\\'&nbsp;– Republic of Burundi\\n|<span style=\"display:none\">A</span> UN member state\\n|<span style=\"display:none\">A</span> None\\n{{extent}}\\n|-\\n|style=\"vertical-align:top;\"|<span id=\"Cambodia\"></span>\\'\\'\\'{{flag|Cambodia}}\\'\\'\\'&nbsp;– Kingdom of Cambodia\\n|<span style=\"display:none\">A</span> UN member state\\n|<span style=\"display:none\">A</span> None\\n{{extent}}\\n|-\\n|style=\"vertical-align:top;\"|<span id=\"Cameroon\"></span>\\'\\'\\'{{flag|Cameroon}}\\'\\'\\'&nbsp;– Republic of Cameroon\\n|<span style=\"display:none\">A</span> UN member state\\n|<span style=\"display:none\">A</span> None\\n{{extent}}\\n|-\\n|style=\"vertical-align:top;\"|<span id=\"Canada\"></span>\\'\\'\\'{{flag|Canada}}\\'\\'\\'{{efn|The legal name for Canada is the sole word; an officially sanctioned, though disused, name is Dominion of Canada (which includes its legal title); see: [[Name of Canada]], [[Dominion]].}}\\n|<span style=\"display:none\">A</span> UN member state\\n|<span style=\"display:none\">A</span> None\\n{{extent}}Canada is a [[Commonwealth realm]]{{efn|name=\"realm\"}} and a [[Canadian federalism|federation]] of [[Provinces and territories of Canada|10 provinces and 3 territories]].\\n|-\\n|style=\"vertical-align:top;\"|<span id=\"Cape Verde\"></span>\\'\\'\\'{{flag|Cape Verde}}\\'\\'\\'&nbsp;– Republic of Cabo Verde\\n|<span style=\"display:none\">A</span> UN member state\\n|<span style=\"display:none\">A</span> None\\n{{extent}}\\n|-\\n|style=\"vertical-align:top;\"|<span id=\"Central African Republic\"></span>\\'\\'\\'{{flag|Central African Republic}}\\'\\'\\'\\n|<span style=\"display:none\">A</span> UN member state\\n|<span style=\"display:none\">A</span> None\\n{{extent}}\\n|-\\n|style=\"vertical-align:top;\"|<span id=\"Chad\"></span>\\'\\'\\'{{flag|Chad}}\\'\\'\\'&nbsp;– Republic of Chad\\n|<span style=\"display:none\">A</span> UN member state\\n|<span style=\"display:none\">A</span> None\\n{{extent}}\\n|-\\n|style=\"vertical-align:top;\"|<span id=\"Chile\"></span>\\'\\'\\'{{flag|Chile}}\\'\\'\\'&nbsp;– Republic of Chile\\n|<span style=\"display:none\">A</span> UN member state\\n|<span style=\"display:none\">A</span> None\\n{{extent}}Member of the UNASUL.{{efn|name=\"UNASUL\"}} Chile has two \"special territories\" in the [[Valparaíso Region]]: [[Easter Island]] and [[Juan Fernández Islands]]\\n|-\\n|style=\"vertical-align:top;\"|<span id=\"China\"></span>\\'\\'\\'{{flag|China}}\\'\\'\\'&nbsp;– People\\'s Republic of China{{efn|name=\"ChinaTaiwan\"|The [[China|People\\'s Republic of China]] (PRC) is commonly referred to as \"China\", while the [[Taiwan|Republic of China]] (ROC) is commonly referred to as \"Taiwan\". The ROC is also occasionally known diplomatically as [[Chinese Taipei]], along with [[Chinese Taipei#Other alternative references to the Republic of China|other names]].}}\\n|<span style=\"display:none\">A</span> UN member state\\n| style=\"background:LightCoral;\" |[[Foreign relations of China#International recognition of the People\\'s Republic of China|Partially unrecognized]]. {{claimedby|ROC}}\\n{{extent}}The People\\'s Republic of China (PRC) contains five autonomous regions:{{efn|name=\"autonomous\"}}\\n* [[Guangxi]]\\n* [[Inner Mongolia]]\\n* [[Ningxia]]\\n* [[Xinjiang]]\\n* [[Tibet Autonomous Region|Tibet]]\\nAdditionally, it has sovereignty over the [[Special administrative regions of China|Special Administrative Regions]] of:\\n* {{flag|Hong Kong}}\\n* {{flag|Macau}}\\nChina claims, but does not control [[#Taiwan|Taiwan]], which is governed by a rival administration (the Republic of China) that claims all of China as its territory.{{efn|name=\"TAI2\"|In 1949, the Republic of China government led by the [[Kuomintang]] (KMT) lost the [[Chinese Civil War]] to the [[Communist Party of China]] (CPC) and set up a provisional capital in [[Taipei]]. The CPC established the PRC. As such, the [[political status of Taiwan|political status of the ROC and legal status of Taiwan]] (alongside the [[Free area of the Republic of China|territories]] under ROC jurisdiction) are in dispute. In 1971, the United Nations gave the [[China and the United Nations|China seat]] to the PRC and the ROC withdrew from the UN. Most states recognise the PRC to be the [[One-China policy|sole legitimate representative]] of all China, and the UN classifies Taiwan as \"[[Taiwan Province, People\\'s Republic of China|Taiwan, Province of China]]\". The ROC has de facto relations with most sovereign states. A significant political movement within Taiwan advocates [[Taiwan independence movement|Taiwan independence]].}}\\n\\nChina is not recognised by [[Foreign relations of China#Countries have no diplomatic relations with the PRC|19]] UN member states and the [[Holy See]], which, with the exception of Bhutan, recognise Taiwan instead.{{efn|See also [[Dates of establishment of diplomatic relations with the People\\'s Republic of China]] and [[Foreign relations of China]].}}\\n\\nChina controls part of the territory of [[Kashmir]], which is disputed by [[India]] and [[Pakistan]].\\n|-\\n|style=\"vertical-align:top;\"|China, Republic of → [[#Taiwan|Taiwan]]\\n|<span style=\"display:none\">A UN member state</span>\\n|<span style=\"display:none\">A None</span>\\n|\\n|-\\n|style=\"vertical-align:top;\"|<span id=\"Colombia\"></span>\\'\\'\\'{{flag|Colombia}}\\'\\'\\'&nbsp;– Republic of Colombia\\n|<span style=\"display:none\">A</span> UN member state\\n|<span style=\"display:none\">A</span> None\\n{{extent}}Member of the UNASUL.{{efn|name=\"UNASUL\"}}\\n|-\\n|style=\"vertical-align:top;\"|<span id=\"Comoros\"></span>\\'\\'\\'{{flag|Comoros}}\\'\\'\\'&nbsp;– Union of the Comoros\\n|<span style=\"display:none\">A</span> UN member state\\n|<span style=\"display:none\">A</span> None\\n{{extent}}Comoros is a [[federation]] of [[Politics of Comoros#Autonomous islands|3 islands]].{{efn|name=\"federal\"|More information on more or less [[federation|federal]] structures can be found at a [[Federation#Modern \\'federations\\'|List of federations]].<ref>Constitution of Comoros, Art. 1.</ref>}}\\n|-\\n|style=\"vertical-align:top;\"|<span id=\"Congo, Democratic Republic of the\"></span>\\'\\'\\'{{flag|Congo, Democratic Republic of the}}\\'\\'\\'{{efn|Also known as Congo-Kinshasa. Formerly referred to as [[Zaire]], its official name from 1971 to 1997.}}\\n|<span style=\"display:none\">A</span> UN member state\\n|<span style=\"display:none\">A</span> None\\n{{extent}}\\n|-\\n|style=\"vertical-align:top;\"|<span id=\"Congo, Republic of the\"></span>\\'\\'\\'{{flag|Congo, Republic of the}}\\'\\'\\'{{efn|Also known as Congo-Brazzaville.}}\\n|<span style=\"display:none\">A</span> UN member state\\n|<span style=\"display:none\">A</span> None\\n{{extent}}\\n|-\\n|style=\"vertical-align:top;\"|<span style=\"display:none\">ZZZ</span>Cook Islands → [[#Cook Islands|Cook Islands]]\\n|<span style=\"display:none\">A UN member state</span>\\n|<span style=\"display:none\">A None</span>\\n{{extent}}\\n|-\\n|style=\"vertical-align:top;\"|<span id=\"Costa Rica\"></span>\\'\\'\\'{{flag|Costa Rica}}\\'\\'\\'&nbsp;– Republic of Costa Rica\\n|<span style=\"display:none\">A</span> UN member state\\n|<span style=\"display:none\">A</span> None\\n{{extent}}\\n|-\\n|style=\"vertical-align:top;\"|<span id=\"Croatia\"></span>\\'\\'\\'{{flag|Croatia}}\\'\\'\\'&nbsp;– Republic of Croatia\\n|<span style=\"display:none\">A</span> UN member state\\n|<span style=\"display:none\">A</span> None\\n{{extent}}Member of the EU.{{efn|name=\"EU\"}}\\n|-\\n|style=\"vertical-align:top;\"|<span id=\"Cuba\"></span>\\'\\'\\'{{flag|Cuba}}\\'\\'\\'&nbsp;– Republic of Cuba\\n|<span style=\"display:none\">A</span> UN member state\\n|<span style=\"display:none\">A</span> None\\n{{extent}}\\n|-\\n|style=\"vertical-align:top;\"|<span id=\"Cyprus\"></span>\\'\\'\\'{{flag|Cyprus}}\\'\\'\\'&nbsp;– Republic of Cyprus\\n|<span style=\"display:none\">A</span> UN member state\\n| style=\"background:LightCoral;\" |Not recognized by [[#Turkey|Turkey]]<ref>{{Cite news|url=http://www.cnn.com/2010/OPINION/07/07/kakouris.cyprus/|publisher=CNN|title=Cyprus is not at peace with Turkey|author=Andreas S. Kakouris|date=9 July 2010|accessdate=17 May 2014|quote=Turkey stands alone in violation of the will of the international community. It is the only country to recognize the \"TRNC\" and is the only country that does not recognize the Republic of Cyprus and its government.}}</ref><!-- and [[#Northern Cyprus|Northern Cyprus]]{{cn|date=17 May 2014}} -->\\n{{extent}}Member of the EU.{{efn|name=\"EU\"}} The northeastern part of the island is the \\'\\'de facto\\'\\' state of [[#Northern Cyprus|Northern Cyprus]]. See [[Foreign relations of Cyprus]] and [[Cyprus dispute]]. [[Turkey]] refers to the Republic of Cyprus government as \"The Greek Cypriot Administration of Southern Cyprus\".<ref name=CypriotAdmin>{{cite web|url=https://www.ab.gov.tr/greek-administration-of-southern-cyprus_255_en.html|title=Greek Administration of Southern Cyprus|website=Republic of Turkey: Ministry of EU Affairs|date=5 June 2017|accessdate=27 January 2018}}</ref>\\n|-\\n|style=\"vertical-align:top;\"|<span id=\"Czech Republic\"></span>\\'\\'\\'{{flag|Czech Republic}}\\'\\'\\'{{efn|A simpler official short name has been encouraged by the Czech government, \"\\'\\'Czechia\\'\\'\". By 2017, this variant remains uncommon. Nevertheless, this term has been adopted by several companies and organisations, including Google Maps, instead of the term \"\\'\\'Czech Republic\\'\\'\". See [[Name of the Czech Republic]]}}\\n|<span style=\"display:none\">A</span> UN member state\\n|<span style=\"display:none\">A</span> None\\n{{extent}}Member of the EU.{{efn|name=\"EU\"}}\\n|-\\n|style=\"vertical-align:top;\"|Democratic People\\'s Republic of Korea → [[#Korea North|Korea, North]]\\n|<span style=\"display:none\">A UN member state</span>\\n|<span style=\"display:none\">A None</span>\\n|\\n|-\\n|style=\"vertical-align:top;\"|Democratic Republic of the Congo → [[#Congo, Democratic Republic of the|Congo, Democratic Republic of the]]\\n|<span style=\"display:none\">A UN member state</span>\\n|<span style=\"display:none\">A None</span>\\n|\\n|-\\n|style=\"vertical-align:top;\"|<span id=\"Denmark\"></span>\\'\\'\\'{{flag|Denmark}}\\'\\'\\'&nbsp;– Kingdom of Denmark\\n|<span style=\"display:none\">A</span> UN member state\\n|<span style=\"display:none\">A</span> None\\n{{extent}}Member of the EU.{{efn|name=\"EU\"}} The [[Kingdom of Denmark]] includes 2 self-governing territories:\\n\\n* {{flag|Faroe Islands}}\\n* {{flag|Greenland}}\\n\\nThe continental territory of Denmark, the Faroe Islands, and Greenland form the three constituent countries of the Kingdom. The designation \"Denmark\" can refer either to continental Denmark or to the short name for the entire Kingdom (e.g. in international organizations). The Kingdom of Denmark as a whole is a member of the EU, but EU law does not apply to the Faroe Islands and Greenland.<ref>{{cite web|url=http://www.stm.dk/_p_12710.html |title=Archived copy |accessdate=20 May 2015 |url-status=dead |archiveurl=https://web.archive.org/web/20150910005827/http://www.stm.dk/_p_12710.html |archivedate=10 September 2015 }}</ref><ref>{{cite web|url=http://www.stm.dk/_p_12712.html |title=Archived copy |accessdate=20 May 2014 |url-status=dead |archiveurl=https://web.archive.org/web/20140214060548/http://www.stm.dk/_p_12712.html |archivedate=14 February 2014 }}</ref> Also see [[Greenland Treaty]].\\n|-\\n|style=\"vertical-align:top;\"|<span id=\"Djibouti\"></span>\\'\\'\\'{{flag|Djibouti}}\\'\\'\\'&nbsp;– Republic of Djibouti\\n|<span style=\"display:none\">A</span> UN member state\\n|<span style=\"display:none\">A</span> None\\n{{extent}}\\n|-\\n|style=\"vertical-align:top;\"|<span id=\"Dominica\"></span>\\'\\'\\'{{flag|Dominica}}\\'\\'\\'&nbsp;– Commonwealth of Dominica\\n|<span style=\"display:none\">A</span> UN member state\\n|<span style=\"display:none\">A</span> None\\n{{extent}}\\n|-\\n|style=\"vertical-align:top;\"|<span id=\"Dominican Republic\"></span>\\'\\'\\'{{flag|Dominican Republic}}\\'\\'\\'\\n|<span style=\"display:none\">A</span> UN member state\\n|<span style=\"display:none\">A</span> None\\n{{extent}}\\n|-\\n|style=\"vertical-align:top;\"|<span id=\"East Timor\"></span>\\'\\'\\'{{flag|East Timor}}\\'\\'\\'&nbsp;– Democratic Republic of Timor-Leste{{efn|The government of East Timor uses \"Timor-Leste\" as the English translation.}}\\n|<span style=\"display:none\">A</span> UN member state\\n|<span style=\"display:none\">A</span> None\\n{{extent}}\\n|-\\n|style=\"vertical-align:top;\"|<span id=\"Ecuador\"></span>\\'\\'\\'{{flag|Ecuador}}\\'\\'\\'&nbsp;– Republic of Ecuador\\n|<span style=\"display:none\">A</span> UN member state\\n|<span style=\"display:none\">A</span> None\\n{{extent}}Member of the UNASUL.{{efn|name=\"UNASUL\"}}\\n|-\\n|style=\"vertical-align:top;\"|<span id=\"Egypt\"></span>\\'\\'\\'{{flag|Egypt}}\\'\\'\\'&nbsp;– Arab Republic of Egypt\\n|<span style=\"display:none\">A</span> UN member state\\n|<span style=\"display:none\">A</span> None\\n{{extent}}\\n|-\\n|style=\"vertical-align:top;\"|<span id=\"El Salvador\"></span>\\'\\'\\'{{flag|El Salvador}}\\'\\'\\'&nbsp;– Republic of El Salvador\\n|<span style=\"display:none\">A</span> UN member state\\n|<span style=\"display:none\">A</span> None\\n{{extent}}\\n|-\\n|style=\"vertical-align:top;\"|<span id=\"Equatorial Guinea\"></span>\\'\\'\\'{{flag|Equatorial Guinea}}\\'\\'\\'&nbsp;– Republic of Equatorial Guinea\\n|<span style=\"display:none\">A</span> UN member state\\n|<span style=\"display:none\">A</span> None\\n{{extent}}\\n|-\\n|style=\"vertical-align:top;\"|<span id=\"Eritrea\"></span>\\'\\'\\'{{flag|Eritrea}}\\'\\'\\'&nbsp;– State of Eritrea\\n|<span style=\"display:none\">A</span> UN member state\\n|<span style=\"display:none\">A</span> None\\n{{extent}}\\n|-\\n|style=\"vertical-align:top;\"|<span id=\"Estonia\"></span>\\'\\'\\'{{flag|Estonia}}\\'\\'\\'&nbsp;– Republic of Estonia\\n|<span style=\"display:none\">A</span> UN member state\\n|<span style=\"display:none\">A</span> None\\n{{extent}}Member of the EU.{{efn|name=\"EU\"}}\\n|-\\n|style=\"vertical-align:top;\"|eSwatini → [[#Swaziland|Swaziland]]\\n|<span style=\"display:none\">A UN member state</span>\\n|<span style=\"display:none\">A None</span>\\n{{extent}}\\n|-\\n|style=\"vertical-align:top;\"|<span id=\"Ethiopia\"></span>\\'\\'\\'{{flag|Ethiopia}}\\'\\'\\'&nbsp;– Federal Democratic Republic of Ethiopia\\n|<span style=\"display:none\">A</span> UN member state\\n|<span style=\"display:none\">A</span> None\\n{{extent}}Ethiopia is a [[federation]] of [[Regions of Ethiopia|nine regions and two chartered cities]].\\n<!--The European Union is not a sovereign state and should not be included-->\\n|-\\n|style=\"vertical-align:top;\"|<span id=\"Fiji\"></span>\\'\\'\\'{{flag|Fiji}}\\'\\'\\'&nbsp;– Republic of Fiji\\n|<span style=\"display:none\">A</span> UN member state\\n|<span style=\"display:none\">A</span> None\\n{{extent}}Fiji contains 1 autonomous region, [[Rotuma]].{{efn|name=\"autonomous\"}}<ref>{{Cite book\\n | title = Laws of Fiji\\n | place = Suva, Fiji\\n | publisher = Government of Fiji\\n | year = 1927\\n | edition = 1978\\n | chapter = Rotuma Act\\n | chapterurl = http://www.itc.gov.fj/lawnet/fiji_act/cap122.html\\n | accessdate = 10 July 2010 \\n | archiveurl=https://web.archive.org/web/20100621140255/http://www.itc.gov.fj/lawnet/fiji_act/cap122.html |archivedate=21 June 2010 }}</ref><ref>{{cite web\\n | author = Government of Fiji, Office of the Prime Minister\\n | title = Chapter 122: Rotuma Act\\n | work = Laws of Fiji\\n | publisher = [[University of the South Pacific]]\\n | year = 1978\\n | url = http://www.paclii.org/fj/legis/consol_act/ra103/\\n | accessdate = 10 November 2010}}</ref>\\n|-\\n|style=\"vertical-align:top;\"|<span id=\"Finland\"></span>\\'\\'\\'{{flag|Finland}}\\'\\'\\'&nbsp;– Republic of Finland\\n|<span style=\"display:none\">A</span> UN member state\\n|<span style=\"display:none\">A</span> None\\n{{extent}}Member of the EU.{{efn|name=\"EU\"}}\\n\\n* {{flag|Åland}} is a neutral and demilitarised autonomous region of Finland.{{efn|name=\"autonomous\"}}{{efn|[[Åland Islands|Åland]] was demilitarised by the [[Treaty of Paris (1856)|Treaty of Paris]] in 1856, which was later affirmed by the [[League of Nations]] in 1921, and in a somewhat different context reaffirmed in the treaty on Finland\\'s admission to the European Union in 1995.}}\\n|-\\n|style=\"vertical-align:top;\"|<span id=\"France\"></span>\\'\\'\\'{{flag|France}}\\'\\'\\'&nbsp;– French Republic\\n|<span style=\"display:none\">A</span> UN member state\\n|<span style=\"display:none\">A</span> None\\n{{extent}}Member of the EU.{{efn|name=\"EU\"}} France contains five overseas regions/departments: [[French Guiana]], [[Guadeloupe]], [[Martinique]], [[Mayotte]], and [[Réunion]]. France also includes the overseas territories of:\\n\\n* {{noflag|[[Clipperton Island]]}}\\n* {{flag|French Polynesia}}\\n* {{flag|New Caledonia}}\\n* {{noflag|[[Saint Barthélemy]]}}\\n* {{noflag|[[Collectivity of Saint Martin|Saint Martin]]}}\\n* {{noflag|[[Saint Pierre and Miquelon]]}}\\n* {{noflag|[[Wallis and Futuna]]}}\\n* {{noflag|[[French Southern and Antarctic Lands]]}}\\n|-\\n|style=\"vertical-align:top;\"|<span id=\"Gabon\"></span>\\'\\'\\'{{flag|Gabon}}\\'\\'\\'&nbsp;– Gabonese Republic\\n|<span style=\"display:none\">A</span> UN member state\\n|<span style=\"display:none\">A</span> None\\n{{extent}}\\n|-\\n|style=\"vertical-align:top;\"|<span id=\"Gambia\"></span><span style=\"display:none\">Gambia</span> \\'\\'\\'{{flag|Gambia, The}}\\'\\'\\'&nbsp;– Republic of The Gambia<ref>{{cite web|title=The Gambia profile|url=https://www.bbc.co.uk/news/world-africa-13376517|publisher=BBC News|accessdate=12 March 2018|date=14 February 2018}}</ref>\\n|<span style=\"display:none\">A</span> UN member state\\n|<span style=\"display:none\">A</span> None\\n{{extent}}\\n|-\\n|style=\"vertical-align:top;\"|<span id=\"Georgia\"></span>\\'\\'\\'{{flag|Georgia}}\\'\\'\\'\\n|<span style=\"display:none\">A</span> UN member state\\n|<span style=\"display:none\">A</span> None\\n{{extent}}Georgia contains two autonomous republics, [[Adjara]] and [[Government of the Autonomous Republic of Abkhazia|Abkhazia]].{{efn|name=\"autonomous\"}} In [[#Abkhazia|Abkhazia]] and [[#South Ossetia|South Ossetia]], de facto states have been formed.\\n|-\\n|style=\"vertical-align:top;\"|<span id=\"Germany\"></span>\\'\\'\\'{{flag|Germany}}\\'\\'\\'&nbsp;– Federal Republic of Germany\\n|<span style=\"display:none\">A</span> UN member state\\n|<span style=\"display:none\">A</span> None\\n{{extent}}Member of the EU.{{efn|name=\"EU\"}} Germany is a [[federation]] of [[States of Germany|16 federated states]] (Länder).\\n|-\\n|style=\"vertical-align:top;\"|<span id=\"Ghana\"></span>\\'\\'\\'{{flag|Ghana}}\\'\\'\\'&nbsp;– Republic of Ghana\\n|<span style=\"display:none\">A</span> UN member state\\n|<span style=\"display:none\">A</span> None\\n{{extent}}\\n|-\\n|style=\"vertical-align:top;\"|<span id=\"Greece\"></span>\\'\\'\\'{{flag|Greece}}\\'\\'\\'&nbsp;– Hellenic Republic\\n|<span style=\"display:none\">A</span> UN member state\\n|<span style=\"display:none\">A</span> None\\n{{extent}}Member of the EU.{{efn|name=\"EU\"}} [[Mount Athos]] is an autonomous part of Greece that is jointly governed by the multinational \"Holy Community\" on the mountain and a civil governor appointed by the Greek government.<ref>Constitution of Greece, Art. 105.</ref>\\n|-\\n|style=\"vertical-align:top;\"|<span id=\"Grenada\"></span>\\'\\'\\'{{flag|Grenada}}\\'\\'\\'\\n|<span style=\"display:none\">A</span> UN member state\\n|<span style=\"display:none\">A</span> None\\n{{extent}}Grenada is a [[Commonwealth realm]].{{efn|name=\"realm\"}}\\n|-\\n|style=\"vertical-align:top;\"|<span id=\"Guatemala\"></span>\\'\\'\\'{{flag|Guatemala}}\\'\\'\\'&nbsp;– Republic of Guatemala\\n|<span style=\"display:none\">A</span> UN member state\\n|<span style=\"display:none\">A</span> None\\n{{extent}}\\n|-\\n|style=\"vertical-align:top;\"|<span id=\"Guinea\"></span>\\'\\'\\'{{flag|Guinea}}\\'\\'\\'&nbsp;– Republic of Guinea{{efn|Also known as Guinea-Conakry.}}\\n|<span style=\"display:none\">A</span> UN member state\\n|<span style=\"display:none\">A</span> None\\n{{extent}}\\n|-\\n|style=\"vertical-align:top;\"|<span id=\"Guinea-Bissau\"></span>\\'\\'\\'{{flag|Guinea-Bissau}}\\'\\'\\'&nbsp;– Republic of Guinea-Bissau\\n|<span style=\"display:none\">A</span> UN member state\\n|<span style=\"display:none\">A</span> None\\n{{extent}}\\n|-\\n|style=\"vertical-align:top;\"|<span id=\"Guyana\"></span>\\'\\'\\'{{flag|Guyana}}\\'\\'\\'&nbsp;– Co-operative Republic of Guyana\\n|<span style=\"display:none\">A</span> UN member state\\n|<span style=\"display:none\">A</span> None\\n{{extent}}Member of the UNASUL.{{efn|name=\"UNASUL\"}}\\n|-\\n|style=\"vertical-align:top;\"|<span id=\"Haiti\"></span>\\'\\'\\'{{flag|Haiti}}\\'\\'\\'&nbsp;– Republic of Haiti\\n|<span style=\"display:none\">A</span> UN member state\\n|<span style=\"display:none\">A</span> None\\n{{extent}}\\n|-\\n|style=\"vertical-align:top;\"|Holy See → [[#Vatican City|Vatican City]]\\n|<span style=\"display:none\">A UN member state</span>\\n|<span style=\"display:none\">A None</span>\\n{{extent}}\\n|-\\n|style=\"vertical-align:top;\"|<span id=\"Honduras\"></span>\\'\\'\\'{{flag|Honduras}}\\'\\'\\'&nbsp;– Republic of Honduras\\n|<span style=\"display:none\">A</span> UN member state\\n|<span style=\"display:none\">A</span> None\\n{{extent}}\\n|-\\n|style=\"vertical-align:top;\"|<span id=\"Hungary\"></span>\\'\\'\\'{{flag|Hungary}}\\'\\'\\'\\n|<span style=\"display:none\">A</span> UN member state\\n|<span style=\"display:none\">A</span> None\\n{{extent}}Member of the EU.{{efn|name=\"EU\"}}\\n|-\\n|style=\"vertical-align:top;\"|<span id=\"Iceland\"></span>\\'\\'\\'{{flag|Iceland}}\\'\\'\\'{{efn|name=\"Republic\"|While sometimes referred to as the \"\\'\\'\\'Republic of Iceland\\'\\'\\'\"<ref>{{cite web|url=http://www.britannica.com/EBchecked/topic/281235/Iceland|title=Iceland - Culture, History, & People}}</ref><ref>http://unstats.un.org/unsd/geoinfo/ungegn/docs/26th-gegn-docs/WP/WP54_UNGEGN%20WG%20Country%20Names%20Document%202011.pdf</ref> and sometimes its counterpart \\'\\'Lýðveldið Ísland\\'\\' in Icelandic, the official name of the country is simply Iceland.<ref>{{cite web|url=http://www.visindavefur.is/svar.php?id=54970|title=Hvert er formlegt heiti landsins okkar?}}</ref> One example of the former is the name of the [[Constitution of Iceland]], which in Icelandic is \\'\\'Stjórnarskrá lýðveldisins Íslands\\'\\' and literally means \"the Constitution of the republic of Iceland\", but note that \"republic\" is not capitalized. The official title of the [[President of Iceland]] (\\'\\'Forseti Íslands\\'\\') does also not include the word republic as in some other republics. See [[Names for Iceland]].}}\\n|<span style=\"display:none\">A</span> UN member state\\n|<span style=\"display:none\">A</span> None\\n{{extent}}\\n|-\\n|style=\"vertical-align:top;\"|<span id=\"India\"></span>\\'\\'\\'{{flag|India}}\\'\\'\\'&nbsp;– Republic of India\\n|<span style=\"display:none\">A</span> UN member state\\n|<span style=\"display:none\">A</span> None\\n{{extent}}India is a [[federation]] of [[States and territories of India|29 states and seven union territories]]. India claims the entire territory of [[Kashmir]] as one of its states, but only exercises control over part of it, while the rest is controlled by the [[People\\'s Republic of China]] and [[Pakistan]].\\n|-\\n|style=\"vertical-align:top;\"|<span id=\"Indonesia\"></span>\\'\\'\\'{{flag|Indonesia}}\\'\\'\\'&nbsp;– Republic of Indonesia\\n|<span style=\"display:none\">A</span> UN member state\\n|<span style=\"display:none\">A</span> None\\n{{extent}}Indonesia has [[Provinces of Indonesia|five provinces]] with official special autonomy status: [[Aceh]], [[Jakarta|Jakarta SCR]], [[Yogyakarta Special Region|Yogyakarta SR]], [[Papua (province)|Papua]], and [[West Papua (province)|West Papua]].{{efn|name=\"autonomous\"}}\\n|-\\n|style=\"vertical-align:top;\"|<span id=\"Iran\"></span>\\'\\'\\'{{flag|Iran}}\\'\\'\\'&nbsp;– Islamic Republic of Iran\\n|<span style=\"display:none\">A</span> UN member state\\n|<span style=\"display:none\">A</span> None\\n{{extent}}\\n|-\\n|style=\"vertical-align:top;\"|<span id=\"Iraq\"></span>\\'\\'\\'{{flag|Iraq}}\\'\\'\\'&nbsp;– Republic of Iraq\\n|<span style=\"display:none\">A</span> UN member state\\n|<span style=\"display:none\">A</span> None\\n{{extent}}Iraq is a [[federation]]{{efn|name=\"federal\"}}<ref>[http://portal.unesco.org/ci/en/files/20704/11332732681iraqi_constitution_en.pdf/iraqi_constitution_en.pdf Iraqi constitution] {{webarchive|url=http://arquivo.pt/wayback/20160518175432/http://portal.unesco.org/ci/en/files/20704/11332732681iraqi_constitution_en.pdf/iraqi_constitution_en.pdf |date=18 May 2016 }}</ref> of [[Governorates of Iraq|19 governorates]], five of which make up the autonomous [[Iraqi Kurdistan]].{{efn|name=\"autonomous\"}}\\n|-\\n|style=\"vertical-align:top;\"|<span id=\"Ireland\"></span>\\'\\'\\'{{flag|Ireland}}\\'\\'\\'{{#tag:ref|\"Ireland\" is the official \\'\\'name\\'\\' in English. \"Republic of Ireland\" (the official \\'\\'description\\'\\' in English) and \"Éire\" (the official name in Irish) have sometimes been used unofficially to distinguish the state from the larger [[Ireland|island of Ireland]]; this is officially deprecated.<ref>{{cite journal |journal=Journal of British Studies |volume=46 |pages=72–90 |number=1 |date=January 2007 |publisher=Cambridge University Press on behalf of The North American Conference on British Studies |doi=10.1086/508399 |jstor=10.1086/508399 |title=The Irish Free State/Éire/Republic of Ireland/Ireland: \"A Country by Any Other Name\"? |last=Daly |first=Mary E. }}</ref> See [[names of the Irish state]].}}\\n|<span style=\"display:none\">A</span> UN member state\\n|<span style=\"display:none\">A</span> None\\n{{extent}}Member of the EU.{{efn|name=\"EU\"}}\\n|-\\n|style=\"vertical-align:top;\"|<span id=\"Israel\"></span>\\'\\'\\'{{flag|Israel}}\\'\\'\\'&nbsp;– State of Israel\\n|<span style=\"display:none\">A</span> UN member state\\n| style=\"background:LightCoral;\" |[[International recognition of Israel|Partially unrecognized]]\\n{{extent}}Israel exerts strong control over the territory claimed by [[#Palestine|Palestine]]. Israel annexed [[East Jerusalem]],<ref>{{cite web|url=https://www.knesset.gov.il/laws/special/eng/basic10_eng.htm|title=Basic Law: Jerusalem, Capital of Israel|website=knesset.gov.il}}</ref> an annexation not recognised by the international community.<ref name=dis>{{cite web|url=https://www.cia.gov/library/publications/the-world-factbook/fields/2070.html |title=Disputes: International |work=The World Factbook |accessdate=8 November 2011}}</ref> Israel maintains [[West Bank Areas in the Oslo II Accord|varying levels of control]] over the rest of the [[West Bank]], and although Israel no longer has a permanent civilian or military presence in the [[Gaza Strip]], following its [[Israel\\'s unilateral disengagement plan|unilateral disengagement]], it is still considered by some to be the occupying power under international law.\\n<ref>{{cite web\\n | last = Gold\\n | first = Dore\\n |author2=Institute for Contemporary Affairs\\n | title = Legal Acrobatics: The Palestinian Claim that Gaza is Still \"Occupied\" Even After Israel Withdraws\\n | work = Jerusalem Issue Brief, Vol. 5, No. 3\\n | publisher = Jerusalem Center for Public Affairs\\n | date = 26 August 2005\\n | url = http://www.jcpa.org/brief/brief005-3.htm\\n | accessdate = 16 July 2010\\n}}</ref>\\n<ref>{{cite web\\n | last = Bell\\n | first = Abraham\\n | title = International Law and Gaza: The Assault on Israel\\'s Right to Self-Defense\\n | work = Jerusalem Issue Brief, Vol. 7, No. 29\\n | publisher = Jerusalem Center for Public Affairs\\n | date = 28 January 2008\\n | url = http://www.jcpa.org/brief/brief005-3.htm\\n | accessdate = 16 July 2010\\n}}</ref>\\n<ref>{{Cite press release\\n | title = Address by Foreign Minister Livni to the 8th Herzliya Conference\\n | publisher = Ministry of Foreign Affairs of Israel\\n | date = 22 January 2008\\n | url = http://www.mfa.gov.il/MFA/Government/Speeches+by+Israeli+leaders/2008/Address+by+FM+Livni+to+the+8th+Herzliya+Conference+22-Jan-2008.htm?DisplayMode=print\\n | accessdate = 16 July 2010\\n}}</ref>\\n<ref>{{cite web\\n | last = Salih\\n | first = Zak M.\\n | title = Panelists Disagree Over Gaza\\'s Occupation Status\\n | publisher = [[University of Virginia School of Law]]\\n | date = 17 November 2005\\n | url = http://www.law.virginia.edu/html/news/2005_fall/gaza.htm\\n | accessdate = 16 July 2010\\n | archive-url = https://web.archive.org/web/20160303200844/http://www.law.virginia.edu/html/news/2005_fall/gaza.htm\\n | archive-date = 3 March 2016\\n | url-status = dead\\n | df = dmy-all\\n}}</ref>\\n<ref>{{cite web\\n | title = Israel: \\'Disengagement\\' Will Not End Gaza Occupation\\n | publisher = Human Rights Watch\\n | date = 29 October 2004\\n | url = https://www.hrw.org/english/docs/2004/10/29/isrlpa9577.htm\\n | accessdate = 16 July 2010}}\\n</ref>\\nIsrael is not recognised as a state by [[International recognition of Israel|32 UN members]] (including most Arab states) nor by the [[Sahrawi Arab Democratic Republic|SADR]].\\n|-\\n|style=\"vertical-align:top;\"|<span id=\"Italy\"></span>\\'\\'\\'{{flag|Italy}}\\'\\'\\'&nbsp;– Italian Republic\\n|<span style=\"display:none\">A</span> UN member state\\n|<span style=\"display:none\">A</span> None\\n{{extent}}Member of the EU.{{efn|name=\"EU\"}} [[Italy]] has 5 autonomous regions,{{efn|name=\"autonomous\"}} with varying levels of autonomy from the [[Government of Italy|central government of Italy]], and known officially as \"special status regions\":\\n* {{flag|Aosta Valley}}\\n* {{flag|Friuli-Venezia Giulia}}\\n* {{flag|Sardinia}}\\n* {{flag|Sicily}}\\n* {{flag|Trentino-Alto Adige/Südtirol}}\\n|-\\n|style=\"vertical-align:top;\"|<span id=\"Ivory Coast\"></span>\\'\\'\\'{{flag|Ivory Coast}}\\'\\'\\'&nbsp;– Republic of Côte d\\'Ivoire\\n|<span style=\"display:none\">A</span> UN member state\\n|<span style=\"display:none\">A</span> None\\n{{extent}}\\n|-\\n|style=\"vertical-align:top;\"|<span id=\"Jamaica\"></span>\\'\\'\\'{{flag|Jamaica}}\\'\\'\\'\\n|<span style=\"display:none\">A</span> UN member state\\n|<span style=\"display:none\">A</span> None\\n{{extent}}Jamaica is a [[Commonwealth realm]].{{efn|name=\"realm\"}}\\n|-\\n|style=\"vertical-align:top;\"|<span id=\"Japan\"></span>\\'\\'\\'{{flag|Japan}}\\'\\'\\'\\n|<span style=\"display:none\">A</span> UN member state\\n|<span style=\"display:none\">A</span> None\\n{{extent}}\\n|-\\n|style=\"vertical-align:top;\"|<span id=\"Jordan\"></span>\\'\\'\\'{{flag|Jordan}}\\'\\'\\'&nbsp;– Hashemite Kingdom of Jordan\\n|<span style=\"display:none\">A</span> UN member state\\n|<span style=\"display:none\">A</span> None\\n{{extent}}\\n|-\\n|style=\"vertical-align:top;\"|<span id=\"Kazakhstan\"></span>\\'\\'\\'{{flag|Kazakhstan}}\\'\\'\\'&nbsp;– Republic of Kazakhstan\\n|<span style=\"display:none\">A</span> UN member state\\n|<span style=\"display:none\">A</span> None\\n{{extent}}\\n|-\\n|style=\"vertical-align:top;\"|<span id=\"Kenya\"></span>\\'\\'\\'{{flag|Kenya}}\\'\\'\\'&nbsp;– Republic of Kenya\\n|<span style=\"display:none\">A</span> UN member state\\n|<span style=\"display:none\">A</span> None\\n{{extent}}\\n|-\\n|style=\"vertical-align:top;\"|<span id=\"Kiribati\"></span>\\'\\'\\'{{flag|Kiribati}}\\'\\'\\'&nbsp;– Republic of Kiribati\\n|<span style=\"display:none\">A</span> UN member state\\n|<span style=\"display:none\">A</span> None\\n{{extent}}\\n|-\\n|style=\"vertical-align:top;\"|<span id=\"Korea North\"></span>\\'\\'\\'{{flag|Korea, North}}\\'\\'\\'&nbsp;– Democratic People\\'s Republic of Korea\\n|<span style=\"display:none\">A</span> UN member state\\n| style=\"background:LightCoral;\" |{{claimedby|SKOREA}}\\n{{extent}}North Korea is not recognised by three UN members: [[#France|France]], [[#Japan|Japan]] and [[#Korea South|South Korea]].{{efn|name=\"koreas\"|Both North Korea and South Korea claim to be the sole legitimate government of [[Korea]]. See also [[Foreign relations of North Korea]] and [[Foreign relations of South Korea]].<ref>{{cite web\\n | url = http://www.ioc.u-tokyo.ac.jp/~worldjpn/documents/texts/docs/19650622.T1E.html\\n | title = Treaty on Basic Relations between Japan and the Republic of Korea\\n | accessdate = 27 October 2008\\n}}</ref>}}\\n|-\\n|style=\"vertical-align:top;\"|<span id=\"Korea South\"></span>\\'\\'\\'{{flag|Korea, South}}\\'\\'\\'&nbsp;– Republic of Korea\\n|<span style=\"display:none\">A</span> UN member state\\n| style=\"background:LightCoral;\" |{{claimedby|NKOREA}}\\n{{extent}}South Korea has 1 autonomous region:{{efn|name=\"autonomous\"}}\\n* [[Jeju Island|Jejudo]]<ref>{{cite web|author=Keun Min|title=Greetings|publisher=Jeju Special Self-Governing Province|url=http://english.jeju.go.kr/contents/index.php?mid=02|accessdate = 10 November 2010}}</ref>\\nSouth Korea is not recognised by one UN member: [[#Korea North|North Korea]].{{efn|name=\"koreas\"}}\\n|-\\n|style=\"vertical-align:top;\"|<span style=\"display:none\">ZZZ</span>Kosovo → [[#Kosovo|Kosovo]]\\n|<span style=\"display:none\">A UN member state</span>\\n|<span style=\"display:none\">A None</span>\\n{{extent}}\\n|-\\n|style=\"vertical-align:top;\"|<span id=\"Kuwait\"></span>\\'\\'\\'{{flag|Kuwait}}\\'\\'\\'&nbsp;– State of Kuwait\\n|<span style=\"display:none\">A</span> UN member state\\n|<span style=\"display:none\">A</span> None\\n{{extent}}\\n|-\\n|style=\"vertical-align:top;\"|<span id=\"Kyrgyzstan\"></span>\\'\\'\\'{{flag|Kyrgyzstan}}\\'\\'\\'&nbsp;– Kyrgyz Republic\\n|<span style=\"display:none\">A</span> UN member state\\n|<span style=\"display:none\">A</span> None\\n{{extent}}\\n|-\\n|style=\"vertical-align:top;\"|<span id=\"Laos\"></span>\\'\\'\\'{{flag|Laos}}\\'\\'\\'&nbsp;– Lao People\\'s Democratic Republic\\n|<span style=\"display:none\">A</span> UN member state\\n|<span style=\"display:none\">A</span> None\\n{{extent}}\\n|-\\n|style=\"vertical-align:top;\"|<span id=\"Latvia\"></span>\\'\\'\\'{{flag|Latvia}}\\'\\'\\'&nbsp;– Republic of Latvia\\n|<span style=\"display:none\">A</span> UN member state\\n|<span style=\"display:none\">A</span> None\\n{{extent}}Member of the EU.{{efn|name=\"EU\"}}\\n|-\\n|style=\"vertical-align:top;\"|<span id=\"Lebanon\"></span>\\'\\'\\'{{flag|Lebanon}}\\'\\'\\'&nbsp;– Lebanese Republic\\n|<span style=\"display:none\">A</span> UN member state\\n|<span style=\"display:none\">A</span> None\\n{{extent}}\\n|-\\n|style=\"vertical-align:top;\"|<span id=\"Lesotho\"></span>\\'\\'\\'{{flag|Lesotho}}\\'\\'\\'&nbsp;– Kingdom of Lesotho\\n|<span style=\"display:none\">A</span> UN member state\\n|<span style=\"display:none\">A</span> None\\n{{extent}}\\n|-\\n|style=\"vertical-align:top;\"|<span id=\"Liberia\"></span>\\'\\'\\'{{flag|Liberia}}\\'\\'\\'&nbsp;– Republic of Liberia\\n|<span style=\"display:none\">A</span> UN member state\\n|<span style=\"display:none\">A</span> None\\n{{extent}}\\n|-\\n|style=\"vertical-align:top;\"|<span id=\"Libya\"></span>\\'\\'\\'{{flag|Libya}}\\'\\'\\'\\n|<span style=\"display:none\">A</span> UN member state\\n|<span style=\"display:none\">A</span> None\\n{{extent}}\\n|-\\n|style=\"vertical-align:top;\"|<span id=\"Liechtenstein\"></span>\\'\\'\\'{{flag|Liechtenstein}}\\'\\'\\'&nbsp;– Principality of Liechtenstein\\n|<span style=\"display:none\">A</span> UN member state\\n|<span style=\"display:none\">A</span> None\\n{{extent}}\\n|-\\n|style=\"vertical-align:top;\"|<span id=\"Lithuania\"></span>\\'\\'\\'{{flag|Lithuania}}\\'\\'\\'&nbsp;– Republic of Lithuania\\n|<span style=\"display:none\">A</span> UN member state\\n|<span style=\"display:none\">A</span> None\\n{{extent}}Member of the EU.{{efn|name=\"EU\"}}\\n|-\\n|style=\"vertical-align:top;\"|<span id=\"Luxembourg\"></span>\\'\\'\\'{{flag|Luxembourg}}\\'\\'\\'&nbsp;– Grand Duchy of Luxembourg\\n|<span style=\"display:none\">A</span> UN member state\\n|<span style=\"display:none\">A</span> None\\n{{extent}}Member of the EU.{{efn|name=\"EU\"}}\\n|-\\n|style=\"vertical-align:top;\"|<span id=\"Madagascar\"></span>\\'\\'\\'{{flag|Madagascar}}\\'\\'\\'&nbsp;– Republic of Madagascar\\n|<span style=\"display:none\">A</span> UN member state\\n|<span style=\"display:none\">A</span> None\\n{{extent}}\\n|-\\n|style=\"vertical-align:top;\"|<span id=\"Malawi\"></span>\\'\\'\\'{{flag|Malawi}}\\'\\'\\'&nbsp;– Republic of Malawi\\n|<span style=\"display:none\">A</span> UN member state\\n|<span style=\"display:none\">A</span> None\\n{{extent}}\\n|-\\n|style=\"vertical-align:top;\"|<span id=\"Malaysia\"></span>\\'\\'\\'{{flag|Malaysia}}\\'\\'\\'\\n|<span style=\"display:none\">A</span> UN member state\\n|<span style=\"display:none\">A</span> None\\n{{extent}}Malaysia is a [[federation]] of [[States of Malaysia|13 states and three federal territories]].\\n|-\\n|style=\"vertical-align:top;\"|<span id=\"Maldives\"></span>\\'\\'\\'{{flag|Maldives}}\\'\\'\\'&nbsp;– Republic of Maldives\\n|<span style=\"display:none\">A</span> UN member state\\n|<span style=\"display:none\">A</span> None\\n{{extent}}\\n|-\\n|style=\"vertical-align:top;\"|<span id=\"Mali\"></span>\\'\\'\\'{{flag|Mali}}\\'\\'\\'&nbsp;– Republic of Mali\\n|<span style=\"display:none\">A</span> UN member state\\n|<span style=\"display:none\">A</span> None\\n{{extent}}\\n|-\\n|style=\"vertical-align:top;\"|<span id=\"Malta\"></span>\\'\\'\\'{{flag|Malta}}\\'\\'\\'&nbsp;– Republic of Malta\\n|<span style=\"display:none\">A</span> UN member state\\n|<span style=\"display:none\">A</span> None\\n{{extent}}Member of the EU.{{efn|name=\"EU\"}}\\n|-\\n|style=\"vertical-align:top;\"|<span id=\"Marshall Islands\"></span>\\'\\'\\'{{flag|Marshall Islands}}\\'\\'\\'&nbsp;– Republic of the Marshall Islands\\n|<span style=\"display:none\">A</span> UN member state\\n|<span style=\"display:none\">A</span> None\\n{{extent}}Under [[Compact of Free Association]] with the [[#United States|United States]].\\n|-\\n|style=\"vertical-align:top;\"|<span id=\"Mauritania\"></span>\\'\\'\\'{{flag|Mauritania}}\\'\\'\\'&nbsp;– Islamic Republic of Mauritania\\n|<span style=\"display:none\">A</span> UN member state\\n|<span style=\"display:none\">A</span> None\\n{{extent}}\\n|-\\n|style=\"vertical-align:top;\"|<span id=\"Mauritius\"></span>\\'\\'\\'{{flag|Mauritius}}\\'\\'\\'&nbsp;– Republic of Mauritius\\n|<span style=\"display:none\">A</span> UN member state\\n|<span style=\"display:none\">A</span> None\\n{{extent}}Mauritius has an autonomous island, [[Rodrigues]].{{efn|name=\"autonomous\"}}\\n|-\\n|style=\"vertical-align:top;\"|<span id=\"Mexico\"></span>\\'\\'\\'{{flag|Mexico}}\\'\\'\\'&nbsp;– United Mexican States\\n|<span style=\"display:none\">A</span> UN member state\\n|<span style=\"display:none\">A</span> None\\n{{extent}}Mexico is a [[federation]] of [[Political divisions of Mexico|31 states and one autonomous city]].\\n|-\\n|style=\"vertical-align:top;\"|<span id=\"Micronesia\"></span>\\'\\'\\'{{flag|Micronesia}}\\'\\'\\'&nbsp;– Federated States of Micronesia\\n|<span style=\"display:none\">A</span> UN member state\\n|<span style=\"display:none\">A</span> None\\n{{extent}}Under [[Compact of Free Association]] with the [[#United States|United States]]. The Federated States of Micronesia is a [[federation]] of [[Administrative divisions of the Federated States of Micronesia|four states]].\\n|-\\n|style=\"vertical-align:top;\"|<span id=\"Moldova\"></span>\\'\\'\\'{{flag|Moldova}}\\'\\'\\'&nbsp;– Republic of Moldova\\n|<span style=\"display:none\">A</span> UN member state\\n|<span style=\"display:none\">A</span> None\\n{{extent}}Moldova has the autonomous regions of [[Gagauzia]] and [[#Transnistria|Transnistria]], the latter of which has established a de facto state.\\n|-\\n|style=\"vertical-align:top;\"|<span id=\"Monaco\"></span>\\'\\'\\'{{flag|Monaco}}\\'\\'\\'&nbsp;– Principality of Monaco\\n|<span style=\"display:none\">A</span> UN member state\\n|<span style=\"display:none\">A</span> None\\n{{extent}}\\n|-\\n|style=\"vertical-align:top;\"|<span id=\"Mongolia\"></span>\\'\\'\\'{{flag|Mongolia}}\\'\\'\\'\\n|<span style=\"display:none\">A</span> UN member state\\n|<span style=\"display:none\">A</span> None\\n{{extent}}\\n|-\\n|style=\"vertical-align:top;\"|<span id=\"Montenegro\"></span>\\'\\'\\'{{flag|Montenegro}}\\'\\'\\'\\n|<span style=\"display:none\">A</span> UN member state\\n|<span style=\"display:none\">A</span> None\\n{{extent}}\\n|-\\n|style=\"vertical-align:top;\"|<span id=\"Morocco\"></span>\\'\\'\\'{{flag|Morocco}}\\'\\'\\'&nbsp;– Kingdom of Morocco\\n|<span style=\"display:none\">A</span> UN member state\\n|<span style=\"display:none\">A</span> None\\n{{extent}}Morocco claims sovereignty over [[Western Sahara]] and controls most of it, which is disputed by the [[#SADR|Sahrawi Arab Democratic Republic]].\\n|-\\n|style=\"vertical-align:top;\"|<span id=\"Mozambique\"></span>\\'\\'\\'{{flag|Mozambique}}\\'\\'\\'&nbsp;– Republic of Mozambique\\n|<span style=\"display:none\">A</span> UN member state\\n|<span style=\"display:none\">A</span> None\\n{{extent}}\\n|-\\n|style=\"vertical-align:top;\"|<span id=\"Myanmar\"></span>\\'\\'\\'{{flag|Myanmar}}\\'\\'\\'&nbsp;– Republic of the Union of Myanmar{{efn|The government changed the state\\'s official name in English from \"Union of Myanmar\" to \"Republic of the Union of Myanmar\" in October 2010.<ref>{{Cite news|title=Myanmar gets new flag, official name, anthem|url=http://ca.reuters.com/article/topNews/idCATRE69K2HM20101021|agency=Reuters|date=21 October 2010|accessdate=22 October 2010}}</ref>}}\\n|<span style=\"display:none\">A</span> UN member state\\n|<span style=\"display:none\">A</span> None\\n{{extent}}\\n|-\\n|style=\"vertical-align:top;\"|<span style=\"display:none\">ZZZ</span>Nagorno-Karabakh → [[#Artsakh|Artsakh]]\\n|<span style=\"display:none\">A UN member state</span>\\n|<span style=\"display:none\">A None</span>\\n|\\n|-\\n|style=\"vertical-align:top;\"|<span id=\"Namibia\"></span>\\'\\'\\'{{flag|Namibia}}\\'\\'\\'&nbsp;– Republic of Namibia\\n|<span style=\"display:none\">A</span> UN member state\\n|<span style=\"display:none\">A</span> None\\n{{extent}}\\n|-\\n|style=\"vertical-align:top;\"|<span id=\"Nauru\"></span>\\'\\'\\'{{flag|Nauru}}\\'\\'\\'&nbsp;– Republic of Nauru\\n|<span style=\"display:none\">A</span> UN member state\\n|<span style=\"display:none\">A</span> None\\n{{extent}}\\n|-\\n|style=\"vertical-align:top;\"|<span id=\"Nepal\"></span>\\'\\'\\'{{flag|Nepal}}\\'\\'\\'&nbsp;– Federal Democratic Republic of Nepal\\n|<span style=\"display:none\">A</span> UN member state\\n|<span style=\"display:none\">A</span> None\\n{{extent}}Nepal is a [[federation]] composed of [[Zones of Nepal|14 zones]].\\n|-\\n|style=\"vertical-align:top;\"|<span id=\"Netherlands\"></span>\\'\\'\\'{{flagcountry|Netherlands}}\\'\\'\\'<!--Link to state instead of country-->&nbsp;– Kingdom of the Netherlands<!-- Note that the Netherlands is not the sovereign state, the Kingdom is—see [[Kingdom of the Netherlands#The distinction between the Netherlands and \"the Kingdom\"]]. -->\\n|<span style=\"display:none\">A</span> UN member state\\n|<span style=\"display:none\">A</span> None\\n{{extent}}Member of the EU.{{efn|name=\"EU\"}} The [[Kingdom of the Netherlands]] includes four areas with substantial autonomy:\\n\\n* {{flag|Aruba}}\\n* {{flag|Curaçao}}\\n* {{flag|Netherlands}}\\n* {{flag|Sint Maarten}}\\n\\nThe continental part of the Netherlands, Aruba, Curaçao, and Sint Maarten form the four constituent countries of the Kingdom. Three other territories ([[Bonaire]], [[Saba]], and [[Sint Eustatius]]) are [[Caribbean Netherlands|special municipalities]] of the continental Netherlands.\\n\\nThe designation \"Netherlands\" can refer either to the continental Netherlands or to the short name for the entire Kingdom (e.g. in international organizations). The Kingdom of the Netherlands as a whole is a member of the EU, but EU law applies only to parts within Europe.\\n|-\\n|style=\"vertical-align:top;\"|<span id=\"New Zealand\"></span>\\'\\'\\'{{flag|New Zealand}}\\'\\'\\'\\n|<span style=\"display:none\">A</span> UN member state\\n|<span style=\"display:none\">A</span> None\\n{{extent}}New Zealand is a [[Commonwealth realm]],{{efn|name=\"realm\"}} and has the dependent territories of:\\n\\n* {{noflag|[[Ross Dependency]]}}\\n* {{flag|Tokelau}}\\n\\nNew Zealand has responsibilities for (but no rights of control over) two freely [[associated state]]s:\\n\\n* {{flag|Cook Islands}}\\n* {{flag|Niue}}\\n\\nThe Cook Islands and Niue have diplomatic relations with {{Numrel|CK|alt2= |}} and {{Numrel|Niue|alt2= |}} UN members respectively.<ref>{{cite web\\n | author = Federal Foreign Office of Germany\\n | title = Beziehungen zu Deutschland\\n | publisher = Government of Germany\\n | date = November 2009\\n | url = http://www.auswaertiges-amt.de/diplo/de/Laenderinformationen/Cookinseln/Bilateral.html\\n | accessdate = 16 July 2010}} For more information, see [[Foreign relations of the Cook Islands]].</ref><ref>{{cite web\\n | author = China Internet Information Centre\\n | title = Full text of joint communique on the establishment of diplomatic relations between China and Niue\\n | agency = Xinhua News Agency\\n | date = 13 December 2007\\n | url = http://www.china.org.cn/english/international/235447.htm\\n | accessdate = 16 July 2010}}</ref><ref>{{cite web\\n |author=Republic of Nauru Permanent Mission to the United Nations\\n |work=Foreign Affairs\\n |publisher=United Nations\\n |url=http://www.un.int/nauru/foreignaffairs.html\\n |accessdate=16 July 2010\\n |url-status=dead\\n |archiveurl=https://web.archive.org/web/20141004083335/http://www.un.int/nauru/foreignaffairs.html\\n |archivedate=4 October 2014\\n}}</ref> They have full treaty-making capacity in the UN,<ref name=\"untreaty1\">{{cite web |url=http://untreaty.un.org/cod/repertory/art102/english/rep_supp8_vol6-art102_e_advance.pdf |title=Archived copy |accessdate=15 July 2011 |url-status=dead |archiveurl=https://web.archive.org/web/20120403031600/http://untreaty.un.org/cod/repertory/art102/english/rep_supp8_vol6-art102_e_advance.pdf |archivedate=3 April 2012 |df=mdy-all }}</ref> and are members of some [[List of specialized agencies of the United Nations|UN specialized agencies]].\\n|-\\n|style=\"vertical-align:top;\"|<span id=\"Nicaragua\"></span>\\'\\'\\'{{flag|Nicaragua}}\\'\\'\\'&nbsp;– Republic of Nicaragua\\n|<span style=\"display:none\">A</span> UN member state\\n|<span style=\"display:none\">A</span> None\\n{{extent}}Nicaragua contains two autonomous regions, [[Región Autónoma del Atlántico Sur|Atlántico Sur]] and [[Región Autónoma del Atlántico Norte|Atlántico Norte]].{{efn|name=\"autonomous\"}}\\n|-\\n|style=\"vertical-align:top;\"|<span id=\"Niger\"></span>\\'\\'\\'{{flag|Niger}}\\'\\'\\'&nbsp;– Republic of Niger\\n|<span style=\"display:none\">A</span> UN member state\\n|<span style=\"display:none\">A</span> None\\n{{extent}}\\n|-\\n|style=\"vertical-align:top;\"|<span id=\"Nigeria\"></span>\\'\\'\\'{{flag|Nigeria}}\\'\\'\\'&nbsp;– Federal Republic of Nigeria\\n|<span style=\"display:none\">A</span> UN member state\\n|<span style=\"display:none\">A</span> None\\n{{extent}}Nigeria is a [[federation]] of [[States of Nigeria|36 states and 1 federal territory]].\\n|-\\n|style=\"vertical-align:top;\"|<span style=\"display:none\">ZZZ</span>Niue → [[#Niue|Niue]]\\n|<span style=\"display:none\">A UN member state</span>\\n|<span style=\"display:none\">A None</span>\\n{{extent}}\\n|-\\n|style=\"vertical-align:top;\"|<span style=\"display:none\">ZZZ</span>Northern Cyprus → [[#Northern Cyprus|Northern Cyprus]]\\n|<span style=\"display:none\">A UN member state</span>\\n|<span style=\"display:none\">A None</span>\\n|\\n|-\\n|style=\"vertical-align:top;\"|North Korea → [[#Korea North|Korea, North]]\\n|<span style=\"display:none\">A UN member state</span>\\n|<span style=\"display:none\">A None</span>\\n|\\n|-\\n|style=\"vertical-align:top;\"|<span id=\"North Macedonia\"></span>\\'\\'\\'{{flag|MKD|name=North Macedonia}}\\'\\'\\'&nbsp;– Republic of North Macedonia\\n|<span style=\"display:none\">A</span> UN member state\\n|<span style=\"display:none\">A</span> None\\n|-\\n|style=\"vertical-align:top;\"|<span id=\"Norway\"></span>\\'\\'\\'{{flag|Norway}}\\'\\'\\'&nbsp;– Kingdom of Norway\\n|<span style=\"display:none\">A</span> UN member state\\n|<span style=\"display:none\">A</span> None\\n{{extent}}\\n\\n* [[Svalbard]] is an integral part of Norway, but has a special status due to the [[Svalbard Treaty]].\\n* [[Jan Mayen]] is an island that is an integral part of Norway, although [[Unincorporated area|unincorporated]].\\n\\nNorway has the dependent territories of:\\n\\n* [[Bouvet Island]]\\n* [[Peter I Island]]\\n* [[Queen Maud Land]]\\n|-\\n|style=\"vertical-align:top;\"|<span id=\"Oman\"></span>\\'\\'\\'{{flag|Oman}}\\'\\'\\'&nbsp;– Sultanate of Oman\\n|<span style=\"display:none\">A</span> UN member state\\n|<span style=\"display:none\">A</span> None\\n{{extent}}\\n|-\\n|style=\"vertical-align:top;\"|<span id=\"Pakistan\"></span>\\'\\'\\'{{flag|Pakistan}}\\'\\'\\'&nbsp;– Islamic Republic of Pakistan\\n|<span style=\"display:none\">A</span> UN member state\\n|<span style=\"display:none\">A</span> None\\n{{extent}}Pakistan is a [[federation]] of [[Subdivisions of Pakistan|four provinces, 1 capital territory, and tribal regions]]. Pakistan disputes the entire territory of [[Kashmir]] with [[India]], and part of it with the [[China|People\\'s Republic of China]]. It exercises control over [[Pakistan-administered Kashmir|certain portions]] of Kashmir, but has not officially annexed any of it,<ref>Constitution of Pakistan, Art. 1.</ref><ref>{{Cite news\\n | author = Aslam, Tasnim\\n | title = \\'Pakistan Does Not Claim Kashmir As An Integral Part...\\'\\n | url = http://www.outlookindia.com/article.aspx?233374\\n | newspaper = Outlook India\\n | publisher = The Outlook Group\\n | date = 11 December 2006\\n }}</ref> instead regarding it as a disputed territory.<ref>{{Cite book\\n | last = Williams\\n | first = Kristen P.\\n | title = Despite nationalist conflicts: theory and practice of maintaining world peace\\n | publisher = Greenwood Publishing Group\\n | year = 2001\\n | pages = 154–155\\n | url = https://books.google.com/?id=OYmurpH3ahsC\\n | isbn = 978-0-275-96934-9}}</ref><ref>{{Cite book\\n | last = Pruthi\\n | first = R.K.\\n | title = An Encyclopaedic Survey Of Global Terrorism In 21St Century\\n | publisher = Anmol Publications Pvt. Ltd.\\n | year = 2001\\n | pages = 120–121\\n | url = https://books.google.com/?id=C3yDkKDbZ3YC\\n | isbn = 978-81-261-1091-9}}</ref> The portions that it controls are divided into two territories, administered separately from Pakistan proper:{{efn|name=\"Kashmir\"|Sovereignty over [[Kashmir]] is disputed between [[#India|India]] and [[#Pakistan|Pakistan]]; smaller parts are disputed by the [[#China|People\\'s Republic of China]] and the [[#Taiwan|Republic of China]]. Kashmir is divided between India, Pakistan and the PRC. See the [[List of territorial disputes]].}}\\n\\n* {{flag|Azad Kashmir}}\\n* {{flag|Gilgit Baltistan}}\\n\\nAzad Kashmir describes itself as a \"self-governing state under Pakistani control\", while Gilgit-Baltistan is described in its governance order as a group of \"areas\" with self-government.<ref>{{cite web |url=http://home.ajk.gov.pk/index.php?option=com_content&view=article&id=72&catid=14 |title=Archived copy |accessdate=2014-07-28 |url-status=dead |archiveurl=https://web.archive.org/web/20140812174212/http://home.ajk.gov.pk/index.php?option=com_content&view=article&id=72&catid=14 |archivedate=12 August 2014 |df=dmy-all }}</ref><ref name=\"gbtribune.files.wordpress.com\">http://gbtribune.files.wordpress.com/2012/09/self-governance-order-2009.pdf</ref><ref name=\"AJ&KHistory\">{{cite web|url=http://www.ajk.gov.pk/history.php|title=AJ&K History|accessdate=6 January 2018}}</ref> These territories are not usually regarded as sovereign, as they do not fulfill the criteria set out by the declarative theory of statehood (for example, their current laws do not allow them to engage independently in relations with other states). Several state functions of these territories (such as foreign affairs and defence) are performed by Pakistan.<ref name=\"gbtribune.files.wordpress.com\"/><ref>{{cite book|url=https://books.google.com/?id=z-aRAwAAQBAJ&pg=PA1100&dq=azad+kashmir+gilgit+baltistan#v=onepage&q=azad%20kashmir%20gilgit%20baltistan&f=false|title=Political Handbook of the World 2014|publisher=|accessdate=5 October 2014|isbn=9781483333281|last1=Lansford|first1=Tom|date=2014-04-08}}</ref><ref>http://www.ajkassembly.gok.pk/AJK_Interim_Constitution_Act_1974.pdf</ref>\\n|-\\n|style=\"vertical-align:top;\"|<span id=\"Palau\"></span>\\'\\'\\'{{flag|Palau}}\\'\\'\\'&nbsp;– Republic of Palau\\n|<span style=\"display:none\">A</span> UN member state\\n|<span style=\"display:none\">A</span> None\\n{{extent}}Under [[Compact of Free Association]] with the [[#United States|United States]].\\n|-\\n|style=\"vertical-align:top;\"|<span id=\"Palestine\"></span>\\'\\'\\'{{flagcountry|State of Palestine}}\\'\\'\\'&nbsp;– State of Palestine\\n| style=\"background:LightSkyBlue;\" |<span style=\"display:none\">A</span> [[United Nations General Assembly observers|UN observer state]]; member of 1 [[List of specialized agencies of the United Nations|UN specialized agency]]\\n| style=\"background:LightCoral;\" | [[International recognition of the State of Palestine|Partially unrecognized]]. {{claimedby|ISRAEL}}\\n{{extent}}The declared State of Palestine has received diplomatic recognition from {{Numrec|Pal}} states.<ref>{{cite web|author=Palestine Liberation Organization|title=Road For Palestinian Statehood: Recognition and Admission|url=http://www.nad-plo.org/etemplate.php?id=5|publisher=Negotiations Affairs Department|accessdate=28 July 2011|url-status=dead|archiveurl=https://web.archive.org/web/20110818214013/http://www.nad-plo.org/etemplate.php?id=5|archivedate=18 August 2011|df=mdy-all}}</ref> The proclaimed state has no agreed territorial borders, or effective control on much of the territory that it proclaimed.<ref>See the following on statehood criteria:\\n* {{cite journal|author=Mendes, Errol|title=Statehood and Palestine for the purposes of Article 12 (3) of the ICC Statute|url=http://uclalawforum.com/media/background/gaza/2010-03-30_Mendes-Memo.pdf|pages=28, 33|date=30 March 2010|publisher=30 March 2010|accessdate=17 April 2011|postscript=:}} \"...the Palestinian State also meets the traditional criteria under the Montevideo Convention...\"; \"...the fact that a majority of states have recognised Palestine as a State should easily fulfill the requisite state practice\".\\n* {{cite journal|author=McKinney, Kathryn M.|title=The Legal Effects of the Israeli-PLO Declaration ofPrinciples: Steps Toward Statehood for Palestine|url=http://lawpublications.seattleu.edu/cgi/viewcontent.cgi?article=1438&context=sulr&sei-redir=1#search=%22palestine+%22constitutive+theory%22+statehood%22|journal=Seattle University Law Review|volume=18|issue=93|year=1994|page=97|publisher=Seattle University|accessdate=17 April 2011|postscript=:|url-status=dead|archiveurl=https://web.archive.org/web/20110722063030/http://lawpublications.seattleu.edu/cgi/viewcontent.cgi?article=1438&context=sulr&sei-redir=1#search=%22palestine+%22constitutive+theory%22+statehood%22|archivedate=22 July 2011|df=dmy-all}} \"It is possible, however, to argue for Palestinian statehood based on the constitutive theory\".\\n* {{cite journal|author=McDonald, Avril|title=Operation Cast Lead: Drawing the Battle Lines of the Legal Dispute|url=https://litigation-essentials.lexisnexis.com/webcd/app?action=DocumentDisplay&crawlid=1&doctype=cite&docid=16+Hum.+Rts.+Br.+25&srctype=smi&srcid=3B15&key=74ccae52ba220673512e7784449388f0|journal=Human Rights Brief|volume=25|date=Spring 2009|publisher=Washington College of Law, Center for Human Rights and Humanitarian Law|accessdate=17 April 2011|postscript=:}} \"Whether one applies the criteria of statehood set out in the Montevideo Convention or the more widely accepted constitutive theory of statehood, Palestine might be considered a state.\"</ref> The [[Palestinian National Authority]] is an interim administrative body formed as a result of the [[Oslo Accords]] that exercises limited autonomous jurisdiction within the [[Palestinian territories]]. In foreign relations, Palestine is represented by the [[Palestine Liberation Organization]].<ref name=\"unnms\"/> The State of Palestine is a member state of UNESCO,<ref>{{cite web|author=United Nations Educational, Scientific and Cultural Organization|title=Arab States: Palestine|url=http://www.unesco.org/new/en/unesco/worldwide/arab-states/palestine/|publisher=United Nations|accessdate=3 December 2011}}</ref> and an observer state in the UN.\\n|-\\n|style=\"vertical-align:top;\"|<span id=\"Panama\"></span>\\'\\'\\'{{flag|Panama}}\\'\\'\\'&nbsp;– Republic of Panama\\n|<span style=\"display:none\">A</span> UN member state\\n|<span style=\"display:none\">A</span> None\\n{{extent}}\\n|-\\n|style=\"vertical-align:top;\"|<span id=\"Papua New Guinea\"></span>\\'\\'\\'{{flag|Papua New Guinea}}\\'\\'\\'&nbsp;– Independent State of Papua New Guinea\\n|<span style=\"display:none\">A</span> UN member state\\n|<span style=\"display:none\">A</span> None\\n{{extent}}Papua New Guinea is a [[Commonwealth realm]]{{efn|name=\"realm\"}} with 1 autonomous region, [[Autonomous Region of Bougainville|Bougainville]].{{efn|name=\"autonomous\"}}\\n|-\\n|style=\"vertical-align:top;\"|<span id=\"Paraguay\"></span>\\'\\'\\'{{flag|Paraguay}}\\'\\'\\'&nbsp;– Republic of Paraguay\\n|<span style=\"display:none\">A</span> UN member state\\n|<span style=\"display:none\">A</span> None\\n{{extent}}Member of the UNASUL.{{efn|name=\"UNASUL\"}}\\n|-\\n|style=\"vertical-align:top;\"|<span id=\"Peru\"></span>\\'\\'\\'{{flag|Peru}}\\'\\'\\'&nbsp;– Republic of Peru\\n|<span style=\"display:none\">A</span> UN member state\\n|<span style=\"display:none\">A</span> None\\n{{extent}}Member of the UNASUL.{{efn|name=\"UNASUL\"}}\\n|-\\n|style=\"vertical-align:top;\"|<span id=\"Philippines\"></span>\\'\\'\\'{{flag|Philippines}}\\'\\'\\'&nbsp;– Republic of the Philippines\\n|<span style=\"display:none\">A</span> UN member state\\n|<span style=\"display:none\">A</span> None\\n{{extent}}The Philippines contains one autonomous region, [[Autonomous Region in Muslim Mindanao]].{{efn|name=\"autonomous\"}}\\n|-\\n|style=\"vertical-align:top;\"|<span id=\"Poland\"></span>\\'\\'\\'{{flag|Poland}}\\'\\'\\'&nbsp;– Republic of Poland\\n|<span style=\"display:none\">A</span> UN member state\\n|<span style=\"display:none\">A</span> None\\n{{extent}}Member of the EU.{{efn|name=\"EU\"}}\\n|-\\n|style=\"vertical-align:top;\"|<span id=\"Portugal\"></span>\\'\\'\\'{{flag|Portugal}}\\'\\'\\'&nbsp;– Portuguese Republic\\n|<span style=\"display:none\">A</span> UN member state\\n|<span style=\"display:none\">A</span> None\\n{{extent}}Member of the EU.{{efn|name=\"EU\"}} Portugal contains two autonomous regions, [[Azores]] and [[Madeira]].{{efn|name=\"autonomous\"}}\\n|-\\n|style=\"vertical-align:top;\"|Pridnestrovie → [[#Transnistria|Transnistria]]\\n|<span style=\"display:none\">A UN member state</span>\\n|<span style=\"display:none\">A None</span>\\n|\\n|-\\n|style=\"vertical-align:top;\"|<span id=\"Qatar\"></span>\\'\\'\\'{{flag|Qatar}}\\'\\'\\'&nbsp;– State of Qatar\\n|<span style=\"display:none\">A</span> UN member state\\n|<span style=\"display:none\">A</span> None\\n{{extent}}\\n|-\\n|style=\"vertical-align:top;\"|Republic of Korea → [[#Korea South|Korea, South]]\\n|<span style=\"display:none\">A UN member state</span>\\n|<span style=\"display:none\">A None</span>\\n|\\n|-\\n|style=\"vertical-align:top;\"|Republic of the Congo → [[#Congo, Republic of the|Congo, Republic of the]]\\n|<span style=\"display:none\">A UN member state</span>\\n|<span style=\"display:none\">A None</span>\\n|\\n|-\\n|style=\"vertical-align:top;\"|<span id=\"Romania\"></span>\\'\\'\\'{{flag|Romania}}\\'\\'\\'\\n|<span style=\"display:none\">A</span> UN member state\\n|<span style=\"display:none\">A</span> None\\n{{extent}}Member of the EU.{{efn|name=\"EU\"}}\\n|-\\n|style=\"vertical-align:top;\"|<span id=\"Russia\"></span>\\'\\'\\'{{flag|Russia}}\\'\\'\\'&nbsp;– Russian Federation\\n|<span style=\"display:none\">A</span> UN member state\\n|<span style=\"display:none\">A</span> None\\n{{extent}}Russia is officially a [[federation]] of 85&nbsp;[[federal subjects of Russia|federal subjects]] (republics, oblasts, krais, autonomous okrugs, federal cities, and an autonomous oblast). Several of the federal subjects are ethnic republics.{{efn|name=\"autonomous\"}} Russia also forms the [[Union State]] jointly with [[Belarus]].\\n|-\\n|style=\"vertical-align:top;\"|<span id=\"Rwanda\"></span>\\'\\'\\'{{flag|Rwanda}}\\'\\'\\'&nbsp;– Republic of Rwanda\\n|<span style=\"display:none\">A</span> UN member state\\n|<span style=\"display:none\">A</span> None\\n{{extent}}\\n|-\\n|style=\"vertical-align:top;\"|<span style=\"display:none\">ZZZ</span>Sahrawi Arab Democratic Republic → [[#SADR|Sahrawi Arab Democratic Republic]]\\n|<span style=\"display:none\">A UN member state</span>\\n|<span style=\"display:none\">A None</span>\\n|\\n|-\\n|style=\"vertical-align:top;\"|<span id=\"Saint Kitts and Nevis\"></span>\\'\\'\\'{{flag|Saint Kitts and Nevis}}\\'\\'\\'&nbsp;– Federation of Saint Christopher and Nevis\\n|<span style=\"display:none\">A</span> UN member state\\n|<span style=\"display:none\">A</span> None\\n{{extent}}Saint Kitts and Nevis is a [[Commonwealth realm]]{{efn|name=\"realm\"}} and is a [[federation]]{{efn|name=\"federal\"}} of two islands, [[St. Kitts]] and [[Nevis]].\\n|-\\n|style=\"vertical-align:top;\"|<span id=\"Saint Lucia\"></span>\\'\\'\\'{{flag|Saint Lucia}}\\'\\'\\'\\n|<span style=\"display:none\">A</span> UN member state\\n|<span style=\"display:none\">A</span> None\\n{{extent}}Saint Lucia is a [[Commonwealth realm]].{{efn|name=\"realm\"}}\\n|-\\n|style=\"vertical-align:top;\"|<span id=\"Saint Vincent and the Grenadines\"></span>\\'\\'\\'{{flag|Saint Vincent and the Grenadines}}\\'\\'\\'\\n|<span style=\"display:none\">A</span> UN member state\\n|<span style=\"display:none\">A</span> None\\n{{extent}}Saint Vincent and the Grenadines is a [[Commonwealth realm]].{{efn|name=\"realm\"}}\\n|-\\n|style=\"vertical-align:top;\"|<span id=\"Samoa\"></span>\\'\\'\\'{{flag|Samoa}}\\'\\'\\'&nbsp;– Independent State of Samoa\\n|<span style=\"display:none\">A</span> UN member state\\n|<span style=\"display:none\">A</span> None\\n{{extent}}\\n|-\\n|style=\"vertical-align:top;\"|<span id=\"San Marino\"></span>\\'\\'\\'{{flag|San Marino}}\\'\\'\\'&nbsp;– Republic of San Marino\\n|<span style=\"display:none\">A</span> UN member state\\n|<span style=\"display:none\">A</span> None\\n{{extent}}\\n|-\\n|style=\"vertical-align:top;\"|<span id=\"São Tomé and Príncipe\"></span>\\'\\'\\'{{flag|São Tomé and Príncipe}}\\'\\'\\'&nbsp;– Democratic Republic of São Tomé and Príncipe\\n|<span style=\"display:none\">A</span> UN member state\\n|<span style=\"display:none\">A</span> None\\n{{extent}}São Tomé and Príncipe contains 1 autonomous province, [[Príncipe]].{{efn|name=\"autonomous\"}}\\n|-\\n|style=\"vertical-align:top;\"|<span id=\"Saudi Arabia\"></span>\\'\\'\\'{{flag|Saudi Arabia}}\\'\\'\\'&nbsp;– Kingdom of Saudi Arabia\\n|<span style=\"display:none\">A</span> UN member state\\n|<span style=\"display:none\">A</span> None\\n{{extent}}\\n<!--Sealand is not a sovereign state according to the definition in the introduction of this article and should not be included-->\\n<!--Scotland is not a sovereign state according to the definition in the introduction of this article and should not be included-->\\n|-\\n|style=\"vertical-align:top;\"|<span id=\"Senegal\"></span>\\'\\'\\'{{flag|Senegal}}\\'\\'\\'&nbsp;– Republic of Senegal\\n|<span style=\"display:none\">A</span> UN member state\\n|<span style=\"display:none\">A</span> None\\n{{extent}}\\n|-\\n|style=\"vertical-align:top;\"|<span id=\"Serbia\"></span>\\'\\'\\'{{flag|Serbia}}\\'\\'\\'&nbsp;– Republic of Serbia\\n|<span style=\"display:none\">A</span> UN member state\\n|<span style=\"display:none\">A</span> None\\n{{extent}}Serbia contains two autonomous regions, [[Vojvodina]] and [[Kosovo and Metohija]].{{efn|name=\"autonomous\"}} The latter is under the de facto control of the [[#Kosovo|Republic of Kosovo]].\\n|-\\n|style=\"vertical-align:top;\"|<span id=\"Seychelles\"></span>\\'\\'\\'{{flag|Seychelles}}\\'\\'\\'&nbsp;– Republic of Seychelles\\n|<span style=\"display:none\">A</span> UN member state\\n|<span style=\"display:none\">A</span> None\\n{{extent}}\\n|-\\n|style=\"vertical-align:top;\"|<span id=\"Sierra Leone\"></span>\\'\\'\\'{{flag|Sierra Leone}}\\'\\'\\'&nbsp;– Republic of Sierra Leone\\n|<span style=\"display:none\">A</span> UN member state\\n|<span style=\"display:none\">A</span> None\\n{{extent}}\\n|-\\n|style=\"vertical-align:top;\"|<span id=\"Singapore\"></span>\\'\\'\\'{{flag|Singapore}}\\'\\'\\'&nbsp;– Republic of Singapore\\n|<span style=\"display:none\">A</span> UN member state\\n|<span style=\"display:none\">A</span> None\\n{{extent}}\\n|-\\n|style=\"vertical-align:top;\"|<span id=\"Slovakia\"></span>\\'\\'\\'{{flag|Slovakia}}\\'\\'\\'&nbsp;– Slovak Republic\\n|<span style=\"display:none\">A</span> UN member state\\n|<span style=\"display:none\">A</span> None\\n{{extent}}Member of the EU.{{efn|name=\"EU\"}}\\n|-\\n|style=\"vertical-align:top;\"|<span id=\"Slovenia\"></span>\\'\\'\\'{{flag|Slovenia}}\\'\\'\\'&nbsp;– Republic of Slovenia\\n|<span style=\"display:none\">A</span> UN member state\\n|<span style=\"display:none\">A</span> None\\n{{extent}}Member of the EU.{{efn|name=\"EU\"}}\\n|-\\n|style=\"vertical-align:top;\"|<span id=\"Solomon Islands\"></span>\\'\\'\\'{{flag|Solomon Islands}}\\'\\'\\'\\n|<span style=\"display:none\">A</span> UN member state\\n|<span style=\"display:none\">A</span> None\\n{{extent}}The Solomon Islands is a [[Commonwealth realm]].{{efn|name=\"realm\"}}\\n|-\\n|style=\"vertical-align:top;\"|<span id=\"Somalia\"></span>\\'\\'\\'{{flag|Somalia}}\\'\\'\\'&nbsp;– Federal Republic of Somalia\\n|<span style=\"display:none\">A</span> UN member state\\n|<span style=\"display:none\">A</span> None\\n{{extent}}Somalia has two self-declared autonomous regions: [[Puntland]] and [[Galmudug]], while the territory of [[#Somaliland|Somaliland]] has formed an unrecognised de facto state.\\n|-\\n|style=\"vertical-align:top;\"|<span style=\"display:none\">ZZZ</span>Somaliland → [[#Somaliland|Somaliland]]\\n|<span style=\"display:none\">A UN member state</span>\\n|<span style=\"display:none\">A None</span>\\n|\\n|-\\n|style=\"vertical-align:top;\"|<span id=\"South Africa\"></span>\\'\\'\\'{{flag|South Africa}}\\'\\'\\'&nbsp;– Republic of South Africa\\n|<span style=\"display:none\">A</span> UN member state\\n|<span style=\"display:none\">A</span> None\\n{{extent}}\\n|-\\n|style=\"vertical-align:top;\"|South Korea → [[#Korea South|Korea, South]]\\n|<span style=\"display:none\">A UN member state</span>\\n|<span style=\"display:none\">A None</span>\\n|\\n|-\\n|style=\"vertical-align:top;\"|<span style=\"display:none\">ZZZ</span>South Ossetia → [[#South Ossetia|South Ossetia]]\\n|<span style=\"display:none\">A UN member state</span>\\n|<span style=\"display:none\">A None</span>\\n|\\n|-\\n|style=\"vertical-align:top;\"|<span id=\"South Sudan\"></span>\\'\\'\\'{{flag|South Sudan}}\\'\\'\\'&nbsp;– Republic of South Sudan\\n|<span style=\"display:none\">A</span> UN member state\\n|<span style=\"display:none\">A</span> None\\n{{extent}}South Sudan is a [[federation]] of [[States of South Sudan|28 states]].\\n* The [[Abyei Area]] is a zone with \"special administrative status\" established by the [[Comprehensive Peace Agreement]] in 2005. It is \\'\\'de-jure\\'\\' a condominium of South Sudan and Sudan, but \\'\\'de facto\\'\\' administered by South Sudan.<ref name=UNISFA2017>{{cite web|url=https://unisfa.unmissions.org/statement-unisfa-recent-spate-attacks-abyei|title=Statement from UNISFA on the recent spate of attacks in Abyei|website=UNmissions.org|date=18 October 2017|accessdate=12 February 2018}}</ref><ref name=AbyeiName>{{cite web|url=http://www.gurtong.net/ECM/Editorial/tabid/124/ctl/ArticleView/mid/519/articleId/17103/Abyei-Administration-Area-Changes-Name.aspx|title=Abyei Administration Area Changes Name|website=Gurtong.net|date=29 July 2015|accessdate=12 February 2018}}</ref>\\n|-\\n|style=\"vertical-align:top;\"|<span id=\"Spain\"></span>\\'\\'\\'{{flag|Spain}}\\'\\'\\'&nbsp;– Kingdom of Spain\\n|<span style=\"display:none\">A</span> UN member state\\n|<span style=\"display:none\">A</span> None\\n{{extent}}Member of the EU.{{efn|name=\"EU\"}} Spain is divided into [[Autonomous communities of Spain|17 autonomous communities and 2 special autonomous cities]].{{efn|name=\"autonomous\"}}\\n|-\\n|style=\"vertical-align:top;\"|<span id=\"Sri Lanka\"></span>\\'\\'\\'{{flag|Sri Lanka}}\\'\\'\\'&nbsp;– Democratic Socialist Republic of Sri Lanka{{efn|Formerly known as [[Dominion of Ceylon|Ceylon]] until 1972.}}\\n|<span style=\"display:none\">A</span> UN member state\\n|<span style=\"display:none\">A</span> None\\n{{extent}}\\n|-\\n|style=\"vertical-align:top;\"|<span id=\"Sudan\"></span>\\'\\'\\'{{flag|Sudan}}\\'\\'\\'&nbsp;– Republic of the Sudan\\n|<span style=\"display:none\">A</span> UN member state\\n|<span style=\"display:none\">A</span> None\\n{{extent}}Sudan is a [[federation]] of [[States of Sudan|18 states]]. Sudan claims the [[Abyei Area]], which is currently under UN protection and governed by South Sudan.<ref name=UNISFA2017/><ref name=AbyeiName/>\\n|-\\n|style=\"vertical-align:top;\"|<span style=\"display:none\">ZZZ</span>Sudan, South → [[#South Sudan|South Sudan]]\\n|<span style=\"display:none\">A UN member state</span>\\n|<span style=\"display:none\">A None</span>\\n|\\n|-\\n|style=\"vertical-align:top;\"|<span id=\"Suriname\"></span>\\'\\'\\'{{flag|Suriname}}\\'\\'\\'&nbsp;– Republic of Suriname\\n|<span style=\"display:none\">A</span> UN member state\\n|<span style=\"display:none\">A</span> None\\n{{extent}}Member of the UNASUL.{{efn|name=\"UNASUL\"}}\\n|-\\n|style=\"vertical-align:top;\"|<span id=\"Swaziland\"></span>\\'\\'\\'{{flag|Swaziland}}\\'\\'\\'&nbsp;– Kingdom of Eswatini\\n|<span style=\"display:none\">A</span> UN member state\\n|<span style=\"display:none\">A</span> None\\n{{extent}}\\n|-\\n|style=\"vertical-align:top;\"|<span id=\"Sweden\"></span>\\'\\'\\'{{flag|Sweden}}\\'\\'\\'&nbsp;– Kingdom of Sweden\\n|<span style=\"display:none\">A</span> UN member state\\n|<span style=\"display:none\">A</span> None\\n{{extent}}Member of the EU.{{efn|name=\"EU\"}}\\n|-\\n|style=\"vertical-align:top;\"|<span id=\"Switzerland\"></span>\\'\\'\\'{{flag|Switzerland}}\\'\\'\\'&nbsp;– Swiss Confederation\\n|<span style=\"display:none\">A</span> UN member state\\n|<span style=\"display:none\">A</span> None\\n{{extent}}Switzerland is a [[federation]] of [[Cantons of Switzerland|26 cantons]].\\n|-\\n|style=\"vertical-align:top;\"|<span id=\"Syria\"></span>\\'\\'\\'{{flag|Syria}}\\'\\'\\'&nbsp;– Syrian Arab Republic\\n|<span style=\"display:none\">A</span> UN member state\\n|<span style=\"display:none\">A</span> None\\n{{extent}}The [[National Coalition for Syrian Revolutionary and Opposition Forces|Syrian National Coalition]], which is [[International recognition of the Syrian National Coalition|recognized]] as the legitimate representative of the Syrian people by 20 UN members, has established an [[Syrian Interim Government|interim government]] to rule rebel controlled territory during the [[Syrian civil war]].\\nSyria has one self-declared autonomous region: [[Rojava]].\\n|-\\n|style=\"vertical-align:top;\"|<span style=\"display:none\">ZZZ</span>Taiwan (Republic of China) → [[#Taiwan|Taiwan]]\\n|<span style=\"display:none\">A UN member state</span>\\n|<span style=\"display:none\">A None</span>\\n|\\n|-\\n|style=\"vertical-align:top;\"|<span id=\"Tajikistan\"></span>\\'\\'\\'{{flag|Tajikistan}}\\'\\'\\'&nbsp;– Republic of Tajikistan\\n|<span style=\"display:none\">A</span> UN member state\\n|<span style=\"display:none\">A</span> None\\n{{extent}}Tajikistan contains 1 autonomous region, [[Gorno-Badakhshan Autonomous Province]].{{efn|name=\"autonomous\"}}\\n|-\\n|style=\"vertical-align:top;\"|<span id=\"Tanzania\"></span>\\'\\'\\'{{flag|Tanzania}}\\'\\'\\'&nbsp;– United Republic of Tanzania\\n|<span style=\"display:none\">A</span> UN member state\\n|<span style=\"display:none\">A</span> None\\n{{extent}}Tanzania contains 1 autonomous region, [[Zanzibar]].{{efn|name=\"autonomous\"}}\\n|-\\n|style=\"vertical-align:top;\"|<span id=\"Thailand\"></span>\\'\\'\\'{{flag|Thailand}}\\'\\'\\'&nbsp;– Kingdom of Thailand\\n|<span style=\"display:none\">A</span> UN member state\\n|<span style=\"display:none\">A</span> None\\n{{extent}}\\n|-\\n|style=\"vertical-align:top;\"|The Bahamas → [[#Bahamas, The|Bahamas, The]]\\n|<span style=\"display:none\">A UN member state</span>\\n|<span style=\"display:none\">A None</span>\\n|\\n|-\\n|style=\"vertical-align:top;\"|The Gambia → [[#Gambia, The|Gambia, The]]\\n|<span style=\"display:none\">A UN member state</span>\\n|<span style=\"display:none\">A None</span>\\n|\\n|-\\n|style=\"vertical-align:top;\"|Timor-Leste → [[#East Timor|East Timor]]\\n|<span style=\"display:none\">A UN member state</span>\\n|<span style=\"display:none\">A None</span>\\n|\\n|-\\n|style=\"vertical-align:top;\"|<span id=\"Togo\"></span>\\'\\'\\'{{flag|Togo}}\\'\\'\\'&nbsp;– Togolese Republic\\n|<span style=\"display:none\">A</span> UN member state\\n|<span style=\"display:none\">A</span> None\\n{{extent}}\\n|-\\n|style=\"vertical-align:top;\"|<span id=\"Tonga\"></span>\\'\\'\\'{{flag|Tonga}}\\'\\'\\'&nbsp;– Kingdom of Tonga\\n|<span style=\"display:none\">A</span> UN member state\\n|<span style=\"display:none\">A</span> None\\n{{extent}}\\n|-\\n|style=\"vertical-align:top;\"|<span style=\"display:none\">ZZZ</span>Transnistria → [[#Transnistria|Transnistria]]\\n|<span style=\"display:none\">A UN member state</span>\\n|<span style=\"display:none\">A None</span>\\n|\\n|-\\n|style=\"vertical-align:top;\"|<span id=\"Trinidad and Tobago\"></span>\\'\\'\\'{{flag|Trinidad and Tobago}}\\'\\'\\'&nbsp;– Republic of Trinidad and Tobago\\n|<span style=\"display:none\">A</span> UN member state\\n|<span style=\"display:none\">A</span> None\\n{{extent}}Trinidad and Tobago contains 1 autonomous region, [[Tobago]].{{efn|name=\"autonomous\"}}\\n|-\\n|style=\"vertical-align:top;\"|<span id=\"Tunisia\"></span>\\'\\'\\'{{flag|Tunisia}}\\'\\'\\'&nbsp;– Tunisian Republic\\n|<span style=\"display:none\">A</span> UN member state\\n|<span style=\"display:none\">A</span> None\\n{{extent}}\\n|-\\n|style=\"vertical-align:top;\"|<span id=\"Turkey\"></span>\\'\\'\\'{{flag|Turkey}}\\'\\'\\'&nbsp;– Republic of Turkey\\n|<span style=\"display:none\">A</span> UN member state\\n|<span style=\"display:none\">A</span> None\\n{{extent}}\\n|-\\n|style=\"vertical-align:top;\"|<span id=\"Turkmenistan\"></span>\\'\\'\\'{{flag|Turkmenistan}}\\'\\'\\'\\n|<span style=\"display:none\">A</span> UN member state\\n|<span style=\"display:none\">A</span> None\\n{{extent}}\\n|-\\n|style=\"vertical-align:top;\"|<span id=\"Tuvalu\"></span>\\'\\'\\'{{flag|Tuvalu}}\\'\\'\\'\\n|<span style=\"display:none\">A</span> UN member state\\n|<span style=\"display:none\">A</span> None\\n{{extent}}Tuvalu is a [[Commonwealth realm]].{{efn|name=\"realm\"}}\\n|-\\n|style=\"vertical-align:top;\"|<span id=\"Uganda\"></span>\\'\\'\\'{{flag|Uganda}}\\'\\'\\'&nbsp;– Republic of Uganda\\n|<span style=\"display:none\">A</span> UN member state\\n|<span style=\"display:none\">A</span> None\\n{{extent}}\\n|-\\n|style=\"vertical-align:top;\"|<span id=\"Ukraine\"></span>\\'\\'\\'{{flag|Ukraine}}\\'\\'\\'\\n|<span style=\"display:none\">A</span> UN member state\\n|<span style=\"display:none\">A</span> None\\n{{extent}}Ukraine contains an [[territorial autonomy|autonomous republic]], [[Autonomous Republic of Crimea|Crimea]]. In 2014 Russia annexed the region along with [[Sevastopol]] turning them in one of its federal subjects as [[Republic of Crimea]] and city of Sevastopol.\\n|-\\n|style=\"vertical-align:top;\"|<span id=\"United Arab Emirates\"></span>\\'\\'\\'{{flag|United Arab Emirates}}\\'\\'\\'\\n|<span style=\"display:none\">A</span> UN member state\\n|<span style=\"display:none\">A</span> None\\n{{extent}}The United Arab Emirates is a [[federation]] of [[Emirates of the United Arab Emirates|seven emirates]].\\n|-\\n|style=\"vertical-align:top;\"|<span id=\"United Kingdom\"></span>\\'\\'\\'{{flag|United Kingdom}}\\'\\'\\'&nbsp;– United Kingdom of Great Britain and Northern Ireland\\n|<span style=\"display:none\">A</span> UN member state\\n|<span style=\"display:none\">A</span> None\\n|{{efn|name=\"EU\"}} The United Kingdom is a [[Commonwealth realm]]{{efn|name=\"realm\"}} consisting of  [[Countries of the United Kingdom|four constituent countries]]: [[England]], [[Northern Ireland]], [[Scotland]], and [[Wales]]. The United Kingdom has the following overseas territories:\\n\\n*{{noflag|[[Akrotiri and Dhekelia]]}}\\n*{{flag|Anguilla}}\\n*{{flag|Bermuda}}\\n*{{flag|British Indian Ocean Territory}}\\n*{{flag|British Virgin Islands}}\\n*{{flag|Cayman Islands}}\\n*{{flag|Falkland Islands}}\\n*{{flag|Gibraltar}}\\n*{{flag|Montserrat}}\\n*{{flag|Pitcairn Islands}}\\n*{{noflag|[[Saint Helena, Ascension and Tristan da Cunha]]}}\\n*{{flag|South Georgia and the South Sandwich Islands}}\\n*{{flag|Turks and Caicos Islands}}\\n*{{flag|British Antarctic Territory}}\\n\\nThe British monarch has direct sovereignty over three self-governing [[Crown dependencies]]:\\n\\n*{{flag|Bailiwick of Guernsey}}\\n*{{flag|Isle of Man}}\\n*{{flag|Bailiwick of Jersey}}\\n|-\\n|style=\"vertical-align:top;\"|<span id=\"United States\"></span>\\'\\'\\'{{flag|United States}}\\'\\'\\'&nbsp;– United States of America\\n|<span style=\"display:none\">A</span> UN member state\\n|<span style=\"display:none\">A</span> None\\n{{extent}}The United States is a [[federation]] of [[Political divisions of the United States|50 states and 1 federal district]] with [[shared sovereignty]]. The [[Federal government of the United States]] has sovereignty over the following inhabited possessions and commonwealths:\\n\\n* {{flag|American Samoa}}\\n* {{flag|Guam}}\\n* {{flag|Northern Mariana Islands}}\\n* {{flag|Puerto Rico}}\\n* {{flag|U.S. Virgin Islands}}\\n\\nIt also has sovereignty over several uninhabited territories:\\n\\n* [[Baker Island]]\\n* [[Howland Island]]\\n* [[Jarvis Island]]\\n* [[Johnston Atoll]]\\n* [[Kingman Reef]]\\n* [[Midway Atoll]]\\n* [[Navassa Island]]\\n* [[Wake Island]]\\n\\nIt also has sovereignty over the following incorporated territories:\\n\\n* [[Palmyra Atoll]]\\n\\nThree sovereign states have become [[associated state]]s of the United States under the [[Compact of Free Association]]:\\n\\n* {{flag|Marshall Islands}}&nbsp;– Republic of the Marshall Islands\\n* {{flag|Micronesia}}&nbsp;– Federated States of Micronesia\\n* {{flag|Palau}}&nbsp;– Republic of Palau\\n\\nIt also disputes sovereignty over the following territories:\\n\\n* [[Bajo Nuevo Bank]]\\n* [[Serranilla Bank]]\\n|-\\n|style=\"vertical-align:top;\"|<span id=\"Uruguay\"></span>\\'\\'\\'{{flag|Uruguay}}\\'\\'\\'&nbsp;– Oriental Republic of Uruguay\\n|<span style=\"display:none\">A</span> UN member state\\n|<span style=\"display:none\">A</span> None\\n{{extent}}Member of the UNASUL.{{efn|name=\"UNASUL\"}}\\n|-\\n|style=\"vertical-align:top;\"|<span id=\"Uzbekistan\"></span>\\'\\'\\'{{flag|Uzbekistan}}\\'\\'\\'&nbsp;– Republic of Uzbekistan\\n|<span style=\"display:none\">A</span> UN member state\\n|<span style=\"display:none\">A</span> None\\n{{extent}}Uzbekistan contains 1 autonomous region, [[Karakalpakstan]].{{efn|name=\"autonomous\"}}\\n|-\\n|style=\"vertical-align:top;\"|<span id=\"Vanuatu\"></span>\\'\\'\\'{{flag|Vanuatu}}\\'\\'\\'&nbsp;– Republic of Vanuatu\\n|<span style=\"display:none\">A</span> UN member state\\n|<span style=\"display:none\">A</span> None\\n{{extent}}\\n|-\\n|style=\"vertical-align:top;\"|<span id=\"Vatican City\"></span>\\'\\'\\'{{flag|Vatican City}}\\'\\'\\'&nbsp;– Vatican City State\\n| style=\"background:LightSkyBlue;\" |<span style=\"display:none\">A</span> [[United Nations General Assembly observers|UN observer state]] under the designation of \"[[Holy See]]\"; member of three [[list of specialized agencies of the United Nations|UN specialized agencies]] and the [[International Atomic Energy Agency|IAEA]]\\n|<span style=\"display:none\">A</span> None\\n{{extent}}Administered by the [[Holy See]], a sovereign entity with diplomatic ties to {{Numrec|Holy See|N=3||states}} – 180 UN member states, one UN observer state (Palestine), the Cook Islands and the Republic of China (Taiwan).<ref>{{cite web|url=http://www.vatican.va/roman_curia/secretariat_state/documents/rc_seg-st_20010123_holy-see-relations_en.html|title=Bilateral relations of the Holy See|publisher=Holy See website|accessdate=5 June 2012}}</ref> The Holy See is a member of the [[International Atomic Energy Agency|IAEA]], [[International Telecommunication Union|ITU]], [[Universal Postal Union|UPU]], and [[World Intellectual Property Organization|WIPO]] and a permanent observer of the UN (in the category of \"Non-member State\")<ref name=\"unnms\">{{cite web|title=Non-member States and Entities |url=https://www.un.org/en/members/nonmembers.shtml |publisher=United Nations |accessdate=30 August 2010 |date=29 February 2008 |url-status=dead |archiveurl=https://web.archive.org/web/20090509204646/http://www.un.org/en/members/nonmembers.shtml |archivedate=9 May 2009 }}</ref> and [[Foreign relations of the Holy See#Participation in international organizations|multiple other UN System organizations]]. The Vatican City is governed by officials appointed by the [[Pope]], who is the Bishop of the Diocese of Rome and \\'\\'[[ex officio]]\\'\\' sovereign of Vatican City.\\n|-\\n|style=\"vertical-align:top;\"|<span id=\"Venezuela\"></span>\\'\\'\\'{{flag|Venezuela}}\\'\\'\\'&nbsp;– Bolivarian Republic of Venezuela\\n|<span style=\"display:none\">A</span> UN member state\\n|<span style=\"display:none\">A</span> None\\n{{extent}}Member of the UNASUL.{{efn|name=\"UNASUL\"}} Venezuela is a [[federation]] of [[States of Venezuela|23 states, 1 capital district, and federal dependencies]].\\n|-\\n|style=\"vertical-align:top;\"|<span id=\"Vietnam\"></span>\\'\\'\\'{{flag|Vietnam}}\\'\\'\\'&nbsp;– Socialist Republic of Vietnam\\n|<span style=\"display:none\">A</span> UN member state\\n|<span style=\"display:none\">A</span> None\\n{{extent}}\\n|-\\n|style=\"vertical-align:top;\"|<span id=\"Yemen\"></span>\\'\\'\\'{{flag|Yemen}}\\'\\'\\'&nbsp;– Republic of Yemen\\n|<span style=\"display:none\">A</span> UN member state\\n|<span style=\"display:none\">A</span> None\\n{{extent}}\\n|-\\n|style=\"vertical-align:top;\"|<span id=\"Zambia\"></span>\\'\\'\\'{{flag|Zambia}}\\'\\'\\'&nbsp;– Republic of Zambia\\n|<span style=\"display:none\">A</span> UN member state\\n|<span style=\"display:none\">A</span> None\\n{{extent}}\\n|-\\n|style=\"vertical-align:top;\"|<span id=\"Zimbabwe\"></span>\\'\\'\\'{{flag|Zimbabwe}}\\'\\'\\'&nbsp;– Republic of Zimbabwe\\n|<span style=\"display:none\">A</span> UN member state\\n|<span style=\"display:none\">A</span> None\\n{{extent}}\\n|- style=\"background:Lightgrey;\"\\n|style=\"text-align:center;\"|<span style=\"display:none\">ZZZ</span>↑ [[Member states of the United Nations|UN member states]] and [[United Nations General Assembly observers|observer states]] ↑\\n|<span style=\"display:none\">A ZZZ</span>\\n|<span style=\"display:none\">ZZZ</span>\\n|\\n|- style=\"background:Darkgrey;\"\\n|style=\"text-align:center;\"|<span style=\"display:none\">ZZZ</span>\\n|<span style=\"display:none\">AB</span>\\n|<span style=\"display:none\">B</span>\\n|\\n|- style=\"background:Lightgrey;\"\\n|style=\"text-align:center;\"|<span style=\"display:none\">ZZZ</span>↓ Other states ↓\\n|<span style=\"display:none\">D AAA</span>\\n|<span style=\"display:none\">ZZZ</span>\\n|{{Anchor|Other states}}\\n|-\\n|style=\"vertical-align:top;\"|<span id=\"Abkhazia\"></span>\\'\\'\\'{{flag|Abkhazia}}\\'\\'\\'&nbsp;– Republic of Abkhazia\\n| style=\"background:LemonChiffon;\" |<span style=\"display:none\">D</span> No membership\\n| style=\"background:LightCoral;\" |{{claimedby|GEORGIA}}\\n{{extent}}[[International recognition of Abkhazia and South Ossetia|Recognised by]] Russia, Nauru, Nicaragua, Venezuela, Artsakh, South Ossetia and Transnistria.<ref name=ASOTREC>{{cite web|url=http://www.newsru.com/russia/17nov2006/aup.html|date=17 November 2006|accessdate=5 June 2011|script-title=ru:Абхазия, Южная Осетия и Приднестровье признали независимость друг друга и призвали всех к этому же|publisher=newsru.com|language=Russian}}</ref> Claimed in whole by [[#Georgia|Georgia]] as the [[Government of the Autonomous Republic of Abkhazia|Autonomous Republic of Abkhazia]].\\n|-\\n|style=\"vertical-align:top;\"|<span id=\"Artsakh\"></span>\\'\\'\\'{{flag|Artsakh}}\\'\\'\\'&nbsp;– Republic of Artsakh\\n| style=\"background:LemonChiffon;\" |<span style=\"display:none\">D</span> No membership\\n| style=\"background:LightCoral;\" |{{claimedby|AZERBAIJAN}}\\n{{extent}}A de facto independent state,<ref name=montevideo/><ref>{{Cite book|author=Krüger, Heiko|title=The Nagorno-Karabakh Conflict: A Legal Analysis|url=https://books.google.com/books?id=7JDCQu-Us8sC&lpg=PP1&pg=PA55#v=onepage&q&f=false|page=55|publisher=Springer|year=2010|isbn=978-3-642-11787-9}}</ref><ref>{{Cite news|author=Nikoghosyan, Hovhannes|title=Kosovo ruling implications for Armenia and Azerbaijan|url=http://www.huliq.com/1/803-kosovo-ruling-implications-armenia-and-azerbaijan|newspaper=HULIQ.com|publisher=Hareyan Publishing, LLC|date=August 2010|accessdate=17 April 2011}}</ref> [[Foreign relations of Artsakh|recognized only by]] [[Abkhazia]],<ref name=\"NKRrecognition\">[http://ararat-online.ru/news/984-2025-vice-spiker-parlamenta-abxazii-vybory-v-nkr-sootvetstvuyut-vsem-mezhdunarodnym-standartam.html Вице-спикер парламента Абхазии: Выборы в НКР соответствуют всем международным стандартам]: \"Абхазия, Южная Осетия, НКР и Приднестровье уже давно признали независимость друг друга и очень тесно сотрудничают между собой\", – сказал вице-спикер парламента Абхазии. ... \"...Абхазия признала независимость Нагорно-Карабахской Республики...\" – сказал он.\"</ref> [[South Ossetia]]<ref name=\"NKRrecognition\"/> and [[Transnistria]].<ref name=\"NKRrecognition\"/><ref name=\"transgovt\">{{cite web|url=http://pridnestrovie.net/foreignpolicy_full.html |title=In detail: The foreign policy of Pridnestrovie |publisher=[[Pridnestrovie]] |date=26 May 2010 |accessdate=29 June 2010 |url-status=dead |archiveurl=https://web.archive.org/web/20080511144044/http://pridnestrovie.net/foreignpolicy_full.html |archivedate=11 May 2008 }}</ref> Claimed in whole by [[#Azerbaijan|Azerbaijan]].<ref>[http://news.bbc.co.uk/1/hi/world/europe/country_profiles/3658938.stm \\'\\'Regions and territories\\'\\': Nagorno-Karabakh] (17 January 2006). BBC News. Retrieved 17 January 2006.</ref>\\n|-\\n|style=\"vertical-align:top;\"|<span id=\"Cook Islands\"></span>\\'\\'\\'{{flag|Cook Islands}}\\'\\'\\'\\n| style=\"background:lightgreen;\" |<span style=\"display:none\">D</span> Member of eight [[List of specialized agencies of the United Nations|UN specialized agencies]]\\n|<span style=\"display:none\">A</span> None<br /><small>(See [[Political status of the Cook Islands and Niue|political status]])</small>\\n{{extent}}A state in [[associated state|free association]] with [[#New Zealand|New Zealand]], {{Numrel|CK|alt2=the Cook Islands maintains |diplomatic relations with|states|O=Y}}. The Cook Islands is a member of [[list of specialized agencies of the United Nations|multiple UN agencies]] with full treaty making capacity.<ref name=\"untreaty1\"/> It shares a [[Monarchy of New Zealand|head of state]] with New Zealand as well as having [[New Zealand nationality law|shared citizenship]].\\n|-\\n|style=\"vertical-align:top;\"|<span id=\"Kosovo\"></span>\\'\\'\\'{{flag|Kosovo}}\\'\\'\\'&nbsp;– Republic of Kosovo\\n| style=\"background:lightgreen;\" |<span style=\"display:none\">D</span> Member of two [[List of specialized agencies of the United Nations|UN specialized agencies]]\\n| style=\"background:LightCoral;\" |{{claimedby|SERBIA}}\\n{{extent}}Pursuant to [[United Nations Security Council Resolution 1244]], Kosovo was placed under the administration of the [[United Nations Interim Administration Mission in Kosovo]] in 1999.<ref>{{cite web|title=United Nations Interim Administration Mission in Kosovo|url=https://www.un.org/en/peacekeeping/missions/unmik/|website=UN|accessdate=8 January 2015}}</ref> Kosovo [[2008 Kosovo declaration of independence|declared independence in 2008]], and it has {{Numrec|Kos|received diplomatic recognition from|UN member states}} and the [[Republic of China]]. Serbia continues to maintain its sovereignty claim over Kosovo. Other UN member states and non UN member states continue to recognise Serbian sovereignty or have taken no position on the question. Kosovo is a member of the [[International Monetary Fund]] and the [[World Bank Group]]. The Republic of Kosovo has de facto control over most of the territory, with limited control in [[North Kosovo]].\\n|-\\n|style=\"vertical-align:top;\"|<span id=\"Niue\"></span>\\'\\'\\'{{flag|Niue}}\\'\\'\\'\\n| style=\"background:lightgreen;\"|<span style=\"display:none\">D</span> Member of five [[List of specialized agencies of the United Nations|UN specialized agencies]]\\n|<span style=\"display:none\">A</span> None<br /><small>(See [[Political status of the Cook Islands and Niue|political status]])</small>\\n{{extent}}A state in [[associated state|free association]] with [[#New Zealand|New Zealand]], {{Numrel|Niue|alt2=Niue maintains |diplomatic relations with|states|O=Y}}. Niue is a member of [[list of specialized agencies of the United Nations|multiple UN agencies]] with full treaty making capacity.<ref name=\"untreaty1\"/> It shares a [[Monarchy of New Zealand|head of state]] with New Zealand as well as having [[New Zealand nationality law|shared citizenship]].\\n|-\\n|style=\"vertical-align:top;\"|<span id=\"Northern Cyprus\"></span>\\'\\'\\'{{flag|Northern Cyprus}}\\'\\'\\'&nbsp;– Turkish Republic of Northern Cyprus\\n| style=\"background:LemonChiffon;\" |<span style=\"display:none\">D</span> No membership\\n| style=\"background:LightCoral;\" | {{claimedby|CYPRUS}}\\n{{extent}} [[Foreign relations of Northern Cyprus|Recognised only by]] [[#Turkey|Turkey]]. Under the name \"Turkish Cypriot State\", it is an observer state of the [[Organisation of Islamic Cooperation]] and the [[Economic Cooperation Organization]]. Northern Cyprus is claimed in whole by the [[#Cyprus|Republic of Cyprus]].<ref>[https://www.cia.gov/library/publications/the-world-factbook/geos/cy.html The World Factbook|Cyprus] (10 January 2006). Central Intelligence Agency. \\'\\'Retrieved 17 January 2006\\'\\'.</ref>\\n|-\\n|style=\"vertical-align:top;\"|<span id=\"SADR\"></span>\\'\\'\\'{{flag|Sahrawi Arab Democratic Republic}}\\'\\'\\'\\n| style=\"background:LemonChiffon;\" |<span style=\"display:none\">D</span> No membership\\n| style=\"background:LightCoral;\" |{{claimedby|MOROCCO}}\\n{{extent}}Recognised at some stage by {{Numrec|SADR||UN member states}}, {{Numrec|SADR|W=Y|link=N}} of which have since withdrawn or frozen their recognition. It is a founding member of the [[African Union]] and the Asian–African Strategic Partnership formed at the 2005 [[Asian–African Conference]]. The territories under its control, the so-called [[Free Zone (region)|Free Zone]], are claimed in whole by [[#Morocco|Morocco]] as part of its [[Southern Provinces]]. In turn, the Sahrawi Arab Democratic Republic claims the part of [[Western Sahara]] to the west of the [[Wall (Western Sahara)|Moroccan Wall]] controlled by Morocco. Its government resides in exile in [[Tindouf]], [[#Algeria|Algeria]].\\n|-\\n|style=\"vertical-align:top;\"|<span id=\"Somaliland\"></span>\\'\\'\\'{{flag|Somaliland}}\\'\\'\\'&nbsp;– Republic of Somaliland\\n| style=\"background:LemonChiffon;\" |<span style=\"display:none\">D</span> No membership\\n| style=\"background:LightCoral;\" |{{claimedby|SOMALIA}}\\n{{extent}}A de facto independent state,<ref name=montevideo>{{citebook|url=https://books.google.com/books?id=4PwmeRG9QsUC|last1=Ker-Lindsay|first1=James|title=The Foreign Policy of Counter Secession: Preventing the Recognition of Contested States|page=53|publisher=[[Oxford University Press]]|year=2012|quote=In addition to the four cases of contested statehood described above, there are three other territories that have unilaterally declared independence and are generally regarded as having met the Montevideo criteria for statehood but have not been recognized by any states: Transnistria, Nagorny Karabakh, and Somaliland.|accessdate=24 September 2013|df=dmy-all}}</ref><ref name=FailureofStates>{{citejournal|url=http://minnjil.org/wp-content/uploads/2010/04/kreuterweb-pdf.pdf|last1=Kreuter|first1=Aaron|title=Self-Determination, Sovereignty, and the Failure of States: Somaliland and the Case for Justified Secession|journal=[[Minnesota Journal of International Law]]|volume=19:2|pages=380–381|publisher=[[University of Minnesota Law School]]|year=2010|quote=Considering each of these factors, Somaliland has a colorable argument that it meets the theoretical requirements of statehood. ... On these bases, Somaliland appears to have a strong claim to statehood.|accessdate=24 September 2013|df=dmy-all|postscript=.}}</ref><ref name=AfricaReport>{{citejournal|url=http://www.operationspaix.net/IMG/pdf/ICG_Somaliland_AU_Leadership_2006-05-23_.pdf|author=International Crisis Group|title=Somaliland: Time for African Union leadership|journal=[[The Africa Report]]|issue=110|pages=10–13|publisher=[[Jeune Afrique|Groupe Jeune Afrique]]|date=23 May 2006|accessdate=19 April 2011|url-status=dead|archiveurl=https://web.archive.org/web/20110720022321/http://www.operationspaix.net/IMG/pdf/ICG_Somaliland_AU_Leadership_2006-05-23_.pdf|archivedate=20 July 2011|df=dmy-all|postscript=.}}</ref><ref name=PolSomaliland>{{citejournal|url=http://www.somalilandtimes.net/sl/2009/403/P200.pdf|last1=Mesfin|first1=Berouk|title=The political development of Somaliland and its conflict with Puntland|journal=ISS Paper|issue=200|page=8|publisher=[[Institute for Security Studies]]|date=September 2009|accessdate=19 April 2011|url-status=dead|archiveurl=https://web.archive.org/web/20111123043040/http://www.somalilandtimes.net/sl/2009/403/P200.pdf|archivedate=23 November 2011|df=dmy|postscript=.}}</ref><ref name=StrangeCase>{{citejournal|url=http://yalejournal.org/wp-content/uploads/2011/01/083206arieff.pdf|last1=Arieff|first1=Alexis|title=De Facto Statehood? The Strange Case of Somaliland|journal=[[Yale Journal of International Affairs]]|issue=Spring/Summer 2008|pages=1–79|publisher=International Affairs Council at Yale|accessdate=17 April 2011|df=dmy-all|postscript=.}}</ref> [[Foreign relations of Somaliland|not diplomatically recognised by]] any other state, claimed in whole by the [[#Somalia|Federal Republic of Somalia]].<ref name=\"Somalilandprofile\">{{cite web|title=Somaliland profile|url=https://www.bbc.co.uk/news/world-africa-14115069|publisher=[[BBC News]]|date=14 December 2017|accessdate=27 January 2018}}</ref>\\n|-\\n|style=\"vertical-align:top;\"|<span id=\"South Ossetia\"></span>\\'\\'\\'{{flag|South Ossetia}}\\'\\'\\'&nbsp;– Republic of South Ossetia\\n| style=\"background:LemonChiffon;\" |<span style=\"display:none\">D</span> No membership\\n| style=\"background:LightCoral;\" |{{claimedby|GEORGIA}}\\n{{extent}}A de facto independent state,<ref>{{Cite journal|author=Jansen, Dinah|title=The Conflict between Self-Determination and Territorial Integrity: the South Ossetian Paradigm|url=https://es.scribd.com/document/31659924/The-Conflict-between-Self-Determination-and-Territorial-Integrity-The-South-Ossetian-Paradigm|journal=Geopolitics Vs. Global Governance: Reinterpreting International Security|pages=222–242|year=2009|publisher=Centre for Foreign Policy Studies, University of Dalhousie|isbn=978-1-896440-61-3|postscript=<!-- Bot inserted parameter. Either remove it; or change its value to \".\" for the cite to end in a \".\", as necessary. -->{{inconsistent citations}}}}</ref> [[International recognition of Abkhazia and South Ossetia|recognised by]] Russia, Nicaragua, Nauru, Syria, Venezuela, Abkhazia, Artsakh and Transnistria. Claimed in whole by [[#Georgia|Georgia]] as the [[Provisional Administrative Entity of South Ossetia]].<ref name=\"cnnAbSO\">{{Cite news|title=Russia condemned for recognizing rebel regions|url=http://www.cnn.com/2008/WORLD/europe/08/26/russia.vote.georgia/index.html|publisher=CNN|date=26 August 2008|accessdate=26 August 2008}}</ref>\\n|-\\n|style=\"vertical-align:top;\"|<span id=\"Taiwan\"></span>\\'\\'\\'{{flag|Republic of China|name=Taiwan}}\\'\\'\\'&nbsp;– Republic of China{{efn|name=\"ChinaTaiwan\"}}\\n| style=\"background:Orchid;\" |<span style=\"display:none\">D</span>[[China and the United Nations|Former UN member]] (as Republic of China, 1945–1971)<br />Observer in one [[list of specialized agencies of the United Nations|UN specialized agency]] under the name \"[[Chinese Taipei]]\"\\n| style=\"background:LightCoral;\" |{{claimedby|PRC}}\\n{{extent}}A state competing (nominally) for recognition with the [[China|People\\'s Republic of China]] (PRC) as the government of China since 1949. The Republic of China (ROC) controls the island of [[Taiwan]] and associated islands, Quemoy, Matsu, the Pratas and parts of the [[Spratly Islands]],{{efn|name=\"Spratly\"|The sovereignty over the [[Spratly Islands]] is disputed by [[China]], [[Taiwan]], [[#Vietnam|Vietnam]], and in part by [[#Brunei|Brunei]], [[#Malaysia|Malaysia]], and the [[#Philippines|Philippines]]. Except for Brunei, each of these countries occupies part of the islands (see [[List of territorial disputes]]).}} and has not renounced claims over its annexed territories on the [[Mainland China|mainland]].<ref>{{Cite news |title=Ma refers to China as ROC territory in magazine interview |work=[[Taipei Times]] |date=8 October 2008 |url=http://www.taipeitimes.com/News/taiwan/archives/2008/10/08/2003425320}}</ref> The ROC is recognised by {{Numrec|ROC|asof=E|alt=UN member states and the Holy See as of}}. All these states do not recognise the PRC either. Additionally, one UN member ([[Bhutan]]) has [[Foreign relations of Taiwan#Entities with no relations with either ROC or PRC|refrained from recognising]] either the ROC or the PRC.\\n\\nThe territory of the ROC is claimed in whole by the PRC.{{efn|name=\"TAI2\"|In 1949, the Republic of China government led by the [[Kuomintang]] (KMT) lost the [[Chinese Civil War]] to the [[Communist Party of China]] (CPC) and set up a provisional capital in [[Taipei]]. The CPC established the PRC. As such, the [[political status of Taiwan|political status of the ROC and legal status of Taiwan]] (alongside the [[Free area of the Republic of China|territories]] under ROC jurisdiction) are in dispute. In 1971, the United Nations gave the [[China and the United Nations|China seat]] to the PRC and the ROC withdrew from the UN. Most states recognise the PRC to be the [[One-China policy|sole legitimate representative]] of all China, and the UN classifies Taiwan as \"[[Taiwan Province, People\\'s Republic of China|Taiwan, Province of China]]\". The ROC has de facto relations with most sovereign states. A significant political movement within Taiwan advocates [[Taiwan independence movement|Taiwan independence]].}} The ROC [[Foreign relations of Taiwan#Relations with international organizations|participates in international organizations]] under a variety of pseudonyms, most commonly \"[[Chinese Taipei]]\" and in the [[World Trade Organization|WTO]] it has full membership. The ROC was a founding member of the UN and enjoyed membership from 1945 to 1971, with veto power in the [[United Nations Security Council|UN Security Council]]. See [[China and the United Nations]].\\n|-\\n|style=\"vertical-align:top;\"|<span id=\"Transnistria\"></span>\\'\\'\\'{{flag|Transnistria|state}}\\'\\'\\'&nbsp;– Pridnestrovian Moldavian Republic\\n| style=\"background:LemonChiffon;\" |<span style=\"display:none\">D</span> No membership\\n| style=\"background:LightCoral;\" |{{claimedby|MOLDOVA}}\\n{{extent}}A de facto independent state,<ref name=montevideo/> [[Foreign relations of Transnistria|recognised only by]] Abkhazia, Artsakh and South Ossetia.<ref name=ASOTREC /> Claimed in whole by [[#Moldova|Moldova]] as the [[Transnistria autonomous territorial unit with special legal status|Transnistria autonomous territorial unit]].<ref>[http://news.bbc.co.uk/1/hi/world/europe/country_profiles/3641826.stm \\'\\'Regions and territories\\'\\': Trans-Dniester] (13 December 2005). BBC News. Retrieved 17 January 2006.</ref>\\n|- style=\"background:Lightgrey;\"\\n|style=\"text-align:center;\"|<span style=\"display:none\">ZZZ</span>↑ Other states ↑\\n|<span style=\"display:none\">D ZZZ</span>\\n|<span style=\"display:none\">ZZZ</span>\\n|\\n|- style=\"background:Darkgrey;\"\\n|style=\"text-align:center;\"|<span style=\"display:none\">ZZZZ</span>\\n|<span style=\"display:none\">ZZZZ</span>\\n|<span style=\"display:none\">ZZZZ</span>\\n|\\n|}\\n{|\\n|style=\"vertical-align:top;width:360px;\"|\\'\\'\\'Legend \"Membership within the UN System\" column\\'\\'\\'\\n{{legend|White|UN Member states}}\\n{{legend|LightSkyBlue|UN Observer states}}\\n{{legend|lightgreen|Member of a UN Specialized Agency}}\\n{{legend|orchid|Observer in a UN Specialized Agency}}\\n{{legend|LemonChiffon|No membership in the UN System}}\\n|style=\"vertical-align:top;width:350px;\"|\\'\\'\\'Legend \"Sovereignty dispute\" column\\'\\'\\'\\n{{legend|White|Undisputed sovereignty}}\\n{{legend|LightCoral|Sovereignty disputed}}\\n|}\\n\\n==References==\\n{{reflist}}\\n\\n\\'\\'\\'Notes\\'\\'\\'\\n{{Reflist|group=lower-alpha}}\\n\\n{{DEFAULTSORT:countries}}\\n[[Category:Lists of countries| ]]']\n"
          ],
          "name": "stdout"
        }
      ]
    },
    {
      "cell_type": "markdown",
      "metadata": {
        "id": "Mo1j-Le3ySK6"
      },
      "source": [
        "Voici la liste final dans une variable de type [set](https://docs.python.org/2/library/sets.html)"
      ]
    },
    {
      "cell_type": "code",
      "metadata": {
        "id": "IBAi6gOTyt9O",
        "outputId": "e824e52e-551c-46cd-da44-ace8ff76734b",
        "colab": {
          "base_uri": "https://localhost:8080/"
        }
      },
      "source": [
        "import re\n",
        "\n",
        "s = str(df[df['title']=='List of countries']['text'].values)\n",
        "pattern = re.compile(r\"\\[\\[([A-Za-z0-9_ ]+)\\]\\]\")\n",
        "my_countries = set([x for x in pattern.findall(s)])\n",
        "my_countries"
      ],
      "execution_count": null,
      "outputs": [
        {
          "output_type": "execute_result",
          "data": {
            "text/plain": [
              "{'Abkhazia',\n",
              " 'Abyei Area',\n",
              " 'Aceh',\n",
              " 'Adjara',\n",
              " 'African Union',\n",
              " 'Akrotiri and Dhekelia',\n",
              " 'Ashmore and Cartier Islands',\n",
              " 'Australian Antarctic Territory',\n",
              " 'Autonomous Region in Muslim Mindanao',\n",
              " 'Azores',\n",
              " 'BBC News',\n",
              " 'Bajo Nuevo Bank',\n",
              " 'Baker Island',\n",
              " 'Barbuda',\n",
              " 'Belarus',\n",
              " 'Bhutan',\n",
              " 'Bonaire',\n",
              " 'Bouvet Island',\n",
              " 'China',\n",
              " 'China and the United Nations',\n",
              " 'Chinese Civil War',\n",
              " 'Chinese Taipei',\n",
              " 'Clipperton Island',\n",
              " 'Commonwealth of Nations',\n",
              " 'Commonwealth realm',\n",
              " 'Communist Party of China',\n",
              " 'Compact of Free Association',\n",
              " 'Comprehensive Peace Agreement',\n",
              " 'Constitution of Iceland',\n",
              " 'Coral Sea Islands Territory',\n",
              " 'Crown dependencies',\n",
              " 'Cyprus dispute',\n",
              " 'Dominion',\n",
              " 'East Jerusalem',\n",
              " 'Easter Island',\n",
              " 'Economic Cooperation Organization',\n",
              " 'Elizabeth II',\n",
              " 'England',\n",
              " 'European Union',\n",
              " 'Federal government of the United States',\n",
              " 'Federated state',\n",
              " 'Foreign relations of China',\n",
              " 'Foreign relations of Cyprus',\n",
              " 'Foreign relations of North Korea',\n",
              " 'Foreign relations of South Korea',\n",
              " 'Foreign relations of the Cook Islands',\n",
              " 'French Guiana',\n",
              " 'French Southern and Antarctic Lands',\n",
              " 'Gagauzia',\n",
              " 'Galmudug',\n",
              " 'Gaza Strip',\n",
              " 'Greenland Treaty',\n",
              " 'Guadeloupe',\n",
              " 'Guangxi',\n",
              " 'Heard Island and McDonald Islands',\n",
              " 'Holy See',\n",
              " 'Howland Island',\n",
              " 'India',\n",
              " 'Inner Mongolia',\n",
              " 'Institute for Security Studies',\n",
              " 'International Atomic Energy Agency',\n",
              " 'International Court of Justice',\n",
              " 'International Monetary Fund',\n",
              " 'Iraqi Kurdistan',\n",
              " 'Italy',\n",
              " 'Jan Mayen',\n",
              " 'Jarvis Island',\n",
              " 'Johnston Atoll',\n",
              " 'Karakalpakstan',\n",
              " 'Kashmir',\n",
              " 'Kingdom of Denmark',\n",
              " 'Kingdom of the Netherlands',\n",
              " 'Kingman Reef',\n",
              " 'Korea',\n",
              " 'Kosovo and Metohija',\n",
              " 'Kuomintang',\n",
              " 'League of Nations',\n",
              " 'List of autonomous areas by country',\n",
              " 'List of states with limited recognition',\n",
              " 'List of territorial disputes',\n",
              " 'Madeira',\n",
              " 'Martinique',\n",
              " 'Mayotte',\n",
              " 'Midway Atoll',\n",
              " 'Minnesota Journal of International Law',\n",
              " 'Mount Athos',\n",
              " 'Name of Canada',\n",
              " 'Name of the Czech Republic',\n",
              " 'Names for Iceland',\n",
              " 'Navassa Island',\n",
              " 'Nevis',\n",
              " 'Ningxia',\n",
              " 'North Kosovo',\n",
              " 'Northern Ireland',\n",
              " 'Organisation of Islamic Cooperation',\n",
              " 'Oslo Accords',\n",
              " 'Oxford University Press',\n",
              " 'Pakistan',\n",
              " 'Palestine Liberation Organization',\n",
              " 'Palestinian National Authority',\n",
              " 'Palestinian territories',\n",
              " 'Palmyra Atoll',\n",
              " 'Peter I Island',\n",
              " 'Pope',\n",
              " 'President of Iceland',\n",
              " 'Pridnestrovie',\n",
              " 'Provisional Administrative Entity of South Ossetia',\n",
              " 'Puntland',\n",
              " 'Queen Maud Land',\n",
              " 'Republic of China',\n",
              " 'Republic of Crimea',\n",
              " 'Rodrigues',\n",
              " 'Rojava',\n",
              " 'Ross Dependency',\n",
              " 'Rotuma',\n",
              " 'Russia',\n",
              " 'Saba',\n",
              " 'Saint Pierre and Miquelon',\n",
              " 'Scotland',\n",
              " 'Serranilla Bank',\n",
              " 'Sevastopol',\n",
              " 'Sint Eustatius',\n",
              " 'South Ossetia',\n",
              " 'Southern Provinces',\n",
              " 'Spratly Islands',\n",
              " 'Svalbard',\n",
              " 'Svalbard Treaty',\n",
              " 'Syrian civil war',\n",
              " 'Taipei',\n",
              " 'Taipei Times',\n",
              " 'Taiwan',\n",
              " 'The Africa Report',\n",
              " 'Tindouf',\n",
              " 'Tobago',\n",
              " 'Transnistria',\n",
              " 'Turkey',\n",
              " 'Union State',\n",
              " 'Union of South American Nations',\n",
              " 'United Nations',\n",
              " 'United Nations Interim Administration Mission in Kosovo',\n",
              " 'United Nations Security Council Resolution 1244',\n",
              " 'United Nations System',\n",
              " 'University of Minnesota Law School',\n",
              " 'University of Virginia School of Law',\n",
              " 'University of the South Pacific',\n",
              " 'Vojvodina',\n",
              " 'Wake Island',\n",
              " 'Wales',\n",
              " 'Wallis and Futuna',\n",
              " 'West Bank',\n",
              " 'Western Sahara',\n",
              " 'World Bank Group',\n",
              " 'Xinjiang',\n",
              " 'Yale Journal of International Affairs',\n",
              " 'Zaire',\n",
              " 'Zanzibar',\n",
              " 'associated state',\n",
              " 'ex officio',\n",
              " 'federation',\n",
              " 'names of the Irish state',\n",
              " 'shared sovereignty',\n",
              " 'sovereign state',\n",
              " 'supranational union'}"
            ]
          },
          "metadata": {
            "tags": []
          },
          "execution_count": 5
        }
      ]
    },
    {
      "cell_type": "markdown",
      "metadata": {
        "id": "kHsGhgIUPwSm"
      },
      "source": [
        "Une fois la liste est produite, nous pouvons rechercher des phrases avec des mentions de la liste. Voici\n",
        "le code pour rechercher des phrases qui contient des mentions des pays :"
      ]
    },
    {
      "cell_type": "code",
      "metadata": {
        "id": "Sd60AmnbPr_9",
        "outputId": "a187965a-fb66-490d-cf2e-8c6c889780c0",
        "colab": {
          "base_uri": "https://localhost:8080/"
        }
      },
      "source": [
        "def findPhrases(text,l):\n",
        " parts = str(text).split(\"\\n\")\n",
        " sentences = []\n",
        " for part in parts:\n",
        "   for val in re.finditer('[A-Z](\\w| |\\,)+\\.', part):\n",
        "     if len(val.group(0).split(\" \"))<10:\n",
        "       continue\n",
        "     for country in l:\n",
        "       if country in val.group(0):\n",
        "         sentences.append(val.group(0))\n",
        "         break\n",
        " return sentences\n",
        "\n",
        "sentences = []\n",
        "for page in list(df['text'])[:1000]:\n",
        "  sentences.extend(findPhrases(page,my_countries))\n",
        "\n",
        "sentences[:15]"
      ],
      "execution_count": null,
      "outputs": [
        {
          "output_type": "execute_result",
          "data": {
            "text/plain": [
              "['Elizabeth II greets NASA GSFC employees, May 8, 2007 edit.',\n",
              " 'Italy, and the Romans later modified the Etruscan alphabet for their own language.',\n",
              " 'In 2013, almost 60 years later, Turing received a posthumous Royal Pardon from Queen Elizabeth II.',\n",
              " 'They collected hundreds of plants to take back to England.',\n",
              " 'England needed to find a new and less populated place.',\n",
              " 'By the 1780s the gaols of England were so full that convicts were often chained up in rotting old ships.',\n",
              " 'The government decided to make a settlement in New South Wales and send some of the convicts there.',\n",
              " 'Spanish Merino sheep had been brought to Sydney, and by 1820, farmers were raising fat lambs for meat and also sending fine wool back to the factories of England.',\n",
              " 'While the settlement was growing in New South Wales, it was also growing in Tasmania.',\n",
              " 'The climate in Tasmania was more like that in England, and farmers found it easy to grow crops there.',\n",
              " 'The gold rushes of New South Wales and Victoria started in 1851 leading to large numbers of people arriving to search for gold.',\n",
              " 'London to New South Wales, Victoria, South Australia and Tasmania.',\n",
              " 'Many types of American English came from local dialects in England.',\n",
              " 'American English words to go along with its British English base and many other words from the various Indian languages.',\n",
              " 'For example, in telephone call centers in India and other places, people often learn American English to sound more like their customers who call from America.']"
            ]
          },
          "metadata": {
            "tags": []
          },
          "execution_count": 6
        }
      ]
    },
    {
      "cell_type": "code",
      "metadata": {
        "id": "YInZAcsEAx-N"
      },
      "source": [
        ""
      ],
      "execution_count": null,
      "outputs": []
    },
    {
      "cell_type": "markdown",
      "metadata": {
        "id": "4ORHciJuRmdI"
      },
      "source": [
        "#### NLTK\n",
        "NLKT est une librarie pour la reconnaisance d'entités nommées. Pour utiliser une des méthodes implémentées sur nltk, il suffit d’utiliser le code ci-dessous"
      ]
    },
    {
      "cell_type": "code",
      "metadata": {
        "id": "5LCgJ_atR3SU",
        "outputId": "d123a7ab-78db-4680-8cbf-67de3aca24ff",
        "colab": {
          "base_uri": "https://localhost:8080/"
        }
      },
      "source": [
        "import nltk\n",
        "nltk.download('punkt')\n",
        "nltk.download('averaged_perceptron_tagger')\n",
        "nltk.download('maxent_ne_chunker')\n",
        "nltk.download('words')"
      ],
      "execution_count": null,
      "outputs": [
        {
          "output_type": "stream",
          "text": [
            "[nltk_data] Downloading package punkt to /root/nltk_data...\n",
            "[nltk_data]   Unzipping tokenizers/punkt.zip.\n",
            "[nltk_data] Downloading package averaged_perceptron_tagger to\n",
            "[nltk_data]     /root/nltk_data...\n",
            "[nltk_data]   Unzipping taggers/averaged_perceptron_tagger.zip.\n",
            "[nltk_data] Downloading package maxent_ne_chunker to\n",
            "[nltk_data]     /root/nltk_data...\n",
            "[nltk_data]   Unzipping chunkers/maxent_ne_chunker.zip.\n",
            "[nltk_data] Downloading package words to /root/nltk_data...\n",
            "[nltk_data]   Unzipping corpora/words.zip.\n"
          ],
          "name": "stdout"
        },
        {
          "output_type": "execute_result",
          "data": {
            "text/plain": [
              "True"
            ]
          },
          "metadata": {
            "tags": []
          },
          "execution_count": 7
        }
      ]
    },
    {
      "cell_type": "code",
      "metadata": {
        "id": "7mS-3hvzQ7B7",
        "outputId": "f56dea0d-12cd-4da2-ae99-eceed879df12",
        "colab": {
          "base_uri": "https://localhost:8080/"
        }
      },
      "source": [
        "print(nltk.ne_chunk(nltk.pos_tag(nltk.word_tokenize(\"May has also dealt with the war in Iraq and Syria.\"))))"
      ],
      "execution_count": null,
      "outputs": [
        {
          "output_type": "stream",
          "text": [
            "(S\n",
            "  May/NNP\n",
            "  has/VBZ\n",
            "  also/RB\n",
            "  dealt/VBN\n",
            "  with/IN\n",
            "  the/DT\n",
            "  war/NN\n",
            "  in/IN\n",
            "  (GPE Iraq/NNP)\n",
            "  and/CC\n",
            "  (GSP Syria/NNP)\n",
            "  ./.)\n"
          ],
          "name": "stdout"
        }
      ]
    },
    {
      "cell_type": "markdown",
      "metadata": {
        "id": "lMsYm5SIylpR"
      },
      "source": [
        "Notez que d’abord il faut trouver les « tokens », puis faire l’étiquetage morphe-syntaxique (POS\n",
        "tagging) et finalement la reconnaissances d’entités nommées. Regardez le support du cours pour des\n",
        "explications. "
      ]
    },
    {
      "cell_type": "markdown",
      "metadata": {
        "id": "EY7fBuh0zCfl"
      },
      "source": [
        "1) Expliquez la fonctionalité et l'interêt de faire des lignes de code ci-dessous "
      ]
    },
    {
      "cell_type": "code",
      "metadata": {
        "id": "Rr6a79O3NXA5",
        "outputId": "299a9c2a-9c2a-46c5-8c77-24ff0935eec4",
        "colab": {
          "base_uri": "https://localhost:8080/"
        }
      },
      "source": [
        "nltk.download('punkt')\n",
        "nltk.download('averaged_perceptron_tagger')\n",
        "nltk.download('maxent_ne_chunker')\n",
        "nltk.download('words')"
      ],
      "execution_count": null,
      "outputs": [
        {
          "output_type": "stream",
          "text": [
            "[nltk_data] Downloading package punkt to /root/nltk_data...\n",
            "[nltk_data]   Package punkt is already up-to-date!\n",
            "[nltk_data] Downloading package averaged_perceptron_tagger to\n",
            "[nltk_data]     /root/nltk_data...\n",
            "[nltk_data]   Package averaged_perceptron_tagger is already up-to-\n",
            "[nltk_data]       date!\n",
            "[nltk_data] Downloading package maxent_ne_chunker to\n",
            "[nltk_data]     /root/nltk_data...\n",
            "[nltk_data]   Package maxent_ne_chunker is already up-to-date!\n",
            "[nltk_data] Downloading package words to /root/nltk_data...\n",
            "[nltk_data]   Package words is already up-to-date!\n"
          ],
          "name": "stdout"
        },
        {
          "output_type": "execute_result",
          "data": {
            "text/plain": [
              "True"
            ]
          },
          "metadata": {
            "tags": []
          },
          "execution_count": 9
        }
      ]
    },
    {
      "cell_type": "markdown",
      "metadata": {
        "id": "nqzuXtuDNwPd"
      },
      "source": [
        "on telecharge les packages "
      ]
    },
    {
      "cell_type": "markdown",
      "metadata": {
        "id": "CpczOUun4uZ3"
      },
      "source": [
        "'Punkt'  permet le decoupage de phrase comme un split mais plus perfomant[ il par exemple sait que les points de M. Smith et Johann S. Bach \n",
        "    ... ne marquent pas les limites des phrases. Et parfois, les phrases \n",
        "    ... peuvent commencer par des mots non capitalisés. i est un bon \n",
        "    nom de \n",
        "variable . ]\n",
        "\n",
        "'averaged_perceptron_tagger' est le processus qui consiste à associer aux mots d'un texte les informations grammaticales correspondantes (Étiquetage)\n",
        "\n",
        "\n",
        "'maxent_ne_chunker' contient deux blocs d'entités nommées anglais pré-entraînés formés sur un corpus ACE. Il chargera un objet nltk.chunk.named_entity.NEChunkParser et il sera utilisé par la fonction nltk.ne_chunk ().\n",
        "\n",
        "'word' il decoupe les phrases en plusieurs mots "
      ]
    },
    {
      "cell_type": "code",
      "metadata": {
        "id": "A8mn5lPtNXeG",
        "outputId": "07c8f3c4-3c42-49e4-b014-dd6e56133c14",
        "colab": {
          "base_uri": "https://localhost:8080/"
        }
      },
      "source": [
        "print(nltk.ne_chunk(nltk.pos_tag(\"May has also dealt with the war in Iraq and Syria.\".split())))"
      ],
      "execution_count": null,
      "outputs": [
        {
          "output_type": "stream",
          "text": [
            "(S\n",
            "  May/NNP\n",
            "  has/VBZ\n",
            "  also/RB\n",
            "  dealt/VBN\n",
            "  with/IN\n",
            "  the/DT\n",
            "  war/NN\n",
            "  in/IN\n",
            "  (GPE Iraq/NNP)\n",
            "  and/CC\n",
            "  Syria./NNP)\n"
          ],
          "name": "stdout"
        }
      ]
    },
    {
      "cell_type": "markdown",
      "metadata": {
        "id": "lcL3NytRSlBy"
      },
      "source": [
        "2) Pourquoi le code marche sachant que la fonctionne ``` nltk.word_tokenize ``` n'est pas appelée ? Expliquez les différences entre les résultats obtenues par ``` nltk.word_tokenize ``` et ``` split() ```."
      ]
    },
    {
      "cell_type": "code",
      "metadata": {
        "id": "hVwFsVmk268_",
        "outputId": "a4f1b251-54d7-4879-bbea-dd2b1aceb22b",
        "colab": {
          "base_uri": "https://localhost:8080/"
        }
      },
      "source": [
        "print(nltk.word_tokenize(\"May has also dealt with the war in Iraq and Syria.\"))\n",
        "print((\"May has also dealt with the war in Iraq and Syria.\").split())"
      ],
      "execution_count": null,
      "outputs": [
        {
          "output_type": "stream",
          "text": [
            "['May', 'has', 'also', 'dealt', 'with', 'the', 'war', 'in', 'Iraq', 'and', 'Syria', '.']\n",
            "['May', 'has', 'also', 'dealt', 'with', 'the', 'war', 'in', 'Iraq', 'and', 'Syria.']\n"
          ],
          "name": "stdout"
        }
      ]
    },
    {
      "cell_type": "markdown",
      "metadata": {
        "id": "ORA-XN5JnsnE"
      },
      "source": [
        "ce code marche car tokenize et split on la meme fonctionnaalite qui est le decoupage d'une phrase en plusieurs mots . \n",
        "mais tokenize est plus perfomant car il est entrainé à mieux reconnaitre la limite d'une entité.\n"
      ]
    },
    {
      "cell_type": "markdown",
      "metadata": {
        "id": "J4S3iHVxzG1U"
      },
      "source": [
        "3) Pourquoi le code\n"
      ]
    },
    {
      "cell_type": "code",
      "metadata": {
        "id": "s5Ntxf90NX-v",
        "outputId": "766bd00a-f8e1-4d64-afb0-5a746ae4d0f4",
        "colab": {
          "base_uri": "https://localhost:8080/",
          "height": 313
        }
      },
      "source": [
        "print(nltk.ne_chunk(nltk.word_tokenize(\"May has also dealt with the war in Iraq and Syria.\")))"
      ],
      "execution_count": null,
      "outputs": [
        {
          "output_type": "error",
          "ename": "IndexError",
          "evalue": "ignored",
          "traceback": [
            "\u001b[0;31m---------------------------------------------------------------------------\u001b[0m",
            "\u001b[0;31mIndexError\u001b[0m                                Traceback (most recent call last)",
            "\u001b[0;32m<ipython-input-12-e88d43e940ac>\u001b[0m in \u001b[0;36m<module>\u001b[0;34m()\u001b[0m\n\u001b[0;32m----> 1\u001b[0;31m \u001b[0mprint\u001b[0m\u001b[0;34m(\u001b[0m\u001b[0mnltk\u001b[0m\u001b[0;34m.\u001b[0m\u001b[0mne_chunk\u001b[0m\u001b[0;34m(\u001b[0m\u001b[0mnltk\u001b[0m\u001b[0;34m.\u001b[0m\u001b[0mword_tokenize\u001b[0m\u001b[0;34m(\u001b[0m\u001b[0;34m\"May has also dealt with the war in Iraq and Syria.\"\u001b[0m\u001b[0;34m)\u001b[0m\u001b[0;34m)\u001b[0m\u001b[0;34m)\u001b[0m\u001b[0;34m\u001b[0m\u001b[0;34m\u001b[0m\u001b[0m\n\u001b[0m",
            "\u001b[0;32m/usr/local/lib/python3.6/dist-packages/nltk/chunk/__init__.py\u001b[0m in \u001b[0;36mne_chunk\u001b[0;34m(tagged_tokens, binary)\u001b[0m\n\u001b[1;32m    175\u001b[0m         \u001b[0mchunker_pickle\u001b[0m \u001b[0;34m=\u001b[0m \u001b[0m_MULTICLASS_NE_CHUNKER\u001b[0m\u001b[0;34m\u001b[0m\u001b[0;34m\u001b[0m\u001b[0m\n\u001b[1;32m    176\u001b[0m     \u001b[0mchunker\u001b[0m \u001b[0;34m=\u001b[0m \u001b[0mload\u001b[0m\u001b[0;34m(\u001b[0m\u001b[0mchunker_pickle\u001b[0m\u001b[0;34m)\u001b[0m\u001b[0;34m\u001b[0m\u001b[0;34m\u001b[0m\u001b[0m\n\u001b[0;32m--> 177\u001b[0;31m     \u001b[0;32mreturn\u001b[0m \u001b[0mchunker\u001b[0m\u001b[0;34m.\u001b[0m\u001b[0mparse\u001b[0m\u001b[0;34m(\u001b[0m\u001b[0mtagged_tokens\u001b[0m\u001b[0;34m)\u001b[0m\u001b[0;34m\u001b[0m\u001b[0;34m\u001b[0m\u001b[0m\n\u001b[0m\u001b[1;32m    178\u001b[0m \u001b[0;34m\u001b[0m\u001b[0m\n\u001b[1;32m    179\u001b[0m \u001b[0;32mdef\u001b[0m \u001b[0mne_chunk_sents\u001b[0m\u001b[0;34m(\u001b[0m\u001b[0mtagged_sentences\u001b[0m\u001b[0;34m,\u001b[0m \u001b[0mbinary\u001b[0m\u001b[0;34m=\u001b[0m\u001b[0;32mFalse\u001b[0m\u001b[0;34m)\u001b[0m\u001b[0;34m:\u001b[0m\u001b[0;34m\u001b[0m\u001b[0;34m\u001b[0m\u001b[0m\n",
            "\u001b[0;32m/usr/local/lib/python3.6/dist-packages/nltk/chunk/named_entity.py\u001b[0m in \u001b[0;36mparse\u001b[0;34m(self, tokens)\u001b[0m\n\u001b[1;32m    120\u001b[0m         \u001b[0mEach\u001b[0m \u001b[0mtoken\u001b[0m \u001b[0mshould\u001b[0m \u001b[0mbe\u001b[0m \u001b[0ma\u001b[0m \u001b[0mpos\u001b[0m\u001b[0;34m-\u001b[0m\u001b[0mtagged\u001b[0m \u001b[0mword\u001b[0m\u001b[0;34m\u001b[0m\u001b[0;34m\u001b[0m\u001b[0m\n\u001b[1;32m    121\u001b[0m         \"\"\"\n\u001b[0;32m--> 122\u001b[0;31m         \u001b[0mtagged\u001b[0m \u001b[0;34m=\u001b[0m \u001b[0mself\u001b[0m\u001b[0;34m.\u001b[0m\u001b[0m_tagger\u001b[0m\u001b[0;34m.\u001b[0m\u001b[0mtag\u001b[0m\u001b[0;34m(\u001b[0m\u001b[0mtokens\u001b[0m\u001b[0;34m)\u001b[0m\u001b[0;34m\u001b[0m\u001b[0;34m\u001b[0m\u001b[0m\n\u001b[0m\u001b[1;32m    123\u001b[0m         \u001b[0mtree\u001b[0m \u001b[0;34m=\u001b[0m \u001b[0mself\u001b[0m\u001b[0;34m.\u001b[0m\u001b[0m_tagged_to_parse\u001b[0m\u001b[0;34m(\u001b[0m\u001b[0mtagged\u001b[0m\u001b[0;34m)\u001b[0m\u001b[0;34m\u001b[0m\u001b[0;34m\u001b[0m\u001b[0m\n\u001b[1;32m    124\u001b[0m         \u001b[0;32mreturn\u001b[0m \u001b[0mtree\u001b[0m\u001b[0;34m\u001b[0m\u001b[0;34m\u001b[0m\u001b[0m\n",
            "\u001b[0;32m/usr/local/lib/python3.6/dist-packages/nltk/tag/sequential.py\u001b[0m in \u001b[0;36mtag\u001b[0;34m(self, tokens)\u001b[0m\n\u001b[1;32m     61\u001b[0m         \u001b[0mtags\u001b[0m \u001b[0;34m=\u001b[0m \u001b[0;34m[\u001b[0m\u001b[0;34m]\u001b[0m\u001b[0;34m\u001b[0m\u001b[0;34m\u001b[0m\u001b[0m\n\u001b[1;32m     62\u001b[0m         \u001b[0;32mfor\u001b[0m \u001b[0mi\u001b[0m \u001b[0;32min\u001b[0m \u001b[0mrange\u001b[0m\u001b[0;34m(\u001b[0m\u001b[0mlen\u001b[0m\u001b[0;34m(\u001b[0m\u001b[0mtokens\u001b[0m\u001b[0;34m)\u001b[0m\u001b[0;34m)\u001b[0m\u001b[0;34m:\u001b[0m\u001b[0;34m\u001b[0m\u001b[0;34m\u001b[0m\u001b[0m\n\u001b[0;32m---> 63\u001b[0;31m             \u001b[0mtags\u001b[0m\u001b[0;34m.\u001b[0m\u001b[0mappend\u001b[0m\u001b[0;34m(\u001b[0m\u001b[0mself\u001b[0m\u001b[0;34m.\u001b[0m\u001b[0mtag_one\u001b[0m\u001b[0;34m(\u001b[0m\u001b[0mtokens\u001b[0m\u001b[0;34m,\u001b[0m \u001b[0mi\u001b[0m\u001b[0;34m,\u001b[0m \u001b[0mtags\u001b[0m\u001b[0;34m)\u001b[0m\u001b[0;34m)\u001b[0m\u001b[0;34m\u001b[0m\u001b[0;34m\u001b[0m\u001b[0m\n\u001b[0m\u001b[1;32m     64\u001b[0m         \u001b[0;32mreturn\u001b[0m \u001b[0mlist\u001b[0m\u001b[0;34m(\u001b[0m\u001b[0mzip\u001b[0m\u001b[0;34m(\u001b[0m\u001b[0mtokens\u001b[0m\u001b[0;34m,\u001b[0m \u001b[0mtags\u001b[0m\u001b[0;34m)\u001b[0m\u001b[0;34m)\u001b[0m\u001b[0;34m\u001b[0m\u001b[0;34m\u001b[0m\u001b[0m\n\u001b[1;32m     65\u001b[0m \u001b[0;34m\u001b[0m\u001b[0m\n",
            "\u001b[0;32m/usr/local/lib/python3.6/dist-packages/nltk/tag/sequential.py\u001b[0m in \u001b[0;36mtag_one\u001b[0;34m(self, tokens, index, history)\u001b[0m\n\u001b[1;32m     81\u001b[0m         \u001b[0mtag\u001b[0m \u001b[0;34m=\u001b[0m \u001b[0;32mNone\u001b[0m\u001b[0;34m\u001b[0m\u001b[0;34m\u001b[0m\u001b[0m\n\u001b[1;32m     82\u001b[0m         \u001b[0;32mfor\u001b[0m \u001b[0mtagger\u001b[0m \u001b[0;32min\u001b[0m \u001b[0mself\u001b[0m\u001b[0;34m.\u001b[0m\u001b[0m_taggers\u001b[0m\u001b[0;34m:\u001b[0m\u001b[0;34m\u001b[0m\u001b[0;34m\u001b[0m\u001b[0m\n\u001b[0;32m---> 83\u001b[0;31m             \u001b[0mtag\u001b[0m \u001b[0;34m=\u001b[0m \u001b[0mtagger\u001b[0m\u001b[0;34m.\u001b[0m\u001b[0mchoose_tag\u001b[0m\u001b[0;34m(\u001b[0m\u001b[0mtokens\u001b[0m\u001b[0;34m,\u001b[0m \u001b[0mindex\u001b[0m\u001b[0;34m,\u001b[0m \u001b[0mhistory\u001b[0m\u001b[0;34m)\u001b[0m\u001b[0;34m\u001b[0m\u001b[0;34m\u001b[0m\u001b[0m\n\u001b[0m\u001b[1;32m     84\u001b[0m             \u001b[0;32mif\u001b[0m \u001b[0mtag\u001b[0m \u001b[0;32mis\u001b[0m \u001b[0;32mnot\u001b[0m \u001b[0;32mNone\u001b[0m\u001b[0;34m:\u001b[0m\u001b[0;34m\u001b[0m\u001b[0;34m\u001b[0m\u001b[0m\n\u001b[1;32m     85\u001b[0m                 \u001b[0;32mbreak\u001b[0m\u001b[0;34m\u001b[0m\u001b[0;34m\u001b[0m\u001b[0m\n",
            "\u001b[0;32m/usr/local/lib/python3.6/dist-packages/nltk/tag/sequential.py\u001b[0m in \u001b[0;36mchoose_tag\u001b[0;34m(self, tokens, index, history)\u001b[0m\n\u001b[1;32m    630\u001b[0m     \u001b[0;32mdef\u001b[0m \u001b[0mchoose_tag\u001b[0m\u001b[0;34m(\u001b[0m\u001b[0mself\u001b[0m\u001b[0;34m,\u001b[0m \u001b[0mtokens\u001b[0m\u001b[0;34m,\u001b[0m \u001b[0mindex\u001b[0m\u001b[0;34m,\u001b[0m \u001b[0mhistory\u001b[0m\u001b[0;34m)\u001b[0m\u001b[0;34m:\u001b[0m\u001b[0;34m\u001b[0m\u001b[0;34m\u001b[0m\u001b[0m\n\u001b[1;32m    631\u001b[0m         \u001b[0;31m# Use our feature detector to get the featureset.\u001b[0m\u001b[0;34m\u001b[0m\u001b[0;34m\u001b[0m\u001b[0;34m\u001b[0m\u001b[0m\n\u001b[0;32m--> 632\u001b[0;31m         \u001b[0mfeatureset\u001b[0m \u001b[0;34m=\u001b[0m \u001b[0mself\u001b[0m\u001b[0;34m.\u001b[0m\u001b[0mfeature_detector\u001b[0m\u001b[0;34m(\u001b[0m\u001b[0mtokens\u001b[0m\u001b[0;34m,\u001b[0m \u001b[0mindex\u001b[0m\u001b[0;34m,\u001b[0m \u001b[0mhistory\u001b[0m\u001b[0;34m)\u001b[0m\u001b[0;34m\u001b[0m\u001b[0;34m\u001b[0m\u001b[0m\n\u001b[0m\u001b[1;32m    633\u001b[0m \u001b[0;34m\u001b[0m\u001b[0m\n\u001b[1;32m    634\u001b[0m         \u001b[0;31m# Use the classifier to pick a tag.  If a cutoff probability\u001b[0m\u001b[0;34m\u001b[0m\u001b[0;34m\u001b[0m\u001b[0;34m\u001b[0m\u001b[0m\n",
            "\u001b[0;32m/usr/local/lib/python3.6/dist-packages/nltk/tag/sequential.py\u001b[0m in \u001b[0;36mfeature_detector\u001b[0;34m(self, tokens, index, history)\u001b[0m\n\u001b[1;32m    678\u001b[0m         \u001b[0mSee\u001b[0m\u001b[0;31m \u001b[0m\u001b[0;31m`\u001b[0m\u001b[0;31m`\u001b[0m\u001b[0mclassifier\u001b[0m\u001b[0;34m(\u001b[0m\u001b[0;34m)\u001b[0m\u001b[0;31m`\u001b[0m\u001b[0;31m`\u001b[0m\u001b[0;34m\u001b[0m\u001b[0;34m\u001b[0m\u001b[0m\n\u001b[1;32m    679\u001b[0m         \"\"\"\n\u001b[0;32m--> 680\u001b[0;31m         \u001b[0;32mreturn\u001b[0m \u001b[0mself\u001b[0m\u001b[0;34m.\u001b[0m\u001b[0m_feature_detector\u001b[0m\u001b[0;34m(\u001b[0m\u001b[0mtokens\u001b[0m\u001b[0;34m,\u001b[0m \u001b[0mindex\u001b[0m\u001b[0;34m,\u001b[0m \u001b[0mhistory\u001b[0m\u001b[0;34m)\u001b[0m\u001b[0;34m\u001b[0m\u001b[0;34m\u001b[0m\u001b[0m\n\u001b[0m\u001b[1;32m    681\u001b[0m \u001b[0;34m\u001b[0m\u001b[0m\n\u001b[1;32m    682\u001b[0m     \u001b[0;32mdef\u001b[0m \u001b[0mclassifier\u001b[0m\u001b[0;34m(\u001b[0m\u001b[0mself\u001b[0m\u001b[0;34m)\u001b[0m\u001b[0;34m:\u001b[0m\u001b[0;34m\u001b[0m\u001b[0;34m\u001b[0m\u001b[0m\n",
            "\u001b[0;32m/usr/local/lib/python3.6/dist-packages/nltk/chunk/named_entity.py\u001b[0m in \u001b[0;36m_feature_detector\u001b[0;34m(self, tokens, index, history)\u001b[0m\n\u001b[1;32m     85\u001b[0m             \u001b[0mnextpos\u001b[0m \u001b[0;34m=\u001b[0m \u001b[0mtokens\u001b[0m\u001b[0;34m[\u001b[0m\u001b[0mindex\u001b[0m\u001b[0;34m+\u001b[0m\u001b[0;36m1\u001b[0m\u001b[0;34m]\u001b[0m\u001b[0;34m[\u001b[0m\u001b[0;36m1\u001b[0m\u001b[0;34m]\u001b[0m\u001b[0;34m.\u001b[0m\u001b[0mlower\u001b[0m\u001b[0;34m(\u001b[0m\u001b[0;34m)\u001b[0m\u001b[0;34m\u001b[0m\u001b[0;34m\u001b[0m\u001b[0m\n\u001b[1;32m     86\u001b[0m             \u001b[0mnextnextword\u001b[0m \u001b[0;34m=\u001b[0m \u001b[0mtokens\u001b[0m\u001b[0;34m[\u001b[0m\u001b[0mindex\u001b[0m\u001b[0;34m+\u001b[0m\u001b[0;36m2\u001b[0m\u001b[0;34m]\u001b[0m\u001b[0;34m[\u001b[0m\u001b[0;36m0\u001b[0m\u001b[0;34m]\u001b[0m\u001b[0;34m.\u001b[0m\u001b[0mlower\u001b[0m\u001b[0;34m(\u001b[0m\u001b[0;34m)\u001b[0m\u001b[0;34m\u001b[0m\u001b[0;34m\u001b[0m\u001b[0m\n\u001b[0;32m---> 87\u001b[0;31m             \u001b[0mnextnextpos\u001b[0m \u001b[0;34m=\u001b[0m \u001b[0mtokens\u001b[0m\u001b[0;34m[\u001b[0m\u001b[0mindex\u001b[0m\u001b[0;34m+\u001b[0m\u001b[0;36m2\u001b[0m\u001b[0;34m]\u001b[0m\u001b[0;34m[\u001b[0m\u001b[0;36m1\u001b[0m\u001b[0;34m]\u001b[0m\u001b[0;34m.\u001b[0m\u001b[0mlower\u001b[0m\u001b[0;34m(\u001b[0m\u001b[0;34m)\u001b[0m\u001b[0;34m\u001b[0m\u001b[0;34m\u001b[0m\u001b[0m\n\u001b[0m\u001b[1;32m     88\u001b[0m \u001b[0;34m\u001b[0m\u001b[0m\n\u001b[1;32m     89\u001b[0m         \u001b[0;31m# 89.6\u001b[0m\u001b[0;34m\u001b[0m\u001b[0;34m\u001b[0m\u001b[0;34m\u001b[0m\u001b[0m\n",
            "\u001b[0;31mIndexError\u001b[0m: string index out of range"
          ]
        }
      ]
    },
    {
      "cell_type": "markdown",
      "metadata": {
        "id": "OUV5KWYIS5TK"
      },
      "source": [
        "ne marche pas (un erreur est généré) ? Pourquoi faut-il utiliser ``` \n",
        "\n",
        "---\n",
        "\n",
        "nltk.pos_tag ``` ?"
      ]
    },
    {
      "cell_type": "markdown",
      "metadata": {
        "id": "_KnBkdrioYjl"
      },
      "source": [
        "ltk.ne_chunk est tjr associé à la fonction nltk.pos_tag car  il prend en parametre  tagged_tokens qui est un tuple de l'entite et son ettiquette (tag).\n"
      ]
    },
    {
      "cell_type": "markdown",
      "metadata": {
        "id": "pD0RSnwU8Dox"
      },
      "source": [
        "**fonction ne_chunk**\n",
        "\n",
        "\n",
        "ne_chunk ( tagged_tokens ,  binaire = False ):\n",
        "\n",
        "  si  binaire : \n",
        "        chunker_pickle  =  _BINARY_NE_CHUNKER \n",
        "    autre : \n",
        "        chunker_pickle  =  _MULTICLASS_NE_CHUNKER \n",
        "    chunker  =  charge ( chunker_pickle ) \n",
        "    retour  chunker . analyser ( tagged_tokens )"
      ]
    },
    {
      "cell_type": "markdown",
      "metadata": {
        "id": "NXN9IieLzJRW"
      },
      "source": [
        "4) Quel type d'algorithme de reconnaissances d’entités nommées \n",
        "\n",
        "---\n",
        "\n",
        "(classification, séquences, etc.) qui est implémenté par la méthode ne_chunk ?\n",
        "Justifiez la réponse."
      ]
    },
    {
      "cell_type": "markdown",
      "metadata": {
        "id": "HRJhZFNQ8NGI"
      },
      "source": [
        "cest un programme classifeur , car il  fragmente la liste donnée de jetons étiquetés.\n",
        "\n"
      ]
    },
    {
      "cell_type": "markdown",
      "metadata": {
        "id": "KG3wUOvzTA1V"
      },
      "source": [
        "5) Modifiez le code pour pouvoir appliquer la reconnaissance d’entités à toutes les phrases dans la variable ``` sentences ```. Dans quels cas ne_chunk ne marche pas ?\n",
        "```\n",
        "print(nltk.ne_chunk(nltk.pos_tag(nltk.word_tokenize(\"May has also dealt with the war in Iraq and Syria.\"))))\n",
        "\n",
        "```\n",
        " "
      ]
    },
    {
      "cell_type": "code",
      "metadata": {
        "id": "ATKcJqp79CNq"
      },
      "source": [
        "for sentence in sentences :\n",
        "  print(nltk.ne_chunk(nltk.pos_tag(nltk.word_tokenize(sentence))))"
      ],
      "execution_count": null,
      "outputs": []
    },
    {
      "cell_type": "markdown",
      "metadata": {
        "id": "it_dh3mR0Cb6"
      },
      "source": [
        "ne_chunk ne marche pas qd "
      ]
    },
    {
      "cell_type": "markdown",
      "metadata": {
        "id": "nd5_zWHLTA3-"
      },
      "source": [
        "6) Utilisez ``` ne_chuck ``` pour faire la reconnaissance d’entités nommées sur des pages complètes.\n",
        "Comparez les résultats entre pages de nature différent (Pays vs Personne, par exemple France vs Barack Obama). Trouver vous des différences\n",
        "significatives entre les frequences d'entités par type ?"
      ]
    },
    {
      "cell_type": "markdown",
      "metadata": {
        "id": "kS_8Vt_r-OyM"
      },
      "source": [
        ""
      ]
    },
    {
      "cell_type": "code",
      "metadata": {
        "id": "SE4M_I3--Vco"
      },
      "source": [
        "Obama=df[df['title']=='Barack Obama']['text'].values\n",
        "France=df[df['title']=='France']['text'].values"
      ],
      "execution_count": null,
      "outputs": []
    },
    {
      "cell_type": "code",
      "metadata": {
        "id": "KIAZJ9klA1qu"
      },
      "source": [
        "def findPhrases2(text):\n",
        " parts = str(text).split(\"\\n\")\n",
        " sentences = []\n",
        " for part in parts:\n",
        "   for val in re.finditer('[A-Z](\\w| |\\,)+\\.', part):\n",
        "     if len(val.group(0).split(\" \"))<10: \n",
        "       sentences.append(val.group(0))\n",
        "\n",
        " return sentences\n"
      ],
      "execution_count": null,
      "outputs": []
    },
    {
      "cell_type": "code",
      "metadata": {
        "id": "1NPAAzy1BYno"
      },
      "source": [
        "ObamaSentences=findPhrases2(str(Obama))\n",
        "ObamaSentences\n",
        "compteurO=0\n",
        "DictObama={}\n",
        "for sentence in ObamaSentences:\n",
        "  val=nltk.ne_chunk(nltk.pos_tag(nltk.word_tokenize(sentence))).pos()\n",
        "  for valeur in val :\n",
        "    compteurO+=1\n",
        "    if (valeur[1] not in DictObama):\n",
        "      DictObama[valeur[1]]=1\n",
        "    else:\n",
        "      DictObama[valeur[1]]+=1\n",
        "\n",
        "print(DictObama)\n",
        "\n",
        "for i in DictObama.keys():\n",
        "  DictObama[i]=DictObama[i]*100/compteurO\n",
        "print(DictObama)\n"
      ],
      "execution_count": null,
      "outputs": []
    },
    {
      "cell_type": "code",
      "metadata": {
        "id": "q8CIoBnK1Hu4"
      },
      "source": [
        "DictFrance={}\n",
        "FranceSentences=findPhrases2(str(France))\n",
        "compteurF=0\n",
        "for sentence in FranceSentences:\n",
        "  val=nltk.ne_chunk(nltk.pos_tag(nltk.word_tokenize(sentence))).pos()\n",
        "  for valeur in val :\n",
        "    compteurF+=1\n",
        "    if (valeur[1] not in DictFrance):\n",
        "      DictFrance[valeur[1]]=1\n",
        "    else:\n",
        "      DictFrance[valeur[1]]+=1\n",
        "\n",
        "print(DictFrance)\n",
        "for i in DictFrance.keys():\n",
        "  DictFrance[i]=DictFrance[i]*100/compteurF\n",
        "print(DictFrance)\n"
      ],
      "execution_count": null,
      "outputs": []
    },
    {
      "cell_type": "code",
      "metadata": {
        "id": "xA-e6B5954tx"
      },
      "source": [
        ""
      ],
      "execution_count": null,
      "outputs": []
    },
    {
      "cell_type": "markdown",
      "metadata": {
        "id": "d3bw81-HDBiB"
      },
      "source": [
        "on remarque que la frequence de "
      ]
    },
    {
      "cell_type": "code",
      "metadata": {
        "id": "O98tKg2C51BK"
      },
      "source": [
        ""
      ],
      "execution_count": null,
      "outputs": []
    },
    {
      "cell_type": "markdown",
      "metadata": {
        "id": "W4AlboKPTA6-"
      },
      "source": [
        "7) Utilisez les instructions sur https://stanfordnlp.github.io/stanza/ pour\n",
        "installer/utiliser le système de reconnaissances d’entités nommées de stanford. Appliquez le modèle sur les phrases que vous avez\n",
        " dans la variable ``` sentences ``` et comparez les résultats obtenus avec ``` ne_chunck ```  de NLTK. Trouvez-vous des\n",
        "différences ? Quel facteur a peut les générer ?"
      ]
    },
    {
      "cell_type": "code",
      "metadata": {
        "id": "sc2Oh4-FX2PE"
      },
      "source": [
        "!pip install stanza"
      ],
      "execution_count": null,
      "outputs": []
    },
    {
      "cell_type": "code",
      "metadata": {
        "id": "JhtcPg8jEDfH"
      },
      "source": [
        "import stanza\n",
        "stanza.download('en') # download English model\n"
      ],
      "execution_count": null,
      "outputs": []
    },
    {
      "cell_type": "code",
      "metadata": {
        "id": "6EsveotZE6fF"
      },
      "source": [
        "nlp = stanza.Pipeline('en') # initialize English neural pipeline\n"
      ],
      "execution_count": null,
      "outputs": []
    },
    {
      "cell_type": "code",
      "metadata": {
        "id": "TLNbwDEJMIEE"
      },
      "source": [
        "DictObama2={}\n",
        "compteur=0\n",
        "for sentence in ObamaSentences:\n",
        "  doc=nlp(sentence)\n",
        "  for val in doc.entities:\n",
        "    compteur+=1\n",
        "    if val.type not in DictObama2:\n",
        "        DictObama2[val.type]=1\n",
        "    else:\n",
        "        DictObama2[val.type]+=1\n",
        "\n",
        "for i in DictObama2.keys():\n",
        "  DictObama2[i]=DictObama2[i]*100/compteur\n",
        "\n",
        "\n",
        "print(\"methode chunk\",DictObama)\n",
        "print(\"methode STANZA\",DictObama2)\n",
        "\n"
      ],
      "execution_count": null,
      "outputs": []
    },
    {
      "cell_type": "markdown",
      "metadata": {
        "id": "bEvaLci5TA9n"
      },
      "source": [
        "8) Après vos expériences avec ``` ne_chunk ``` et ``` Stanza ```. Listez les gros lignes pour\n",
        "implémenter un système statistique pour le NER."
      ]
    },
    {
      "cell_type": "code",
      "metadata": {
        "id": "Vgv1hflkFzME"
      },
      "source": [
        ""
      ],
      "execution_count": null,
      "outputs": []
    },
    {
      "cell_type": "code",
      "metadata": {
        "id": "yZk-QgjCF23w"
      },
      "source": [
        ""
      ],
      "execution_count": null,
      "outputs": []
    }
  ]
}